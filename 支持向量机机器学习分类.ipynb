{
 "cells": [
  {
   "cell_type": "code",
   "execution_count": 69,
   "id": "30db431a",
   "metadata": {},
   "outputs": [],
   "source": [
    "import pandas as pd\n",
    "import re\n",
    "import nltk\n",
    "from nltk.corpus import stopwords\n",
    "from nltk.tokenize import word_tokenize"
   ]
  },
  {
   "cell_type": "code",
   "execution_count": 70,
   "id": "0593f1e9",
   "metadata": {},
   "outputs": [],
   "source": [
    "file_path = '/Users/shiwei/Desktop/Clickbait.csv'"
   ]
  },
  {
   "cell_type": "code",
   "execution_count": 71,
   "id": "76b582b0",
   "metadata": {},
   "outputs": [],
   "source": [
    "df = pd.read_csv(file_path)"
   ]
  },
  {
   "cell_type": "code",
   "execution_count": 72,
   "id": "44519684",
   "metadata": {},
   "outputs": [
    {
     "data": {
      "text/html": [
       "<div>\n",
       "<style scoped>\n",
       "    .dataframe tbody tr th:only-of-type {\n",
       "        vertical-align: middle;\n",
       "    }\n",
       "\n",
       "    .dataframe tbody tr th {\n",
       "        vertical-align: top;\n",
       "    }\n",
       "\n",
       "    .dataframe thead th {\n",
       "        text-align: right;\n",
       "    }\n",
       "</style>\n",
       "<table border=\"1\" class=\"dataframe\">\n",
       "  <thead>\n",
       "    <tr style=\"text-align: right;\">\n",
       "      <th></th>\n",
       "      <th>title</th>\n",
       "      <th>label</th>\n",
       "    </tr>\n",
       "  </thead>\n",
       "  <tbody>\n",
       "    <tr>\n",
       "      <th>0</th>\n",
       "      <td>15 Highly Important Questions About Adulthood,...</td>\n",
       "      <td>clickbait</td>\n",
       "    </tr>\n",
       "    <tr>\n",
       "      <th>1</th>\n",
       "      <td>250 Nuns Just Cycled All The Way From Kathmand...</td>\n",
       "      <td>clickbait</td>\n",
       "    </tr>\n",
       "    <tr>\n",
       "      <th>2</th>\n",
       "      <td>Australian comedians \"could have been shot\" du...</td>\n",
       "      <td>not-clickbait</td>\n",
       "    </tr>\n",
       "    <tr>\n",
       "      <th>3</th>\n",
       "      <td>Lycos launches screensaver to increase spammer...</td>\n",
       "      <td>not-clickbait</td>\n",
       "    </tr>\n",
       "    <tr>\n",
       "      <th>4</th>\n",
       "      <td>Fußball-Bundesliga 2008–09: Goalkeeper Butt si...</td>\n",
       "      <td>not-clickbait</td>\n",
       "    </tr>\n",
       "    <tr>\n",
       "      <th>...</th>\n",
       "      <td>...</td>\n",
       "      <td>...</td>\n",
       "    </tr>\n",
       "    <tr>\n",
       "      <th>9995</th>\n",
       "      <td>Which Celebrity Should Actually Be Your Valentine</td>\n",
       "      <td>clickbait</td>\n",
       "    </tr>\n",
       "    <tr>\n",
       "      <th>9996</th>\n",
       "      <td>New Orleans DirectNIC Offices, 'Outpost Crysta...</td>\n",
       "      <td>not-clickbait</td>\n",
       "    </tr>\n",
       "    <tr>\n",
       "      <th>9997</th>\n",
       "      <td>Poll: Do You Actually Work For The First Order</td>\n",
       "      <td>clickbait</td>\n",
       "    </tr>\n",
       "    <tr>\n",
       "      <th>9998</th>\n",
       "      <td>Steady Guard Guides Spartans Past Kansas</td>\n",
       "      <td>not-clickbait</td>\n",
       "    </tr>\n",
       "    <tr>\n",
       "      <th>9999</th>\n",
       "      <td>South Thailand insurgents blamed for five bombs</td>\n",
       "      <td>not-clickbait</td>\n",
       "    </tr>\n",
       "  </tbody>\n",
       "</table>\n",
       "<p>10000 rows × 2 columns</p>\n",
       "</div>"
      ],
      "text/plain": [
       "                                                  title          label\n",
       "0     15 Highly Important Questions About Adulthood,...      clickbait\n",
       "1     250 Nuns Just Cycled All The Way From Kathmand...      clickbait\n",
       "2     Australian comedians \"could have been shot\" du...  not-clickbait\n",
       "3     Lycos launches screensaver to increase spammer...  not-clickbait\n",
       "4     Fußball-Bundesliga 2008–09: Goalkeeper Butt si...  not-clickbait\n",
       "...                                                 ...            ...\n",
       "9995  Which Celebrity Should Actually Be Your Valentine      clickbait\n",
       "9996  New Orleans DirectNIC Offices, 'Outpost Crysta...  not-clickbait\n",
       "9997     Poll: Do You Actually Work For The First Order      clickbait\n",
       "9998           Steady Guard Guides Spartans Past Kansas  not-clickbait\n",
       "9999    South Thailand insurgents blamed for five bombs  not-clickbait\n",
       "\n",
       "[10000 rows x 2 columns]"
      ]
     },
     "execution_count": 72,
     "metadata": {},
     "output_type": "execute_result"
    }
   ],
   "source": [
    "df"
   ]
  },
  {
   "cell_type": "code",
   "execution_count": 73,
   "id": "5646d3c8",
   "metadata": {},
   "outputs": [],
   "source": [
    "# 文本清洗函数\n",
    "def clean_text(text):\n",
    "    # 转换为小写\n",
    "    text = text.lower()\n",
    "    # 去除网址\n",
    "    text = re.sub(r'http\\S+|www\\S+|https\\S+', '', text)\n",
    "    # 去除标签和提及\n",
    "    text = re.sub(r'@[\\w]*', '', text)\n",
    "    text = re.sub(r'#[\\w]*', '', text)\n",
    "    # 去除特殊字符和标点符号\n",
    "    text = re.sub(r'[^a-zA-Z\\s]', '', text)\n",
    "    return text"
   ]
  },
  {
   "cell_type": "code",
   "execution_count": 74,
   "id": "7978e7c9",
   "metadata": {},
   "outputs": [],
   "source": [
    "# 应用文本清洗函数\n",
    "df['title'] = df['title'].apply(clean_text)"
   ]
  },
  {
   "cell_type": "code",
   "execution_count": 75,
   "id": "bff501dc",
   "metadata": {},
   "outputs": [
    {
     "data": {
      "text/html": [
       "<div>\n",
       "<style scoped>\n",
       "    .dataframe tbody tr th:only-of-type {\n",
       "        vertical-align: middle;\n",
       "    }\n",
       "\n",
       "    .dataframe tbody tr th {\n",
       "        vertical-align: top;\n",
       "    }\n",
       "\n",
       "    .dataframe thead th {\n",
       "        text-align: right;\n",
       "    }\n",
       "</style>\n",
       "<table border=\"1\" class=\"dataframe\">\n",
       "  <thead>\n",
       "    <tr style=\"text-align: right;\">\n",
       "      <th></th>\n",
       "      <th>title</th>\n",
       "      <th>label</th>\n",
       "    </tr>\n",
       "  </thead>\n",
       "  <tbody>\n",
       "    <tr>\n",
       "      <th>0</th>\n",
       "      <td>highly important questions about adulthood an...</td>\n",
       "      <td>clickbait</td>\n",
       "    </tr>\n",
       "    <tr>\n",
       "      <th>1</th>\n",
       "      <td>nuns just cycled all the way from kathmandu t...</td>\n",
       "      <td>clickbait</td>\n",
       "    </tr>\n",
       "    <tr>\n",
       "      <th>2</th>\n",
       "      <td>australian comedians could have been shot duri...</td>\n",
       "      <td>not-clickbait</td>\n",
       "    </tr>\n",
       "    <tr>\n",
       "      <th>3</th>\n",
       "      <td>lycos launches screensaver to increase spammer...</td>\n",
       "      <td>not-clickbait</td>\n",
       "    </tr>\n",
       "    <tr>\n",
       "      <th>4</th>\n",
       "      <td>fuballbundesliga  goalkeeper butt signs with b...</td>\n",
       "      <td>not-clickbait</td>\n",
       "    </tr>\n",
       "    <tr>\n",
       "      <th>...</th>\n",
       "      <td>...</td>\n",
       "      <td>...</td>\n",
       "    </tr>\n",
       "    <tr>\n",
       "      <th>9995</th>\n",
       "      <td>which celebrity should actually be your valentine</td>\n",
       "      <td>clickbait</td>\n",
       "    </tr>\n",
       "    <tr>\n",
       "      <th>9996</th>\n",
       "      <td>new orleans directnic offices outpost crystal ...</td>\n",
       "      <td>not-clickbait</td>\n",
       "    </tr>\n",
       "    <tr>\n",
       "      <th>9997</th>\n",
       "      <td>poll do you actually work for the first order</td>\n",
       "      <td>clickbait</td>\n",
       "    </tr>\n",
       "    <tr>\n",
       "      <th>9998</th>\n",
       "      <td>steady guard guides spartans past kansas</td>\n",
       "      <td>not-clickbait</td>\n",
       "    </tr>\n",
       "    <tr>\n",
       "      <th>9999</th>\n",
       "      <td>south thailand insurgents blamed for five bombs</td>\n",
       "      <td>not-clickbait</td>\n",
       "    </tr>\n",
       "  </tbody>\n",
       "</table>\n",
       "<p>10000 rows × 2 columns</p>\n",
       "</div>"
      ],
      "text/plain": [
       "                                                  title          label\n",
       "0      highly important questions about adulthood an...      clickbait\n",
       "1      nuns just cycled all the way from kathmandu t...      clickbait\n",
       "2     australian comedians could have been shot duri...  not-clickbait\n",
       "3     lycos launches screensaver to increase spammer...  not-clickbait\n",
       "4     fuballbundesliga  goalkeeper butt signs with b...  not-clickbait\n",
       "...                                                 ...            ...\n",
       "9995  which celebrity should actually be your valentine      clickbait\n",
       "9996  new orleans directnic offices outpost crystal ...  not-clickbait\n",
       "9997      poll do you actually work for the first order      clickbait\n",
       "9998           steady guard guides spartans past kansas  not-clickbait\n",
       "9999    south thailand insurgents blamed for five bombs  not-clickbait\n",
       "\n",
       "[10000 rows x 2 columns]"
      ]
     },
     "execution_count": 75,
     "metadata": {},
     "output_type": "execute_result"
    }
   ],
   "source": [
    "df"
   ]
  },
  {
   "cell_type": "code",
   "execution_count": 76,
   "id": "45c5d927",
   "metadata": {},
   "outputs": [],
   "source": [
    "# 去除停用词函数\n",
    "# stop_words = set(stopwords.words('english'))\n",
    "# def remove_stopwords(text):\n",
    "#     words = word_tokenize(text)\n",
    "#     filtered_words = [word for word in words if word not in stop_words]\n",
    "#     return ' '.join(filtered_words)"
   ]
  },
  {
   "cell_type": "code",
   "execution_count": 77,
   "id": "053ca628",
   "metadata": {},
   "outputs": [],
   "source": [
    "# 应用去除停用词函数\n",
    "# df['title'] = df['title'].apply(remove_stopwords)"
   ]
  },
  {
   "cell_type": "code",
   "execution_count": 78,
   "id": "62ee67b8",
   "metadata": {},
   "outputs": [],
   "source": [
    "from sklearn.model_selection import train_test_split\n",
    "from sklearn.feature_extraction.text import TfidfVectorizer\n",
    "from sklearn.svm import SVC\n",
    "from sklearn.metrics import accuracy_score, classification_report, confusion_matrix"
   ]
  },
  {
   "cell_type": "code",
   "execution_count": 79,
   "id": "64f920c4",
   "metadata": {},
   "outputs": [],
   "source": [
    "X = df['title']  # 特征列：标题\n",
    "y = df['label']  # 标签列：clickbait 或 not-clickbait"
   ]
  },
  {
   "cell_type": "code",
   "execution_count": 80,
   "id": "c9f1fbf0",
   "metadata": {},
   "outputs": [],
   "source": [
    "# 步骤 3: 数据划分\n",
    "X_train, X_test, y_train, y_test = train_test_split(X, y, test_size=0.3, random_state=1)"
   ]
  },
  {
   "cell_type": "code",
   "execution_count": 81,
   "id": "b1802ee3",
   "metadata": {},
   "outputs": [],
   "source": [
    "# 步骤 4: 特征工程 - 使用TF-IDF向量化器\n",
    "tfidf_vectorizer = TfidfVectorizer(max_features=5000)  # 根据需求调整max_features\n",
    "X_train_tfidf = tfidf_vectorizer.fit_transform(X_train)\n",
    "X_test_tfidf = tfidf_vectorizer.transform(X_test)"
   ]
  },
  {
   "cell_type": "code",
   "execution_count": 82,
   "id": "2b8acd9c",
   "metadata": {},
   "outputs": [],
   "source": [
    "# 步骤 5: 标签编码（如果标签是字符串）\n",
    "# 如果标签已经是0和1，这一步可以跳过\n",
    "# 如果标签是字符串 \"clickbait\" 和 \"not-clickbait\"，可以使用以下方式进行编码\n",
    "y_train = y_train.map({'clickbait': 1, 'not-clickbait': 0})\n",
    "y_test = y_test.map({'clickbait': 1, 'not-clickbait': 0})"
   ]
  },
  {
   "cell_type": "code",
   "execution_count": 83,
   "id": "1e26bda6",
   "metadata": {},
   "outputs": [
    {
     "data": {
      "text/html": [
       "<style>#sk-container-id-2 {color: black;}#sk-container-id-2 pre{padding: 0;}#sk-container-id-2 div.sk-toggleable {background-color: white;}#sk-container-id-2 label.sk-toggleable__label {cursor: pointer;display: block;width: 100%;margin-bottom: 0;padding: 0.3em;box-sizing: border-box;text-align: center;}#sk-container-id-2 label.sk-toggleable__label-arrow:before {content: \"▸\";float: left;margin-right: 0.25em;color: #696969;}#sk-container-id-2 label.sk-toggleable__label-arrow:hover:before {color: black;}#sk-container-id-2 div.sk-estimator:hover label.sk-toggleable__label-arrow:before {color: black;}#sk-container-id-2 div.sk-toggleable__content {max-height: 0;max-width: 0;overflow: hidden;text-align: left;background-color: #f0f8ff;}#sk-container-id-2 div.sk-toggleable__content pre {margin: 0.2em;color: black;border-radius: 0.25em;background-color: #f0f8ff;}#sk-container-id-2 input.sk-toggleable__control:checked~div.sk-toggleable__content {max-height: 200px;max-width: 100%;overflow: auto;}#sk-container-id-2 input.sk-toggleable__control:checked~label.sk-toggleable__label-arrow:before {content: \"▾\";}#sk-container-id-2 div.sk-estimator input.sk-toggleable__control:checked~label.sk-toggleable__label {background-color: #d4ebff;}#sk-container-id-2 div.sk-label input.sk-toggleable__control:checked~label.sk-toggleable__label {background-color: #d4ebff;}#sk-container-id-2 input.sk-hidden--visually {border: 0;clip: rect(1px 1px 1px 1px);clip: rect(1px, 1px, 1px, 1px);height: 1px;margin: -1px;overflow: hidden;padding: 0;position: absolute;width: 1px;}#sk-container-id-2 div.sk-estimator {font-family: monospace;background-color: #f0f8ff;border: 1px dotted black;border-radius: 0.25em;box-sizing: border-box;margin-bottom: 0.5em;}#sk-container-id-2 div.sk-estimator:hover {background-color: #d4ebff;}#sk-container-id-2 div.sk-parallel-item::after {content: \"\";width: 100%;border-bottom: 1px solid gray;flex-grow: 1;}#sk-container-id-2 div.sk-label:hover label.sk-toggleable__label {background-color: #d4ebff;}#sk-container-id-2 div.sk-serial::before {content: \"\";position: absolute;border-left: 1px solid gray;box-sizing: border-box;top: 0;bottom: 0;left: 50%;z-index: 0;}#sk-container-id-2 div.sk-serial {display: flex;flex-direction: column;align-items: center;background-color: white;padding-right: 0.2em;padding-left: 0.2em;position: relative;}#sk-container-id-2 div.sk-item {position: relative;z-index: 1;}#sk-container-id-2 div.sk-parallel {display: flex;align-items: stretch;justify-content: center;background-color: white;position: relative;}#sk-container-id-2 div.sk-item::before, #sk-container-id-2 div.sk-parallel-item::before {content: \"\";position: absolute;border-left: 1px solid gray;box-sizing: border-box;top: 0;bottom: 0;left: 50%;z-index: -1;}#sk-container-id-2 div.sk-parallel-item {display: flex;flex-direction: column;z-index: 1;position: relative;background-color: white;}#sk-container-id-2 div.sk-parallel-item:first-child::after {align-self: flex-end;width: 50%;}#sk-container-id-2 div.sk-parallel-item:last-child::after {align-self: flex-start;width: 50%;}#sk-container-id-2 div.sk-parallel-item:only-child::after {width: 0;}#sk-container-id-2 div.sk-dashed-wrapped {border: 1px dashed gray;margin: 0 0.4em 0.5em 0.4em;box-sizing: border-box;padding-bottom: 0.4em;background-color: white;}#sk-container-id-2 div.sk-label label {font-family: monospace;font-weight: bold;display: inline-block;line-height: 1.2em;}#sk-container-id-2 div.sk-label-container {text-align: center;}#sk-container-id-2 div.sk-container {/* jupyter's `normalize.less` sets `[hidden] { display: none; }` but bootstrap.min.css set `[hidden] { display: none !important; }` so we also need the `!important` here to be able to override the default hidden behavior on the sphinx rendered scikit-learn.org. See: https://github.com/scikit-learn/scikit-learn/issues/21755 */display: inline-block !important;position: relative;}#sk-container-id-2 div.sk-text-repr-fallback {display: none;}</style><div id=\"sk-container-id-2\" class=\"sk-top-container\"><div class=\"sk-text-repr-fallback\"><pre>SVC(kernel=&#x27;linear&#x27;)</pre><b>In a Jupyter environment, please rerun this cell to show the HTML representation or trust the notebook. <br />On GitHub, the HTML representation is unable to render, please try loading this page with nbviewer.org.</b></div><div class=\"sk-container\" hidden><div class=\"sk-item\"><div class=\"sk-estimator sk-toggleable\"><input class=\"sk-toggleable__control sk-hidden--visually\" id=\"sk-estimator-id-2\" type=\"checkbox\" checked><label for=\"sk-estimator-id-2\" class=\"sk-toggleable__label sk-toggleable__label-arrow\">SVC</label><div class=\"sk-toggleable__content\"><pre>SVC(kernel=&#x27;linear&#x27;)</pre></div></div></div></div></div>"
      ],
      "text/plain": [
       "SVC(kernel='linear')"
      ]
     },
     "execution_count": 83,
     "metadata": {},
     "output_type": "execute_result"
    }
   ],
   "source": [
    "# 步骤 6: 训练SVM模型\n",
    "model = SVC(kernel='linear', C=1.0)\n",
    "model.fit(X_train_tfidf, y_train)"
   ]
  },
  {
   "cell_type": "code",
   "execution_count": 84,
   "id": "f9aa7835",
   "metadata": {},
   "outputs": [
    {
     "name": "stdout",
     "output_type": "stream",
     "text": [
      "Accuracy: 0.9613333333333334\n",
      "              precision    recall  f1-score   support\n",
      "\n",
      "           0       0.95      0.97      0.96      1513\n",
      "           1       0.97      0.95      0.96      1487\n",
      "\n",
      "    accuracy                           0.96      3000\n",
      "   macro avg       0.96      0.96      0.96      3000\n",
      "weighted avg       0.96      0.96      0.96      3000\n",
      "\n",
      "[[1471   42]\n",
      " [  74 1413]]\n"
     ]
    }
   ],
   "source": [
    "# 步骤 7: 模型评估\n",
    "y_pred = model.predict(X_test_tfidf)\n",
    "accuracy = accuracy_score(y_test, y_pred)\n",
    "print(f'Accuracy: {accuracy}')\n",
    "print(classification_report(y_test, y_pred))\n",
    "print(confusion_matrix(y_test, y_pred))"
   ]
  },
  {
   "cell_type": "markdown",
   "id": "b5016bae",
   "metadata": {},
   "source": [
    "提供的评估结果是模型在测试数据上的性能报告以及混淆矩阵。以下是对这些结果的详细解释：\n",
    "\n",
    "**准确性 (Accuracy): 0.961**\n",
    "准确性表示模型正确分类的样本比例。在这种情况下，模型的准确性为0.961，这意味着它正确分类了96.1%的测试样本。\n",
    "\n",
    "精确度 (Precision):\n",
    "对于类别0 (\"not-clickbait\")：0.95\n",
    "精确度表示模型正确分类为 \"not-clickbait\" 的样本比例。在这里，它正确分类了95%的 \"not-clickbait\" 样本。\n",
    "对于类别1 (\"clickbait\")：0.97\n",
    "精确度表示模型正确分类为 \"clickbait\" 的样本比例。在这里，它正确分类了97%的 \"clickbait\" 样本。\n",
    "\n",
    "召回率 (Recall):\n",
    "对于类别0 (\"not-clickbait\")：0.97\n",
    "召回率表示模型正确找到所有 \"not-clickbait\" 样本的比例。在这里，它找到了97%的 \"not-clickbait\" 样本。\n",
    "对于类别1 (\"clickbait\")：0.95\n",
    "召回率表示模型正确找到所有 \"clickbait\" 样本的比例。在这里，它找到了95%的 \"clickbait\" 样本。\n",
    "\n",
    "F1分数 (F1-Score):\n",
    "F1分数是精确度和召回率的调和平均数，用于综合评估分类器的性能。\n",
    "对于类别0 (\"not-clickbait\")：0.96\n",
    "对于类别1 (\"clickbait\")：0.96\n",
    "\n",
    "支持 (Support):\n",
    "\"support\" 表示每个类别在测试数据中的样本数量。在这里，类别0有1513个样本，类别1有1487个样本。\n",
    "\n",
    "混淆矩阵 (Confusion Matrix):\n",
    "混淆矩阵显示了模型的分类结果。\n",
    "对于类别0 (\"not-clickbait\")，有1471个样本被正确分类为 \"not-clickbait\"，42个被错误分类为 \"clickbait\"。\n",
    "对于类别1 (\"clickbait\")，有74个样本被错误分类为 \"not-clickbait\"，1413个被正确分类为 \"clickbait\"。\n",
    "\n",
    "综合来看，这个模型在测试数据上表现非常不错，具有高准确性、精确度和召回率。它在区分 \"clickbait\" 和 \"not-clickbait\" 样本方面取得了很好的性能。然而，具体的评估结果的重要性可能取决于应用场景，例如，如果对误报有严格要求，可以进一步优化模型。"
   ]
  },
  {
   "cell_type": "code",
   "execution_count": 85,
   "id": "2ae28b10",
   "metadata": {},
   "outputs": [],
   "source": [
    "import seaborn as sns\n",
    "import matplotlib.pyplot as plt\n",
    "from sklearn.metrics import confusion_matrix"
   ]
  },
  {
   "cell_type": "code",
   "execution_count": 86,
   "id": "bd69e498",
   "metadata": {
    "scrolled": false
   },
   "outputs": [
    {
     "data": {
      "image/png": "[encoded data removed]",
      "text/plain": [
       "<Figure size 800x600 with 2 Axes>"
      ]
     },
     "metadata": {},
     "output_type": "display_data"
    }
   ],
   "source": [
    "# 计算混淆矩阵\n",
    "cm = confusion_matrix(y_test, y_pred)\n",
    "\n",
    "# 创建热图\n",
    "plt.figure(figsize=(8, 6))\n",
    "sns.heatmap(cm, annot=True, fmt='d', cmap='Blues', xticklabels=['not-clickbait', 'clickbait'], yticklabels=['not-clickbait', 'clickbait'])\n",
    "plt.xlabel('Predicted')\n",
    "plt.ylabel('Actual')\n",
    "plt.title('Confusion Matrix')\n",
    "plt.show()"
   ]
  },
  {
   "cell_type": "markdown",
   "id": "965f3693",
   "metadata": {},
   "source": [
    "# 预测新数据"
   ]
  },
  {
   "cell_type": "code",
   "execution_count": 87,
   "id": "b741f40b",
   "metadata": {},
   "outputs": [],
   "source": [
    "file_path_class = '/Users/shiwei/Desktop/研究论文/一带一路ERGM数据分析/聚类分析16244.csv'"
   ]
  },
  {
   "cell_type": "code",
   "execution_count": 88,
   "id": "545ae9c7",
   "metadata": {},
   "outputs": [],
   "source": [
    "df_toclass = pd.read_csv(file_path_class)"
   ]
  },
  {
   "cell_type": "code",
   "execution_count": 89,
   "id": "fc3e6b55",
   "metadata": {},
   "outputs": [],
   "source": [
    "# 文本清洗函数\n",
    "def clean_text(text):\n",
    "    # 转换为小写\n",
    "    text = text.lower()\n",
    "    # 去除网址\n",
    "    text = re.sub(r'http\\S+|www\\S+|https\\S+', '', text)\n",
    "    # 去除标签和提及\n",
    "    text = re.sub(r'@[\\w]*', '', text)\n",
    "    text = re.sub(r'#[\\w]*', '', text)\n",
    "    # 去除特殊字符和标点符号\n",
    "    text = re.sub(r'[^a-zA-Z\\s]', '', text)\n",
    "    return text"
   ]
  },
  {
   "cell_type": "code",
   "execution_count": 90,
   "id": "b2a1bbf8",
   "metadata": {},
   "outputs": [],
   "source": [
    "# 应用文本清洗函数\n",
    "df_toclass['text'] = df_toclass['text'].apply(clean_text)"
   ]
  },
  {
   "cell_type": "code",
   "execution_count": 91,
   "id": "cf8cf6af",
   "metadata": {},
   "outputs": [
    {
     "data": {
      "text/html": [
       "<div>\n",
       "<style scoped>\n",
       "    .dataframe tbody tr th:only-of-type {\n",
       "        vertical-align: middle;\n",
       "    }\n",
       "\n",
       "    .dataframe tbody tr th {\n",
       "        vertical-align: top;\n",
       "    }\n",
       "\n",
       "    .dataframe thead th {\n",
       "        text-align: right;\n",
       "    }\n",
       "</style>\n",
       "<table border=\"1\" class=\"dataframe\">\n",
       "  <thead>\n",
       "    <tr style=\"text-align: right;\">\n",
       "      <th></th>\n",
       "      <th>text</th>\n",
       "    </tr>\n",
       "  </thead>\n",
       "  <tbody>\n",
       "    <tr>\n",
       "      <th>0</th>\n",
       "      <td>the new silk road brings weapons to gaza and b...</td>\n",
       "    </tr>\n",
       "    <tr>\n",
       "      <th>1</th>\n",
       "      <td>the roving eye  pipelineistan and the new silk...</td>\n",
       "    </tr>\n",
       "    <tr>\n",
       "      <th>2</th>\n",
       "      <td>riding the new silk road</td>\n",
       "    </tr>\n",
       "    <tr>\n",
       "      <th>3</th>\n",
       "      <td>riding the new silk road</td>\n",
       "    </tr>\n",
       "    <tr>\n",
       "      <th>4</th>\n",
       "      <td>while the us talks about saving afghanistan wi...</td>\n",
       "    </tr>\n",
       "    <tr>\n",
       "      <th>...</th>\n",
       "      <td>...</td>\n",
       "    </tr>\n",
       "    <tr>\n",
       "      <th>16236</th>\n",
       "      <td>hong kong special administrative region chief ...</td>\n",
       "    </tr>\n",
       "    <tr>\n",
       "      <th>16237</th>\n",
       "      <td>hong kong special administrative region chief ...</td>\n",
       "    </tr>\n",
       "    <tr>\n",
       "      <th>16238</th>\n",
       "      <td>s business leaders on sunday hailed s belt and...</td>\n",
       "    </tr>\n",
       "    <tr>\n",
       "      <th>16239</th>\n",
       "      <td>in a highspirited pitch at   s chief executive...</td>\n",
       "    </tr>\n",
       "    <tr>\n",
       "      <th>16240</th>\n",
       "      <td>in a highspirited pitch at   s chief executive...</td>\n",
       "    </tr>\n",
       "  </tbody>\n",
       "</table>\n",
       "<p>16241 rows × 1 columns</p>\n",
       "</div>"
      ],
      "text/plain": [
       "                                                    text\n",
       "0      the new silk road brings weapons to gaza and b...\n",
       "1      the roving eye  pipelineistan and the new silk...\n",
       "2                              riding the new silk road \n",
       "3                              riding the new silk road \n",
       "4      while the us talks about saving afghanistan wi...\n",
       "...                                                  ...\n",
       "16236  hong kong special administrative region chief ...\n",
       "16237  hong kong special administrative region chief ...\n",
       "16238  s business leaders on sunday hailed s belt and...\n",
       "16239  in a highspirited pitch at   s chief executive...\n",
       "16240  in a highspirited pitch at   s chief executive...\n",
       "\n",
       "[16241 rows x 1 columns]"
      ]
     },
     "execution_count": 91,
     "metadata": {},
     "output_type": "execute_result"
    }
   ],
   "source": [
    "df_toclass"
   ]
  },
  {
   "cell_type": "code",
   "execution_count": 92,
   "id": "fc4493ad",
   "metadata": {},
   "outputs": [],
   "source": [
    "# 去除冗余信息和处理缺失值\n",
    "df_toclass = df_toclass[['text']].drop_duplicates().dropna()"
   ]
  },
  {
   "cell_type": "code",
   "execution_count": 93,
   "id": "b3dd04e7",
   "metadata": {},
   "outputs": [],
   "source": [
    "df_toclass.reset_index(drop=True, inplace = True)"
   ]
  },
  {
   "cell_type": "code",
   "execution_count": 94,
   "id": "f120aff5",
   "metadata": {},
   "outputs": [
    {
     "data": {
      "text/html": [
       "<div>\n",
       "<style scoped>\n",
       "    .dataframe tbody tr th:only-of-type {\n",
       "        vertical-align: middle;\n",
       "    }\n",
       "\n",
       "    .dataframe tbody tr th {\n",
       "        vertical-align: top;\n",
       "    }\n",
       "\n",
       "    .dataframe thead th {\n",
       "        text-align: right;\n",
       "    }\n",
       "</style>\n",
       "<table border=\"1\" class=\"dataframe\">\n",
       "  <thead>\n",
       "    <tr style=\"text-align: right;\">\n",
       "      <th></th>\n",
       "      <th>text</th>\n",
       "    </tr>\n",
       "  </thead>\n",
       "  <tbody>\n",
       "    <tr>\n",
       "      <th>0</th>\n",
       "      <td>the new silk road brings weapons to gaza and b...</td>\n",
       "    </tr>\n",
       "    <tr>\n",
       "      <th>1</th>\n",
       "      <td>the roving eye  pipelineistan and the new silk...</td>\n",
       "    </tr>\n",
       "    <tr>\n",
       "      <th>2</th>\n",
       "      <td>riding the new silk road</td>\n",
       "    </tr>\n",
       "    <tr>\n",
       "      <th>3</th>\n",
       "      <td>while the us talks about saving afghanistan wi...</td>\n",
       "    </tr>\n",
       "    <tr>\n",
       "      <th>4</th>\n",
       "      <td>china is building a new silk road in afghanist...</td>\n",
       "    </tr>\n",
       "    <tr>\n",
       "      <th>...</th>\n",
       "      <td>...</td>\n",
       "    </tr>\n",
       "    <tr>\n",
       "      <th>13039</th>\n",
       "      <td>exclusive thai deputy pm on blood ties chinese...</td>\n",
       "    </tr>\n",
       "    <tr>\n",
       "      <th>13040</th>\n",
       "      <td>in an exclusive interview with china daily hon...</td>\n",
       "    </tr>\n",
       "    <tr>\n",
       "      <th>13041</th>\n",
       "      <td>hong kong special administrative region chief ...</td>\n",
       "    </tr>\n",
       "    <tr>\n",
       "      <th>13042</th>\n",
       "      <td>s business leaders on sunday hailed s belt and...</td>\n",
       "    </tr>\n",
       "    <tr>\n",
       "      <th>13043</th>\n",
       "      <td>in a highspirited pitch at   s chief executive...</td>\n",
       "    </tr>\n",
       "  </tbody>\n",
       "</table>\n",
       "<p>13044 rows × 1 columns</p>\n",
       "</div>"
      ],
      "text/plain": [
       "                                                    text\n",
       "0      the new silk road brings weapons to gaza and b...\n",
       "1      the roving eye  pipelineistan and the new silk...\n",
       "2                              riding the new silk road \n",
       "3      while the us talks about saving afghanistan wi...\n",
       "4      china is building a new silk road in afghanist...\n",
       "...                                                  ...\n",
       "13039  exclusive thai deputy pm on blood ties chinese...\n",
       "13040  in an exclusive interview with china daily hon...\n",
       "13041  hong kong special administrative region chief ...\n",
       "13042  s business leaders on sunday hailed s belt and...\n",
       "13043  in a highspirited pitch at   s chief executive...\n",
       "\n",
       "[13044 rows x 1 columns]"
      ]
     },
     "execution_count": 94,
     "metadata": {},
     "output_type": "execute_result"
    }
   ],
   "source": [
    "df_toclass"
   ]
  },
  {
   "cell_type": "code",
   "execution_count": 98,
   "id": "55ff64d8",
   "metadata": {},
   "outputs": [],
   "source": [
    "# 创建一个TF-IDF向量化器（使用与训练时相同的参数）\n",
    "tfidf_vectorizer = TfidfVectorizer(max_features=5000)\n",
    "X_train_tfidf = tfidf_vectorizer.fit_transform(X_train)"
   ]
  },
  {
   "cell_type": "code",
   "execution_count": 99,
   "id": "c8574252",
   "metadata": {},
   "outputs": [],
   "source": [
    "# 使用向量化器将新文本转换为特征向量\n",
    "new_text_tfidf = tfidf_vectorizer.transform(df_toclass['text'][20:30].to_list())#df_toclass['text'][1])\n",
    "prediction = model.predict(new_text_tfidf)"
   ]
  },
  {
   "cell_type": "code",
   "execution_count": 100,
   "id": "6d0c1cdc",
   "metadata": {},
   "outputs": [
    {
     "name": "stdout",
     "output_type": "stream",
     "text": [
      "[0 0 0 0 1 0 1 1 0 0]\n"
     ]
    }
   ],
   "source": [
    "print(prediction)"
   ]
  },
  {
   "cell_type": "code",
   "execution_count": 101,
   "id": "ff6f5cf2",
   "metadata": {},
   "outputs": [
    {
     "data": {
      "text/plain": [
       "['opinion new silk road starting in xian should be part of strategy to develop chinas western region  ',\n",
       " 'opinion new silk road economic belt centred around xian could help modernise western china  ',\n",
       " 'new silk road internet drug bazaar opens a month after fbi bust ',\n",
       " 'new silk road internet drug bazaar opens a month after fbi bust  ',\n",
       " 'silk road is back  explains how it was reborn ',\n",
       " 'new silk road drug bazaar opens a month after fbi bust ',\n",
       " 'the feds shut down silk road  the amazon of illegal drugs  but its now reemerged ',\n",
       " 'it wasnt shut down for long heres how silk road the amazon of illegal drugs was reborn  by ',\n",
       " 'putin in seoul pushes new silk road via north korea ',\n",
       " ' new silk road model contest finals in tianjin models compete at the finals of the st new silk road mod ']"
      ]
     },
     "execution_count": 101,
     "metadata": {},
     "output_type": "execute_result"
    }
   ],
   "source": [
    "df_toclass['text'][20:30].to_list()"
   ]
  }
 ],
 "metadata": {
  "kernelspec": {
   "display_name": "Python 3 (ipykernel)",
   "language": "python",
   "name": "python3"
  },
  "language_info": {
   "codemirror_mode": {
    "name": "ipython",
    "version": 3
   },
   "file_extension": ".py",
   "mimetype": "text/x-python",
   "name": "python",
   "nbconvert_exporter": "python",
   "pygments_lexer": "ipython3",
   "version": "3.11.5"
  }
 },
 "nbformat": 4,
 "nbformat_minor": 5
}
