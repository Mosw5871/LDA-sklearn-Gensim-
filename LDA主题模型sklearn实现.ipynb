{
 "cells": [
  {
   "cell_type": "code",
   "execution_count": 1,
   "id": "fd9f0073-3cdb-4a17-b083-a40e946ced8b",
   "metadata": {},
   "outputs": [],
   "source": [
    "import pandas as pd\n",
    "import numpy as np\n",
    "import jieba\n",
    "import re\n",
    "from sklearn.feature_extraction.text import TfidfVectorizer\n",
    "from sklearn.decomposition import LatentDirichletAllocation\n",
    "from sklearn.model_selection import GridSearchCV\n",
    "import matplotlib.pyplot as plt"
   ]
  },
  {
   "cell_type": "code",
   "execution_count": 2,
   "id": "02451350-80f8-42e1-b1b7-885901eb63d1",
   "metadata": {},
   "outputs": [],
   "source": [
    "# 读取数据\n",
    "df = pd.read_csv()"
   ]
  },
  {
   "cell_type": "code",
   "execution_count": 3,
   "id": "0395c9de-2fce-4cff-8db2-fab75f91da2c",
   "metadata": {},
   "outputs": [
    {
     "data": {
      "text/html": [
       "<div>\n",
       "<style scoped>\n",
       "    .dataframe tbody tr th:only-of-type {\n",
       "        vertical-align: middle;\n",
       "    }\n",
       "\n",
       "    .dataframe tbody tr th {\n",
       "        vertical-align: top;\n",
       "    }\n",
       "\n",
       "    .dataframe thead th {\n",
       "        text-align: right;\n",
       "    }\n",
       "</style>\n",
       "<table border=\"1\" class=\"dataframe\">\n",
       "  <thead>\n",
       "    <tr style=\"text-align: right;\">\n",
       "      <th></th>\n",
       "      <th>标题</th>\n",
       "      <th>日期</th>\n",
       "    </tr>\n",
       "  </thead>\n",
       "  <tbody>\n",
       "    <tr>\n",
       "      <th>0</th>\n",
       "      <td>中乌联合考古揭开古丝绸之路千年遗存神秘面纱</td>\n",
       "      <td>2024/6/19</td>\n",
       "    </tr>\n",
       "    <tr>\n",
       "      <th>1</th>\n",
       "      <td>中尼舞者“以舞会友”促文化交流</td>\n",
       "      <td>2024/6/10</td>\n",
       "    </tr>\n",
       "    <tr>\n",
       "      <th>2</th>\n",
       "      <td>心相近｜这所高校为海外学子打开“中国之窗”</td>\n",
       "      <td>2024/6/4</td>\n",
       "    </tr>\n",
       "    <tr>\n",
       "      <th>3</th>\n",
       "      <td>“茶和天下·雅集”暨中国（广西）文化旅游推介会在科伦坡举行</td>\n",
       "      <td>2024/5/23</td>\n",
       "    </tr>\n",
       "    <tr>\n",
       "      <th>4</th>\n",
       "      <td>中国图书首次正式亮相多哈国际书展</td>\n",
       "      <td>2024/5/14</td>\n",
       "    </tr>\n",
       "  </tbody>\n",
       "</table>\n",
       "</div>"
      ],
      "text/plain": [
       "                              标题         日期\n",
       "0          中乌联合考古揭开古丝绸之路千年遗存神秘面纱  2024/6/19\n",
       "1                中尼舞者“以舞会友”促文化交流  2024/6/10\n",
       "2          心相近｜这所高校为海外学子打开“中国之窗”   2024/6/4\n",
       "3  “茶和天下·雅集”暨中国（广西）文化旅游推介会在科伦坡举行  2024/5/23\n",
       "4               中国图书首次正式亮相多哈国际书展  2024/5/14"
      ]
     },
     "execution_count": 3,
     "metadata": {},
     "output_type": "execute_result"
    }
   ],
   "source": [
    "df.head()"
   ]
  },
  {
   "cell_type": "code",
   "execution_count": 4,
   "id": "cfb0b6c2-9f41-468c-bef4-3d58a33dea23",
   "metadata": {},
   "outputs": [],
   "source": [
    "# 定义一个函数，用于去除特殊符号、标点符号等，并只保留汉字  \n",
    "def clean_text(text):  \n",
    "    # 使用正则表达式去除非汉字字符  \n",
    "    cleaned_text = re.sub(r'[^\\u4e00-\\u9fa5]', '', text)  \n",
    "    return cleaned_text"
   ]
  },
  {
   "cell_type": "code",
   "execution_count": 5,
   "id": "f2b455f3-73a6-4c9e-9e64-0dd6d6941b3d",
   "metadata": {},
   "outputs": [],
   "source": [
    "# 应用clean_text函数到'标题'列，并创建一个新的列'新标题'  \n",
    "df['新标题'] = df['标题'].apply(clean_text)"
   ]
  },
  {
   "cell_type": "code",
   "execution_count": 6,
   "id": "4b83c5a0-cb80-476f-a269-2c7e5a9d33ad",
   "metadata": {},
   "outputs": [],
   "source": [
    "# 接下来进行分词和去停用词（如果需要的话）  \n",
    "def tokenize_text(text):  \n",
    "    # 假设你有一个停用词文件  \n",
    "    stopwords = set([line.strip() for line in open('stopwords.txt', encoding='utf-8').readlines()])  \n",
    "    words = jieba.cut(text, cut_all=False)  \n",
    "    filtered_words = [word for word in words if word not in stopwords and len(word) > 1]  # 排除单字符词  \n",
    "    return ' '.join(filtered_words)"
   ]
  },
  {
   "cell_type": "code",
   "execution_count": 7,
   "id": "5cdba987-bf7b-40da-80ce-68e029ce9b2a",
   "metadata": {},
   "outputs": [
    {
     "name": "stderr",
     "output_type": "stream",
     "text": [
      "Building prefix dict from the default dictionary ...\n",
      "Loading model from cache C:\\Users\\hhhh\\AppData\\Local\\Temp\\jieba.cache\n",
      "Loading model cost 0.705 seconds.\n",
      "Prefix dict has been built successfully.\n"
     ]
    }
   ],
   "source": [
    "# 应用tokenize_text函数到'新标题'列，并创建一个新的列'新标题2'  \n",
    "df['新标题2'] = df['新标题'].apply(tokenize_text)"
   ]
  },
  {
   "cell_type": "code",
   "execution_count": 8,
   "id": "28fc6b38-aae2-4555-9cfa-3734e47102af",
   "metadata": {},
   "outputs": [],
   "source": [
    "df['新标题3'] = df['新标题2'].apply(lambda x: x.split())"
   ]
  },
  {
   "cell_type": "code",
   "execution_count": 9,
   "id": "28939d11-2411-46a6-b22d-4cf8a20a0117",
   "metadata": {},
   "outputs": [
    {
     "data": {
      "text/html": [
       "<div>\n",
       "<style scoped>\n",
       "    .dataframe tbody tr th:only-of-type {\n",
       "        vertical-align: middle;\n",
       "    }\n",
       "\n",
       "    .dataframe tbody tr th {\n",
       "        vertical-align: top;\n",
       "    }\n",
       "\n",
       "    .dataframe thead th {\n",
       "        text-align: right;\n",
       "    }\n",
       "</style>\n",
       "<table border=\"1\" class=\"dataframe\">\n",
       "  <thead>\n",
       "    <tr style=\"text-align: right;\">\n",
       "      <th></th>\n",
       "      <th>标题</th>\n",
       "      <th>日期</th>\n",
       "      <th>新标题</th>\n",
       "      <th>新标题2</th>\n",
       "      <th>新标题3</th>\n",
       "    </tr>\n",
       "  </thead>\n",
       "  <tbody>\n",
       "    <tr>\n",
       "      <th>0</th>\n",
       "      <td>中乌联合考古揭开古丝绸之路千年遗存神秘面纱</td>\n",
       "      <td>2024/6/19</td>\n",
       "      <td>中乌联合考古揭开古丝绸之路千年遗存神秘面纱</td>\n",
       "      <td>中乌 联合 考古 揭开 丝绸之路 千年 遗存 神秘 面纱</td>\n",
       "      <td>[中乌, 联合, 考古, 揭开, 丝绸之路, 千年, 遗存, 神秘, 面纱]</td>\n",
       "    </tr>\n",
       "    <tr>\n",
       "      <th>1</th>\n",
       "      <td>中尼舞者“以舞会友”促文化交流</td>\n",
       "      <td>2024/6/10</td>\n",
       "      <td>中尼舞者以舞会友促文化交流</td>\n",
       "      <td>中尼 舞者 舞会 友促 文化交流</td>\n",
       "      <td>[中尼, 舞者, 舞会, 友促, 文化交流]</td>\n",
       "    </tr>\n",
       "    <tr>\n",
       "      <th>2</th>\n",
       "      <td>心相近｜这所高校为海外学子打开“中国之窗”</td>\n",
       "      <td>2024/6/4</td>\n",
       "      <td>心相近这所高校为海外学子打开中国之窗</td>\n",
       "      <td>相近 这所 高校 海外 学子 打开 中国 之窗</td>\n",
       "      <td>[相近, 这所, 高校, 海外, 学子, 打开, 中国, 之窗]</td>\n",
       "    </tr>\n",
       "    <tr>\n",
       "      <th>3</th>\n",
       "      <td>“茶和天下·雅集”暨中国（广西）文化旅游推介会在科伦坡举行</td>\n",
       "      <td>2024/5/23</td>\n",
       "      <td>茶和天下雅集暨中国广西文化旅游推介会在科伦坡举行</td>\n",
       "      <td>天下 雅集 中国 广西 文化 旅游 推介会 科伦坡</td>\n",
       "      <td>[天下, 雅集, 中国, 广西, 文化, 旅游, 推介会, 科伦坡]</td>\n",
       "    </tr>\n",
       "    <tr>\n",
       "      <th>4</th>\n",
       "      <td>中国图书首次正式亮相多哈国际书展</td>\n",
       "      <td>2024/5/14</td>\n",
       "      <td>中国图书首次正式亮相多哈国际书展</td>\n",
       "      <td>中国 图书 首次 正式 亮相 多哈 国际 书展</td>\n",
       "      <td>[中国, 图书, 首次, 正式, 亮相, 多哈, 国际, 书展]</td>\n",
       "    </tr>\n",
       "  </tbody>\n",
       "</table>\n",
       "</div>"
      ],
      "text/plain": [
       "                              标题         日期                       新标题  \\\n",
       "0          中乌联合考古揭开古丝绸之路千年遗存神秘面纱  2024/6/19     中乌联合考古揭开古丝绸之路千年遗存神秘面纱   \n",
       "1                中尼舞者“以舞会友”促文化交流  2024/6/10             中尼舞者以舞会友促文化交流   \n",
       "2          心相近｜这所高校为海外学子打开“中国之窗”   2024/6/4        心相近这所高校为海外学子打开中国之窗   \n",
       "3  “茶和天下·雅集”暨中国（广西）文化旅游推介会在科伦坡举行  2024/5/23  茶和天下雅集暨中国广西文化旅游推介会在科伦坡举行   \n",
       "4               中国图书首次正式亮相多哈国际书展  2024/5/14          中国图书首次正式亮相多哈国际书展   \n",
       "\n",
       "                           新标题2                                    新标题3  \n",
       "0  中乌 联合 考古 揭开 丝绸之路 千年 遗存 神秘 面纱  [中乌, 联合, 考古, 揭开, 丝绸之路, 千年, 遗存, 神秘, 面纱]  \n",
       "1              中尼 舞者 舞会 友促 文化交流                  [中尼, 舞者, 舞会, 友促, 文化交流]  \n",
       "2       相近 这所 高校 海外 学子 打开 中国 之窗        [相近, 这所, 高校, 海外, 学子, 打开, 中国, 之窗]  \n",
       "3     天下 雅集 中国 广西 文化 旅游 推介会 科伦坡      [天下, 雅集, 中国, 广西, 文化, 旅游, 推介会, 科伦坡]  \n",
       "4       中国 图书 首次 正式 亮相 多哈 国际 书展        [中国, 图书, 首次, 正式, 亮相, 多哈, 国际, 书展]  "
      ]
     },
     "execution_count": 9,
     "metadata": {},
     "output_type": "execute_result"
    }
   ],
   "source": [
    "df.head()"
   ]
  },
  {
   "cell_type": "markdown",
   "id": "fa54f500-46c2-4da2-ad56-540e072bb845",
   "metadata": {},
   "source": [
    "# 文本数据向量化"
   ]
  },
  {
   "cell_type": "code",
   "execution_count": 10,
   "id": "0154290c-554d-4fad-ac1c-246cb4b579c4",
   "metadata": {},
   "outputs": [],
   "source": [
    "# 使用TF-IDF将文本转化为矩阵\n",
    "vectorizer = TfidfVectorizer()\n",
    "tfidf_matrix = vectorizer.fit_transform(df['新标题2'])"
   ]
  },
  {
   "cell_type": "code",
   "execution_count": 11,
   "id": "57d98447-6bef-4f84-9ed0-809a301b9e08",
   "metadata": {},
   "outputs": [
    {
     "data": {
      "text/plain": [
       "<297x956 sparse matrix of type '<class 'numpy.float64'>'\n",
       "\twith 1898 stored elements in Compressed Sparse Row format>"
      ]
     },
     "execution_count": 11,
     "metadata": {},
     "output_type": "execute_result"
    }
   ],
   "source": [
    "tfidf_matrix"
   ]
  },
  {
   "cell_type": "markdown",
   "id": "e2136484-4f1d-41ec-a7c2-85ad57d56fdc",
   "metadata": {},
   "source": [
    "# 确定最佳主题数目"
   ]
  },
  {
   "cell_type": "markdown",
   "id": "c2008f73-8826-44d6-9e90-03a71213fe5c",
   "metadata": {},
   "source": [
    "## 困惑度得分"
   ]
  },
  {
   "cell_type": "code",
   "execution_count": 12,
   "id": "0e4e6776-cf0a-42a3-97cb-c5544fa2dbd2",
   "metadata": {},
   "outputs": [],
   "source": [
    "perplexity_scores = []\n",
    "n_topics_range = range(2, 21)\n",
    "\n",
    "for n_topics in n_topics_range:\n",
    "    lda = LatentDirichletAllocation(n_components=n_topics, random_state=42)\n",
    "    lda.fit(tfidf_matrix)\n",
    "    perplexity_scores.append(lda.perplexity(tfidf_matrix))"
   ]
  },
  {
   "cell_type": "code",
   "execution_count": 13,
   "id": "fa59cd58-829b-4a4d-92a5-e9e06ac25103",
   "metadata": {},
   "outputs": [
    {
     "data": {
      "image/png": "[encoded data removed]",
      "text/plain": [
       "<Figure size 640x480 with 1 Axes>"
      ]
     },
     "metadata": {},
     "output_type": "display_data"
    },
    {
     "name": "stdout",
     "output_type": "stream",
     "text": [
      "最佳主题数目（困惑度最低）:  2\n"
     ]
    }
   ],
   "source": [
    "# 绘制困惑度图\n",
    "plt.plot(n_topics_range, perplexity_scores, marker='o')\n",
    "plt.xlabel('Number of Topics')\n",
    "plt.ylabel('Perplexity')\n",
    "plt.title('Perplexity vs. Number of Topics')\n",
    "plt.show()\n",
    "\n",
    "# 打印困惑度最低的主题数目\n",
    "optimal_num_topics = n_topics_range[perplexity_scores.index(min(perplexity_scores))]\n",
    "print(\"最佳主题数目（困惑度最低）: \", optimal_num_topics)"
   ]
  },
  {
   "cell_type": "code",
   "execution_count": null,
   "id": "ed0fb989-cb17-4c18-b60a-2929147b96b3",
   "metadata": {},
   "outputs": [],
   "source": []
  },
  {
   "cell_type": "markdown",
   "id": "cfe90a40-8a63-47f5-a786-2573819021fe",
   "metadata": {},
   "source": [
    "# 开始正式建模LDA"
   ]
  },
  {
   "cell_type": "code",
   "execution_count": 40,
   "id": "c85f01df-25d7-4799-8c7c-ed48b0895a33",
   "metadata": {},
   "outputs": [],
   "source": [
    "# 设置主题数目\n",
    "num_topics = 3  # 这里假设选择10个主题"
   ]
  },
  {
   "cell_type": "code",
   "execution_count": 41,
   "id": "839d5540-78d6-4e78-a026-0c7a480a39fc",
   "metadata": {},
   "outputs": [
    {
     "data": {
      "text/html": [
       "<style>#sk-container-id-2 {color: black;background-color: white;}#sk-container-id-2 pre{padding: 0;}#sk-container-id-2 div.sk-toggleable {background-color: white;}#sk-container-id-2 label.sk-toggleable__label {cursor: pointer;display: block;width: 100%;margin-bottom: 0;padding: 0.3em;box-sizing: border-box;text-align: center;}#sk-container-id-2 label.sk-toggleable__label-arrow:before {content: \"▸\";float: left;margin-right: 0.25em;color: #696969;}#sk-container-id-2 label.sk-toggleable__label-arrow:hover:before {color: black;}#sk-container-id-2 div.sk-estimator:hover label.sk-toggleable__label-arrow:before {color: black;}#sk-container-id-2 div.sk-toggleable__content {max-height: 0;max-width: 0;overflow: hidden;text-align: left;background-color: #f0f8ff;}#sk-container-id-2 div.sk-toggleable__content pre {margin: 0.2em;color: black;border-radius: 0.25em;background-color: #f0f8ff;}#sk-container-id-2 input.sk-toggleable__control:checked~div.sk-toggleable__content {max-height: 200px;max-width: 100%;overflow: auto;}#sk-container-id-2 input.sk-toggleable__control:checked~label.sk-toggleable__label-arrow:before {content: \"▾\";}#sk-container-id-2 div.sk-estimator input.sk-toggleable__control:checked~label.sk-toggleable__label {background-color: #d4ebff;}#sk-container-id-2 div.sk-label input.sk-toggleable__control:checked~label.sk-toggleable__label {background-color: #d4ebff;}#sk-container-id-2 input.sk-hidden--visually {border: 0;clip: rect(1px 1px 1px 1px);clip: rect(1px, 1px, 1px, 1px);height: 1px;margin: -1px;overflow: hidden;padding: 0;position: absolute;width: 1px;}#sk-container-id-2 div.sk-estimator {font-family: monospace;background-color: #f0f8ff;border: 1px dotted black;border-radius: 0.25em;box-sizing: border-box;margin-bottom: 0.5em;}#sk-container-id-2 div.sk-estimator:hover {background-color: #d4ebff;}#sk-container-id-2 div.sk-parallel-item::after {content: \"\";width: 100%;border-bottom: 1px solid gray;flex-grow: 1;}#sk-container-id-2 div.sk-label:hover label.sk-toggleable__label {background-color: #d4ebff;}#sk-container-id-2 div.sk-serial::before {content: \"\";position: absolute;border-left: 1px solid gray;box-sizing: border-box;top: 0;bottom: 0;left: 50%;z-index: 0;}#sk-container-id-2 div.sk-serial {display: flex;flex-direction: column;align-items: center;background-color: white;padding-right: 0.2em;padding-left: 0.2em;position: relative;}#sk-container-id-2 div.sk-item {position: relative;z-index: 1;}#sk-container-id-2 div.sk-parallel {display: flex;align-items: stretch;justify-content: center;background-color: white;position: relative;}#sk-container-id-2 div.sk-item::before, #sk-container-id-2 div.sk-parallel-item::before {content: \"\";position: absolute;border-left: 1px solid gray;box-sizing: border-box;top: 0;bottom: 0;left: 50%;z-index: -1;}#sk-container-id-2 div.sk-parallel-item {display: flex;flex-direction: column;z-index: 1;position: relative;background-color: white;}#sk-container-id-2 div.sk-parallel-item:first-child::after {align-self: flex-end;width: 50%;}#sk-container-id-2 div.sk-parallel-item:last-child::after {align-self: flex-start;width: 50%;}#sk-container-id-2 div.sk-parallel-item:only-child::after {width: 0;}#sk-container-id-2 div.sk-dashed-wrapped {border: 1px dashed gray;margin: 0 0.4em 0.5em 0.4em;box-sizing: border-box;padding-bottom: 0.4em;background-color: white;}#sk-container-id-2 div.sk-label label {font-family: monospace;font-weight: bold;display: inline-block;line-height: 1.2em;}#sk-container-id-2 div.sk-label-container {text-align: center;}#sk-container-id-2 div.sk-container {/* jupyter's `normalize.less` sets `[hidden] { display: none; }` but bootstrap.min.css set `[hidden] { display: none !important; }` so we also need the `!important` here to be able to override the default hidden behavior on the sphinx rendered scikit-learn.org. See: https://github.com/scikit-learn/scikit-learn/issues/21755 */display: inline-block !important;position: relative;}#sk-container-id-2 div.sk-text-repr-fallback {display: none;}</style><div id=\"sk-container-id-2\" class=\"sk-top-container\"><div class=\"sk-text-repr-fallback\"><pre>LatentDirichletAllocation(n_components=3, random_state=42)</pre><b>In a Jupyter environment, please rerun this cell to show the HTML representation or trust the notebook. <br />On GitHub, the HTML representation is unable to render, please try loading this page with nbviewer.org.</b></div><div class=\"sk-container\" hidden><div class=\"sk-item\"><div class=\"sk-estimator sk-toggleable\"><input class=\"sk-toggleable__control sk-hidden--visually\" id=\"sk-estimator-id-2\" type=\"checkbox\" checked><label for=\"sk-estimator-id-2\" class=\"sk-toggleable__label sk-toggleable__label-arrow\">LatentDirichletAllocation</label><div class=\"sk-toggleable__content\"><pre>LatentDirichletAllocation(n_components=3, random_state=42)</pre></div></div></div></div></div>"
      ],
      "text/plain": [
       "LatentDirichletAllocation(n_components=3, random_state=42)"
      ]
     },
     "execution_count": 41,
     "metadata": {},
     "output_type": "execute_result"
    }
   ],
   "source": [
    "# 训练LDA模型\n",
    "lda_model = LatentDirichletAllocation(n_components=num_topics, random_state=42)\n",
    "lda_model.fit(tfidf_matrix)"
   ]
  },
  {
   "cell_type": "code",
   "execution_count": 42,
   "id": "38292dde-51cd-42c4-a1e1-28036061078e",
   "metadata": {},
   "outputs": [],
   "source": [
    "def print_top_words(model, feature_names, n_top_words):\n",
    "    for topic_idx, topic in enumerate(model.components_):\n",
    "        print(\"Topic #%d:\" % topic_idx)\n",
    "        print(\" \".join([feature_names[i]\n",
    "                        for i in topic.argsort()[:-n_top_words - 1:-1]]))\n",
    "    print()"
   ]
  },
  {
   "cell_type": "code",
   "execution_count": 43,
   "id": "afa9842e-dd5c-448a-a841-5a8a02b2ded5",
   "metadata": {},
   "outputs": [
    {
     "name": "stdout",
     "output_type": "stream",
     "text": [
      "Topic #0:\n",
      "一带 中国 一路 举办 论坛 丝路 合作 文化 亮相 活动\n",
      "Topic #1:\n",
      "中国 文化 丝绸之路 一路 一带 马来西亚 丝路 海上 主题 文化交流\n",
      "Topic #2:\n",
      "中国 比赛 全球 连线 汉语 文化 一路 一带 铁路 中文\n",
      "\n"
     ]
    }
   ],
   "source": [
    "# 打印每个主题的前10个关键词\n",
    "print_top_words(lda_model, vectorizer.get_feature_names_out(), 10)"
   ]
  },
  {
   "cell_type": "markdown",
   "id": "2e557eb0-fc7e-4fd6-8f0d-6794edfaf54c",
   "metadata": {},
   "source": [
    "# 获取主题-文档矩阵"
   ]
  },
  {
   "cell_type": "code",
   "execution_count": 44,
   "id": "e118cc92-88d9-4760-ae49-49b2f638f600",
   "metadata": {},
   "outputs": [],
   "source": [
    "# 获取主题-文档矩阵\n",
    "doc_topic_matrix = lda_model.transform(tfidf_matrix)"
   ]
  },
  {
   "cell_type": "code",
   "execution_count": 45,
   "id": "4dfc1e8c-3ae9-4046-8cc4-90fa7efdb340",
   "metadata": {},
   "outputs": [],
   "source": [
    "# 将矩阵转换为 DataFrame\n",
    "doc_topic_df = pd.DataFrame(doc_topic_matrix)\n",
    "doc_topic_df.columns = [f\"Topic_{i}\" for i in range(num_topics)]\n",
    "doc_topic_df.index = df.index"
   ]
  },
  {
   "cell_type": "code",
   "execution_count": 46,
   "id": "bc5c0628-b0f0-4c1f-8124-075c5814bf09",
   "metadata": {},
   "outputs": [
    {
     "data": {
      "text/html": [
       "<div>\n",
       "<style scoped>\n",
       "    .dataframe tbody tr th:only-of-type {\n",
       "        vertical-align: middle;\n",
       "    }\n",
       "\n",
       "    .dataframe tbody tr th {\n",
       "        vertical-align: top;\n",
       "    }\n",
       "\n",
       "    .dataframe thead th {\n",
       "        text-align: right;\n",
       "    }\n",
       "</style>\n",
       "<table border=\"1\" class=\"dataframe\">\n",
       "  <thead>\n",
       "    <tr style=\"text-align: right;\">\n",
       "      <th></th>\n",
       "      <th>Topic_0</th>\n",
       "      <th>Topic_1</th>\n",
       "      <th>Topic_2</th>\n",
       "    </tr>\n",
       "  </thead>\n",
       "  <tbody>\n",
       "    <tr>\n",
       "      <th>0</th>\n",
       "      <td>0.085308</td>\n",
       "      <td>0.827481</td>\n",
       "      <td>0.087212</td>\n",
       "    </tr>\n",
       "    <tr>\n",
       "      <th>1</th>\n",
       "      <td>0.106829</td>\n",
       "      <td>0.114174</td>\n",
       "      <td>0.778998</td>\n",
       "    </tr>\n",
       "    <tr>\n",
       "      <th>2</th>\n",
       "      <td>0.095627</td>\n",
       "      <td>0.806581</td>\n",
       "      <td>0.097792</td>\n",
       "    </tr>\n",
       "    <tr>\n",
       "      <th>3</th>\n",
       "      <td>0.777518</td>\n",
       "      <td>0.128368</td>\n",
       "      <td>0.094113</td>\n",
       "    </tr>\n",
       "    <tr>\n",
       "      <th>4</th>\n",
       "      <td>0.784447</td>\n",
       "      <td>0.095714</td>\n",
       "      <td>0.119838</td>\n",
       "    </tr>\n",
       "  </tbody>\n",
       "</table>\n",
       "</div>"
      ],
      "text/plain": [
       "    Topic_0   Topic_1   Topic_2\n",
       "0  0.085308  0.827481  0.087212\n",
       "1  0.106829  0.114174  0.778998\n",
       "2  0.095627  0.806581  0.097792\n",
       "3  0.777518  0.128368  0.094113\n",
       "4  0.784447  0.095714  0.119838"
      ]
     },
     "execution_count": 46,
     "metadata": {},
     "output_type": "execute_result"
    }
   ],
   "source": [
    "doc_topic_df.head()"
   ]
  },
  {
   "cell_type": "markdown",
   "id": "92f2fdf0-c3c4-4bd4-ab99-9b0c5c788ba2",
   "metadata": {},
   "source": [
    "# 获取主题-关键词矩阵"
   ]
  },
  {
   "cell_type": "code",
   "execution_count": 47,
   "id": "d61e40d3-c5ca-412e-9fd0-e5a5cacbc373",
   "metadata": {},
   "outputs": [],
   "source": [
    "# 获取主题-关键词矩阵\n",
    "topic_word_matrix = lda_model.components_"
   ]
  },
  {
   "cell_type": "code",
   "execution_count": 48,
   "id": "7779f086-085f-44c0-afdd-beb73df85c33",
   "metadata": {},
   "outputs": [],
   "source": [
    "# 将矩阵转换为 DataFrame\n",
    "feature_names = vectorizer.get_feature_names_out()\n",
    "topic_word_df = pd.DataFrame(topic_word_matrix)\n",
    "topic_word_df.columns = feature_names\n",
    "topic_word_df.index = [f\"Topic_{i}\" for i in range(num_topics)]"
   ]
  },
  {
   "cell_type": "code",
   "execution_count": 49,
   "id": "b79c46c3-4c8b-494e-ba19-2bd1006159e6",
   "metadata": {},
   "outputs": [],
   "source": [
    "# topic_word_df"
   ]
  },
  {
   "cell_type": "markdown",
   "id": "fb3069c5-eeb1-4f2f-aed0-6dbd7b5a98e7",
   "metadata": {},
   "source": [
    "# 获取指定帖子在各个主题上的概率分布"
   ]
  },
  {
   "cell_type": "code",
   "execution_count": 50,
   "id": "208616c3-24cf-40fc-9a5b-6d4b20f0aee5",
   "metadata": {},
   "outputs": [],
   "source": [
    "def get_topic_distribution(lda_model, tfidf_matrix, doc_index):\n",
    "    \"\"\"\n",
    "    获取指定帖子在各个主题上的概率分布\n",
    "\n",
    "    参数:\n",
    "    lda_model: 已训练的LDA模型\n",
    "    tfidf_matrix: TF-IDF矩阵\n",
    "    doc_index: 帖子在TF-IDF矩阵中的索引\n",
    "\n",
    "    返回:\n",
    "    帖子的主题概率分布\n",
    "    \"\"\"\n",
    "    # 选择指定帖子\n",
    "    doc_tfidf = tfidf_matrix[doc_index]\n",
    "\n",
    "    # 计算该帖子的主题概率分布\n",
    "    doc_topic_dist = lda_model.transform(doc_tfidf)\n",
    "\n",
    "    # 打印该帖子的主题概率分布\n",
    "    print(f\"帖子#{doc_index}的主题概率分布:\")\n",
    "    for topic_idx, topic_prob in enumerate(doc_topic_dist[0]):\n",
    "        print(f\"主题#{topic_idx}: {topic_prob:.4f}\")\n",
    "\n",
    "    return doc_topic_dist[0]"
   ]
  },
  {
   "cell_type": "code",
   "execution_count": 51,
   "id": "b2593d82-b61e-4acc-9af5-e1b7370dcb76",
   "metadata": {},
   "outputs": [
    {
     "name": "stdout",
     "output_type": "stream",
     "text": [
      "帖子#100的内容为: 留学生“一带一路”乐队：把中国唱给世界听\n",
      "帖子#100的主题概率分布:\n",
      "主题#0: 0.1288\n",
      "主题#1: 0.7564\n",
      "主题#2: 0.1148\n"
     ]
    }
   ],
   "source": [
    "# 选择某一条帖子（例如第一条）\n",
    "doc_index = 100\n",
    "\n",
    "# 获取该帖子的主题概率分布\n",
    "print(f\"帖子#{doc_index}的内容为:\", df['标题'][doc_index])\n",
    "topic_distribution = get_topic_distribution(lda_model, tfidf_matrix, doc_index)"
   ]
  },
  {
   "cell_type": "markdown",
   "id": "32ee3641-37f4-4622-9f72-4eaa4d2f6bec",
   "metadata": {},
   "source": [
    "# 获取每个主题下代表性的前5个文档"
   ]
  },
  {
   "cell_type": "code",
   "execution_count": 52,
   "id": "e8c003ee-9459-4564-9445-d490b6043b08",
   "metadata": {},
   "outputs": [],
   "source": [
    "# 获取所有帖子在各个主题上的概率分布\n",
    "doc_topic_dists = lda_model.transform(tfidf_matrix)"
   ]
  },
  {
   "cell_type": "code",
   "execution_count": 53,
   "id": "b549f79d-f377-44a1-bcf7-b0f53b6e5787",
   "metadata": {},
   "outputs": [],
   "source": [
    "# 获取每个主题的前五个代表性文档\n",
    "top_docs_per_topic = {}\n",
    "for topic_idx in range(num_topics):\n",
    "    # 获取当前主题的所有文档概率\n",
    "    topic_probs = doc_topic_dists[:, topic_idx]\n",
    "    # 获取概率最高的前五个文档索引\n",
    "    top_doc_indices = topic_probs.argsort()[-5:][::-1]\n",
    "    top_docs_per_topic[topic_idx] = top_doc_indices"
   ]
  },
  {
   "cell_type": "code",
   "execution_count": 54,
   "id": "90af5067-aeca-4415-addf-fcb23e082a1a",
   "metadata": {},
   "outputs": [
    {
     "name": "stdout",
     "output_type": "stream",
     "text": [
      "主题#0的前五个代表性文档:\n",
      "文档索引: 21, 标题: 澜湄合作国际设计大赛优秀作品展暨冬至文化体验活动在京举办\n",
      "文档索引: 218, 标题: “光影里的故事”探讨“一带一路”促中国影视发展讲座在悉尼举办\n",
      "文档索引: 160, 标题: 陈竺在第四届“一带一路”中医药发展论坛上发表视频致辞\n",
      "文档索引: 224, 标题: 斐济高校成功举办南太平洋岛国与“一带一路”倡议研讨会\n",
      "文档索引: 138, 标题: 巴基斯坦举办论坛呼吁巴中媒体加强合作打击假新闻\n",
      "\n",
      "主题#1的前五个代表性文档:\n",
      "文档索引: 0, 标题: 中乌联合考古揭开古丝绸之路千年遗存神秘面纱\n",
      "文档索引: 221, 标题: 首部“一带一路”纪录影片《共同命运》在威尼斯电影节举办推介会\n",
      "文档索引: 205, 标题: 通讯：中文交往与海上丝路的历史见证——访文莱海事博物馆\n",
      "文档索引: 195, 标题: 开罗老咖啡馆——埃及文豪马赫福兹的灵感之地\n",
      "文档索引: 192, 标题: 中国驻克罗地亚大使馆与华侨华人举办元宵节慈善晚宴\n",
      "\n",
      "主题#2的前五个代表性文档:\n",
      "文档索引: 282, 标题: 这位巴西孔院院长希望用30年培养出一批“知华派”\n",
      "文档索引: 51, 标题: 中企参建\"地铁学校\"在哥伦比亚首都波哥大\"开课\"\n",
      "文档索引: 20, 标题: 中企承建的铁路成为尼日利亚假日出行热门选择\n",
      "文档索引: 194, 标题: 中埃两国企业签署12部中国图书阿语版权协议\n",
      "文档索引: 7, 标题: “在火车上体验中国书法真有趣”——“兰亭·雅集”中国书法主题活动走进中老铁路\n",
      "\n"
     ]
    }
   ],
   "source": [
    "# 打印每个主题的前五个代表性文档\n",
    "for topic_idx, doc_indices in top_docs_per_topic.items():\n",
    "    print(f\"主题#{topic_idx}的前五个代表性文档:\")\n",
    "    for doc_index in doc_indices:\n",
    "        print(f\"文档索引: {doc_index}, 标题: {df['标题'][doc_index]}\")\n",
    "    print()"
   ]
  },
  {
   "cell_type": "markdown",
   "id": "803cc382-dc9d-4818-be57-48d7c8086039",
   "metadata": {},
   "source": [
    "# 确定每一条帖子的概率最大的主题，并写入数据框"
   ]
  },
  {
   "cell_type": "code",
   "execution_count": 55,
   "id": "237ede3e-3e93-4cb6-a2fe-87118facec94",
   "metadata": {},
   "outputs": [],
   "source": [
    "# 封装获取主要主题的函数\n",
    "def get_main_topic(lda_model, tfidf_matrix):\n",
    "    \"\"\"\n",
    "    获取每条帖子的主要主题，并返回主题列表\n",
    "\n",
    "    参数:\n",
    "    lda_model: 已训练的LDA模型\n",
    "    tfidf_matrix: TF-IDF矩阵\n",
    "\n",
    "    返回:\n",
    "    每条帖子的主要主题列表\n",
    "    \"\"\"\n",
    "    # 获取所有帖子在各个主题上的概率分布\n",
    "    doc_topic_dists = lda_model.transform(tfidf_matrix)\n",
    "\n",
    "    # 计算每条帖子的主要主题\n",
    "    main_topics = doc_topic_dists.argmax(axis=1)\n",
    "    \n",
    "    return main_topics"
   ]
  },
  {
   "cell_type": "code",
   "execution_count": null,
   "id": "9ff6e359-44c5-4ffc-ba13-be33190eb88f",
   "metadata": {},
   "outputs": [],
   "source": []
  },
  {
   "cell_type": "code",
   "execution_count": null,
   "id": "b1c42839-ff01-40e3-8250-cd351cb42000",
   "metadata": {},
   "outputs": [],
   "source": []
  },
  {
   "cell_type": "code",
   "execution_count": 56,
   "id": "fb159d31-3b46-4de6-921a-a327a5dd9f19",
   "metadata": {},
   "outputs": [],
   "source": [
    "# 获取每条帖子的主要主题\n",
    "main_topics = get_main_topic(lda_model, tfidf_matrix)"
   ]
  },
  {
   "cell_type": "code",
   "execution_count": 57,
   "id": "9ab6e50e-57f9-4954-9beb-059519c0ce3d",
   "metadata": {},
   "outputs": [],
   "source": [
    "# 将主要主题添加到数据框中\n",
    "df['主要主题'] = main_topics"
   ]
  },
  {
   "cell_type": "code",
   "execution_count": 58,
   "id": "b7afadc9-3920-4a1a-91f7-3543b4381c3b",
   "metadata": {},
   "outputs": [
    {
     "data": {
      "text/html": [
       "<div>\n",
       "<style scoped>\n",
       "    .dataframe tbody tr th:only-of-type {\n",
       "        vertical-align: middle;\n",
       "    }\n",
       "\n",
       "    .dataframe tbody tr th {\n",
       "        vertical-align: top;\n",
       "    }\n",
       "\n",
       "    .dataframe thead th {\n",
       "        text-align: right;\n",
       "    }\n",
       "</style>\n",
       "<table border=\"1\" class=\"dataframe\">\n",
       "  <thead>\n",
       "    <tr style=\"text-align: right;\">\n",
       "      <th></th>\n",
       "      <th>标题</th>\n",
       "      <th>日期</th>\n",
       "      <th>新标题</th>\n",
       "      <th>新标题2</th>\n",
       "      <th>新标题3</th>\n",
       "      <th>主要主题</th>\n",
       "    </tr>\n",
       "  </thead>\n",
       "  <tbody>\n",
       "    <tr>\n",
       "      <th>0</th>\n",
       "      <td>中乌联合考古揭开古丝绸之路千年遗存神秘面纱</td>\n",
       "      <td>2024/6/19</td>\n",
       "      <td>中乌联合考古揭开古丝绸之路千年遗存神秘面纱</td>\n",
       "      <td>中乌 联合 考古 揭开 丝绸之路 千年 遗存 神秘 面纱</td>\n",
       "      <td>[中乌, 联合, 考古, 揭开, 丝绸之路, 千年, 遗存, 神秘, 面纱]</td>\n",
       "      <td>1</td>\n",
       "    </tr>\n",
       "    <tr>\n",
       "      <th>1</th>\n",
       "      <td>中尼舞者“以舞会友”促文化交流</td>\n",
       "      <td>2024/6/10</td>\n",
       "      <td>中尼舞者以舞会友促文化交流</td>\n",
       "      <td>中尼 舞者 舞会 友促 文化交流</td>\n",
       "      <td>[中尼, 舞者, 舞会, 友促, 文化交流]</td>\n",
       "      <td>2</td>\n",
       "    </tr>\n",
       "    <tr>\n",
       "      <th>2</th>\n",
       "      <td>心相近｜这所高校为海外学子打开“中国之窗”</td>\n",
       "      <td>2024/6/4</td>\n",
       "      <td>心相近这所高校为海外学子打开中国之窗</td>\n",
       "      <td>相近 这所 高校 海外 学子 打开 中国 之窗</td>\n",
       "      <td>[相近, 这所, 高校, 海外, 学子, 打开, 中国, 之窗]</td>\n",
       "      <td>1</td>\n",
       "    </tr>\n",
       "    <tr>\n",
       "      <th>3</th>\n",
       "      <td>“茶和天下·雅集”暨中国（广西）文化旅游推介会在科伦坡举行</td>\n",
       "      <td>2024/5/23</td>\n",
       "      <td>茶和天下雅集暨中国广西文化旅游推介会在科伦坡举行</td>\n",
       "      <td>天下 雅集 中国 广西 文化 旅游 推介会 科伦坡</td>\n",
       "      <td>[天下, 雅集, 中国, 广西, 文化, 旅游, 推介会, 科伦坡]</td>\n",
       "      <td>0</td>\n",
       "    </tr>\n",
       "    <tr>\n",
       "      <th>4</th>\n",
       "      <td>中国图书首次正式亮相多哈国际书展</td>\n",
       "      <td>2024/5/14</td>\n",
       "      <td>中国图书首次正式亮相多哈国际书展</td>\n",
       "      <td>中国 图书 首次 正式 亮相 多哈 国际 书展</td>\n",
       "      <td>[中国, 图书, 首次, 正式, 亮相, 多哈, 国际, 书展]</td>\n",
       "      <td>0</td>\n",
       "    </tr>\n",
       "  </tbody>\n",
       "</table>\n",
       "</div>"
      ],
      "text/plain": [
       "                              标题         日期                       新标题  \\\n",
       "0          中乌联合考古揭开古丝绸之路千年遗存神秘面纱  2024/6/19     中乌联合考古揭开古丝绸之路千年遗存神秘面纱   \n",
       "1                中尼舞者“以舞会友”促文化交流  2024/6/10             中尼舞者以舞会友促文化交流   \n",
       "2          心相近｜这所高校为海外学子打开“中国之窗”   2024/6/4        心相近这所高校为海外学子打开中国之窗   \n",
       "3  “茶和天下·雅集”暨中国（广西）文化旅游推介会在科伦坡举行  2024/5/23  茶和天下雅集暨中国广西文化旅游推介会在科伦坡举行   \n",
       "4               中国图书首次正式亮相多哈国际书展  2024/5/14          中国图书首次正式亮相多哈国际书展   \n",
       "\n",
       "                           新标题2                                    新标题3  主要主题  \n",
       "0  中乌 联合 考古 揭开 丝绸之路 千年 遗存 神秘 面纱  [中乌, 联合, 考古, 揭开, 丝绸之路, 千年, 遗存, 神秘, 面纱]     1  \n",
       "1              中尼 舞者 舞会 友促 文化交流                  [中尼, 舞者, 舞会, 友促, 文化交流]     2  \n",
       "2       相近 这所 高校 海外 学子 打开 中国 之窗        [相近, 这所, 高校, 海外, 学子, 打开, 中国, 之窗]     1  \n",
       "3     天下 雅集 中国 广西 文化 旅游 推介会 科伦坡      [天下, 雅集, 中国, 广西, 文化, 旅游, 推介会, 科伦坡]     0  \n",
       "4       中国 图书 首次 正式 亮相 多哈 国际 书展        [中国, 图书, 首次, 正式, 亮相, 多哈, 国际, 书展]     0  "
      ]
     },
     "execution_count": 58,
     "metadata": {},
     "output_type": "execute_result"
    }
   ],
   "source": [
    "df.head()"
   ]
  },
  {
   "cell_type": "code",
   "execution_count": 59,
   "id": "b7cf8857-e645-47f7-9479-e96f78d6343e",
   "metadata": {},
   "outputs": [],
   "source": [
    "# df.to_csv(r'D:\\EasySpider_windows_x32\\Data\\Task_0\\一带一路中新网2.csv')"
   ]
  },
  {
   "cell_type": "code",
   "execution_count": 60,
   "id": "6ddef106-b624-4e9a-ab65-741e0c896b64",
   "metadata": {},
   "outputs": [],
   "source": [
    "import pyLDAvis\n",
    "import pyLDAvis.lda_model"
   ]
  },
  {
   "cell_type": "code",
   "execution_count": 61,
   "id": "d86070ac-c831-449f-94af-588f11311960",
   "metadata": {},
   "outputs": [
    {
     "data": {
      "text/html": [
       "\n",
       "<link rel=\"stylesheet\" type=\"text/css\" href=\"https://cdn.jsdelivr.net/gh/bmabey/pyLDAvis@3.4.0/pyLDAvis/js/ldavis.v1.0.0.css\">\n",
       "\n",
       "\n",
       "<div id=\"ldavis_el571226136125897123631349455\" style=\"background-color:white;\"></div>\n",
       "<script type=\"text/javascript\">\n",
       "\n",
       "var ldavis_el571226136125897123631349455_data = {\"mdsDat\": {\"x\": [0.04501102800818491, -0.006450184717873043, -0.03856084329031189], \"y\": [0.015201604250932947, -0.03956401302463727, 0.024362408773704325], \"topics\": [1, 2, 3], \"cluster\": [1, 1, 1], \"Freq\": [37.932449224550275, 31.623738721876677, 30.443812053573048]}, \"tinfo\": {\"Term\": [\"\\u4e1d\\u7ef8\\u4e4b\\u8def\", \"\\u6bd4\\u8d5b\", \"\\u8bba\\u575b\", \"\\u6c49\\u8bed\", \"\\u6d77\\u4e0a\", \"\\u9a6c\\u6765\\u897f\\u4e9a\", \"\\u4e3e\\u529e\", \"\\u5408\\u4f5c\", \"\\u4e00\\u5e26\", \"\\u53d1\\u884c\", \"\\u751f\\u8096\", \"\\u4eea\\u5f0f\", \"\\u9996\\u5c4a\", \"\\u4e2d\\u4f01\", \"\\u5b66\\u9662\", \"\\u5b54\\u5b50\", \"\\u8d5b\\u533a\", \"\\u4eae\\u76f8\", \"\\u4e00\\u8def\", \"\\u94c1\\u8def\", \"\\u547d\\u8fd0\", \"\\u7535\\u5f71\\u8282\", \"\\u975e\\u6d32\", \"\\u8001\\u631d\", \"\\u4e3b\\u9898\", \"\\u5386\\u53f2\", \"\\u90ae\\u7968\", \"\\u8fde\\u7ebf\", \"\\u4e2d\\u8001\", \"\\u5f00\\u5e55\", \"\\u8bba\\u575b\", \"\\u97f3\\u4e50\\u4f1a\", \"\\u5021\\u8bae\", \"\\u79d1\\u5a01\\u7279\", \"\\u5317\\u4eac\", \"\\u5f53\\u4ee3\\u827a\\u672f\", \"\\u843d\\u5e55\", \"\\u4e2d\\u533b\\u836f\", \"\\u610f\\u5927\\u5229\", \"\\u51fa\\u7248\", \"\\u6566\\u714c\", \"\\u5408\\u4f5c\", \"\\u4e00\\u8def\\u4e0a\", \"\\u6587\\u5316\\u8bba\\u575b\", \"\\u5c3c\\u6cca\\u5c14\", \"\\u7814\\u8ba8\\u4f1a\", \"\\u53d1\\u5c55\", \"\\u7b2c\\u516b\\u5c4a\", \"\\u6c49\\u5b66\\u5bb6\", \"\\u6f14\\u51fa\", \"\\u4eac\\u5267\", \"\\u8bb0\\u8005\", \"\\u8bed\\u8a00\", \"\\u4e3e\\u529e\", \"\\u4eae\\u76f8\", \"\\u5de1\\u5c55\", \"\\u65b0\\u52a0\\u5761\", \"\\u6559\\u5e08\", \"\\u963f\\u62c9\\u4f2f\", \"\\u7f8e\\u5473\", \"\\u4e00\\u5e26\", \"\\u4e00\\u8def\", \"\\u9752\\u5e74\", \"\\u5f00\\u5e55\", \"\\u4e2d\\u56fd\", \"\\u4e1d\\u8def\", \"\\u7b2c\\u4e8c\\u5c4a\", \"\\u827a\\u672f\", \"\\u5e0c\\u814a\", \"\\u6d3b\\u52a8\", \"\\u56fd\\u9645\", \"\\u6587\\u5316\", \"\\u8d70\\u8fdb\", \"\\u7535\\u5f71\", \"\\u56fd\\u5bb6\", \"\\u4ea4\\u6d41\", \"\\u6545\\u4e8b\", \"\\u8fde\\u7ebf\", \"\\u4e1d\\u7ef8\\u4e4b\\u8def\", \"\\u6d77\\u4e0a\", \"\\u9996\\u5c4a\", \"\\u547d\\u8fd0\", \"\\u5386\\u53f2\", \"\\u7535\\u5f71\\u8282\", \"\\u9a6c\\u6765\\u897f\\u4e9a\", \"\\u5e74\\u8f7b\\u4eba\", \"\\u5b66\\u751f\", \"\\u4e2d\\u56fd\\u653f\\u5e9c\", \"\\u5956\\u5b66\\u91d1\", \"\\u7b2c\\u4e94\\u5c4a\", \"\\u4e4b\\u591c\", \"\\u6cc9\\u5dde\", \"\\u5e02\\u573a\", \"\\u9881\\u5956\\u5178\\u793c\", \"\\u751f\\u673a\", \"\\u8fea\\u62dc\", \"\\u4e0d\\u89e3\\u4e4b\\u7f18\", \"\\u514b\\u7f57\\u5730\\u4e9a\", \"\\u7eaa\\u5f55\", \"\\u53d1\\u73b0\", \"\\u4e0a\\u6f14\", \"\\u975e\\u4e2d\", \"\\u54c8\\u8428\\u514b\\u65af\\u5766\", \"\\u66f4\\u8981\", \"\\u4e50\\u961f\", \"\\u53e4\\u57ce\", \"\\u7535\\u5f71\\u5468\", \"\\u4e3b\\u9898\", \"\\u6d77\\u4e1d\", \"\\u6587\\u5316\\u4ea4\\u6d41\", \"\\u4e2d\\u56fd\", \"\\u6587\\u5316\", \"\\u8001\\u631d\", \"\\u7cfb\\u5217\", \"\\u4e1d\\u8def\", \"\\u4e16\\u754c\", \"\\u4e00\\u8def\", \"\\u4e00\\u5e26\", \"\\u6d3b\\u52a8\", \"\\u5168\\u7403\", \"\\u65c5\\u6e38\", \"\\u7535\\u5f71\", \"\\u56fd\\u9645\", \"\\u542f\\u52a8\", \"\\u5f00\\u5e55\", \"\\u4e3e\\u529e\", \"\\u7559\\u5b66\\u751f\", \"\\u4e2d\\u6587\", \"\\u4eae\\u76f8\", \"\\u6bd4\\u8d5b\", \"\\u6c49\\u8bed\", \"\\u53d1\\u884c\", \"\\u751f\\u8096\", \"\\u4eea\\u5f0f\", \"\\u4e2d\\u4f01\", \"\\u5b66\\u9662\", \"\\u5b54\\u5b50\", \"\\u8d5b\\u533a\", \"\\u975e\\u6d32\", \"\\u90ae\\u7968\", \"\\u5149\\u534e\", \"\\u5f00\\u82b1\\u7ed3\\u679c\", \"\\u9752\\u7750\", \"\\u4ee5\\u8272\\u5217\", \"\\u751f\\u6d3b\", \"\\u5171\\u8d62\", \"\\u9996\\u90fd\", \"\\u5efa\\u8bbe\", \"\\u7b7e\\u7f72\", \"\\u5362\\u65fa\\u8fbe\", \"\\u5e0c\\u671b\", \"\\u627f\\u5efa\", \"\\u57f9\\u517b\", \"\\u94c1\\u8def\", \"\\u4e2d\\u8001\", \"\\u8bf4\\u8bdd\", \"\\u77f3\\u5934\", \"\\u4e66\\u6cd5\", \"\\u5708\\u7c89\", \"\\u9879\\u76ee\", \"\\u4e66\\u5c55\", \"\\u8fde\\u7ebf\", \"\\u6d77\\u5916\", \"\\u901a\\u8baf\", \"\\u5168\\u7403\", \"\\u4e2d\\u6587\", \"\\u8001\\u631d\", \"\\u8d70\\u8fdb\", \"\\u6587\\u5316\", \"\\u4e2d\\u56fd\", \"\\u4e16\\u754c\", \"\\u4e00\\u8def\", \"\\u4e00\\u5e26\", \"\\u7559\\u5b66\\u751f\", \"\\u4e1d\\u8def\", \"\\u4ea4\\u6d41\", \"\\u6d3b\\u52a8\"], \"Freq\": [1.0, 1.0, 2.0, 1.0, 1.0, 1.0, 4.0, 2.0, 6.0, 1.0, 1.0, 1.0, 1.0, 1.0, 1.0, 1.0, 1.0, 2.0, 6.0, 1.0, 1.0, 1.0, 0.0, 1.0, 1.0, 1.0, 0.0, 2.0, 1.0, 1.0, 1.704190577882803, 0.8463984590557043, 0.8377602925865743, 0.7623194937368152, 0.7567220750965424, 0.7396500443938796, 0.7202650450823319, 0.7173756171059148, 0.7087897359265457, 0.7090361840732053, 0.707028355196732, 1.6793149698033571, 0.6893731626065356, 0.8956702100579692, 0.6681541187150307, 0.6513261897574716, 0.6398098238063703, 0.6134367989679568, 0.6049073006444978, 0.5945511886730143, 0.5867527725246559, 0.5828712933946302, 0.5802171605532653, 2.712127212371053, 1.4628911251491103, 0.5666471556678496, 0.5591975354430502, 0.5574832678393735, 0.5437053480731163, 0.5385500860164558, 3.967102650547903, 3.747076334882782, 1.0910681193579037, 1.173098596900252, 3.8335284089300616, 1.7022459890149892, 0.7428179436954367, 0.832462597169812, 0.7298164416504875, 1.265240274546761, 1.0966523520502562, 1.5405517544951925, 1.0581651078974956, 0.9080813552992767, 0.7866598528188152, 0.7734637491776891, 0.7453073280694797, 0.7488676607502276, 1.5716928444894134, 1.0357512638768154, 0.9280846233990101, 0.7736074404390881, 0.7284241705241828, 0.8536611122500792, 1.2077819559551066, 0.5418922301046549, 0.5332898943019416, 0.5322565627550299, 0.5322565627550299, 0.519980148183727, 0.5110812613363761, 0.4990235345114653, 0.49700952158636147, 0.5013759866978779, 0.49461735755468983, 0.4819833678855507, 0.48532380920293583, 0.45779692336123085, 0.45599987578139356, 0.44354945530135254, 0.6571653036147879, 0.44164965437172093, 0.6604812875254977, 0.41311047381164684, 0.404505893093178, 0.5590829345318977, 0.38593227793650237, 0.9688110082950154, 0.5410854439006535, 0.9327546137981279, 2.836197085002041, 1.604136089356053, 0.8366527932278888, 0.5525137409257302, 1.0942879893930462, 0.7801633731427885, 1.3720576847892783, 1.3457943660409384, 0.8839924253460625, 0.8739668598312198, 0.6296927590219357, 0.6858680445670456, 0.7466469749223958, 0.606767062080738, 0.6807433152831155, 0.8240842114084641, 0.6324053739071605, 0.5853861610449671, 0.5824893969093113, 1.3355324981385792, 1.138628268039328, 0.8388149862093656, 0.8388149857776004, 0.8295906057670135, 0.8052617657593781, 0.8032674271241678, 0.8032674271233218, 0.7965245440641054, 0.7023117532764355, 0.6680216172204996, 0.5485336193232294, 0.5263262740427493, 0.5217812605158697, 0.5174688459388307, 0.4786146039028834, 0.539641829056166, 0.46942593789594644, 0.46540846866177205, 0.45553459504728083, 0.4507084104095678, 0.44896552648741733, 0.44460855032574836, 0.42174584506112434, 1.0000376655043113, 0.7207890997038967, 0.38810350469656785, 0.3881035046965678, 0.3837676107870851, 0.37626006261220707, 0.8333001568745757, 0.5525364057509242, 1.1613154601840758, 0.5293561424407092, 0.8650716286918148, 1.220032084978991, 0.9075169387953016, 0.7587090949382543, 0.8296822688211124, 1.0883028033289581, 1.4452460984550952, 0.6889023625134076, 1.0567214148094752, 1.0376221065507865, 0.6559087268954279, 0.7216296537043936, 0.5600419029871413, 0.5531118925604728], \"Total\": [1.0, 1.0, 2.0, 1.0, 1.0, 1.0, 4.0, 2.0, 6.0, 1.0, 1.0, 1.0, 1.0, 1.0, 1.0, 1.0, 1.0, 2.0, 6.0, 1.0, 1.0, 1.0, 0.0, 1.0, 1.0, 1.0, 0.0, 2.0, 1.0, 1.0, 2.002993466902246, 1.126603433246553, 1.1178494164971595, 1.0425845042389474, 1.037377318409642, 1.019924283577066, 1.0005476667635849, 0.997592457741404, 0.9890584874980546, 0.9896074157647202, 0.9873930842144746, 2.358320537735511, 0.9699243210884279, 1.264936016634268, 0.9488194467292156, 0.9314648509183573, 0.919937587955112, 0.8943626330364528, 0.8853252474136137, 0.8752239781707849, 0.8670851169662793, 0.8631840308098173, 0.8605000055098747, 4.032267668455994, 2.1850863169874644, 0.8469630293338738, 0.8394628659162798, 0.837890189927724, 0.823972224973549, 0.8188676665497879, 6.350519123139628, 6.1758554344815355, 1.7464448616368924, 1.9934798811919305, 8.114971592387198, 3.5181636321124294, 1.1878873214942836, 1.3916791183751356, 1.1838335230803527, 2.7023445924532963, 2.3582214011419373, 4.232990647180204, 2.2577986697467547, 1.7337976530677628, 1.462427777542432, 1.7609849430112257, 1.4760528189456839, 2.243087226941694, 1.869327736669882, 1.353779902444611, 1.2693254574774768, 1.0635695261026679, 1.0186340794506723, 1.244806315100928, 1.7994791432309898, 0.8319714492092667, 0.8233182118692308, 0.8223031651023747, 0.8223031651023747, 0.8100297268293966, 0.8013697436245528, 0.7889555212457191, 0.7871229190387249, 0.7946170829821246, 0.7845900794234111, 0.7720180804150357, 0.7774000478883081, 0.7479230037070721, 0.745952928681308, 0.7336205370877862, 1.0878652535203825, 0.732662761102624, 1.11079764311872, 0.7083391649192499, 0.6952669827390999, 0.977532257012327, 0.6763163941227062, 1.6993336542988855, 0.9767643017080708, 1.7985283920651507, 8.114971592387198, 4.232990647180204, 1.8018997902508604, 1.0388176297841252, 3.5181636321124294, 1.9467986055269215, 6.1758554344815355, 6.350519123139628, 2.7023445924532963, 2.787052029301932, 1.3561066848309393, 1.7337976530677628, 2.3582214011419373, 1.371624511280284, 1.9934798811919305, 4.032267668455994, 1.8697903700406577, 2.044890083254832, 2.1850863169874644, 1.635337968941928, 1.454917908275429, 1.1315122759016218, 1.1315122759370322, 1.1214617483870546, 1.0969152453881414, 1.095200750498394, 1.0952007504984151, 1.0883798613128857, 0.9946469299817994, 0.9598269751066325, 0.8456296414082849, 0.8181593936046593, 0.8139504644042443, 0.8096251952324685, 0.7703848577800751, 0.8742032461898303, 0.7614228342180556, 0.7572697902732477, 0.7473181200635743, 0.7424446780947724, 0.740700450150648, 0.7363200770833582, 0.7134003653984577, 1.705576740715371, 1.246515794989562, 0.6806101796132076, 0.6806101796132076, 0.6755974079210739, 0.6682575810915499, 1.5250306718804643, 0.997579388657429, 2.243087226941694, 0.9583695430931969, 1.78491523605476, 2.787052029301932, 2.044890083254832, 1.8018997902508604, 2.2577986697467547, 4.232990647180204, 8.114971592387198, 1.9467986055269215, 6.1758554344815355, 6.350519123139628, 1.8697903700406577, 3.5181636321124294, 1.7609849430112257, 2.7023445924532963], \"Category\": [\"Default\", \"Default\", \"Default\", \"Default\", \"Default\", \"Default\", \"Default\", \"Default\", \"Default\", \"Default\", \"Default\", \"Default\", \"Default\", \"Default\", \"Default\", \"Default\", \"Default\", \"Default\", \"Default\", \"Default\", \"Default\", \"Default\", \"Default\", \"Default\", \"Default\", \"Default\", \"Default\", \"Default\", \"Default\", \"Default\", \"Topic1\", \"Topic1\", \"Topic1\", \"Topic1\", \"Topic1\", \"Topic1\", \"Topic1\", \"Topic1\", \"Topic1\", \"Topic1\", \"Topic1\", \"Topic1\", \"Topic1\", \"Topic1\", \"Topic1\", \"Topic1\", \"Topic1\", \"Topic1\", \"Topic1\", \"Topic1\", \"Topic1\", \"Topic1\", \"Topic1\", \"Topic1\", \"Topic1\", \"Topic1\", \"Topic1\", \"Topic1\", \"Topic1\", \"Topic1\", \"Topic1\", \"Topic1\", \"Topic1\", \"Topic1\", \"Topic1\", \"Topic1\", \"Topic1\", \"Topic1\", \"Topic1\", \"Topic1\", \"Topic1\", \"Topic1\", \"Topic1\", \"Topic1\", \"Topic1\", \"Topic1\", \"Topic1\", \"Topic1\", \"Topic2\", \"Topic2\", \"Topic2\", \"Topic2\", \"Topic2\", \"Topic2\", \"Topic2\", \"Topic2\", \"Topic2\", \"Topic2\", \"Topic2\", \"Topic2\", \"Topic2\", \"Topic2\", \"Topic2\", \"Topic2\", \"Topic2\", \"Topic2\", \"Topic2\", \"Topic2\", \"Topic2\", \"Topic2\", \"Topic2\", \"Topic2\", \"Topic2\", \"Topic2\", \"Topic2\", \"Topic2\", \"Topic2\", \"Topic2\", \"Topic2\", \"Topic2\", \"Topic2\", \"Topic2\", \"Topic2\", \"Topic2\", \"Topic2\", \"Topic2\", \"Topic2\", \"Topic2\", \"Topic2\", \"Topic2\", \"Topic2\", \"Topic2\", \"Topic2\", \"Topic2\", \"Topic2\", \"Topic2\", \"Topic2\", \"Topic2\", \"Topic2\", \"Topic3\", \"Topic3\", \"Topic3\", \"Topic3\", \"Topic3\", \"Topic3\", \"Topic3\", \"Topic3\", \"Topic3\", \"Topic3\", \"Topic3\", \"Topic3\", \"Topic3\", \"Topic3\", \"Topic3\", \"Topic3\", \"Topic3\", \"Topic3\", \"Topic3\", \"Topic3\", \"Topic3\", \"Topic3\", \"Topic3\", \"Topic3\", \"Topic3\", \"Topic3\", \"Topic3\", \"Topic3\", \"Topic3\", \"Topic3\", \"Topic3\", \"Topic3\", \"Topic3\", \"Topic3\", \"Topic3\", \"Topic3\", \"Topic3\", \"Topic3\", \"Topic3\", \"Topic3\", \"Topic3\", \"Topic3\", \"Topic3\", \"Topic3\", \"Topic3\", \"Topic3\", \"Topic3\", \"Topic3\"], \"logprob\": [30.0, 29.0, 28.0, 27.0, 26.0, 25.0, 24.0, 23.0, 22.0, 21.0, 20.0, 19.0, 18.0, 17.0, 16.0, 15.0, 14.0, 13.0, 12.0, 11.0, 10.0, 9.0, 8.0, 7.0, 6.0, 5.0, 4.0, 3.0, 2.0, 1.0, -5.0806, -5.7804, -5.7907, -5.8851, -5.8924, -5.9153, -5.9418, -5.9458, -5.9579, -5.9575, -5.9604, -5.0953, -5.9857, -5.7239, -6.0169, -6.0424, -6.0603, -6.1024, -6.1164, -6.1336, -6.1468, -6.1535, -6.158, -4.6159, -5.2333, -6.1817, -6.1949, -6.198, -6.223, -6.2326, -4.2356, -4.2927, -5.5265, -5.454, -4.2699, -5.0817, -5.911, -5.797, -5.9286, -5.3784, -5.5214, -5.1815, -5.5571, -5.7101, -5.8536, -5.8706, -5.9076, -5.9029, -4.9796, -5.3967, -5.5064, -5.6885, -5.7487, -5.59, -5.243, -6.0445, -6.0605, -6.0624, -6.0624, -6.0857, -6.103, -6.1269, -6.1309, -6.1222, -6.1358, -6.1616, -6.1547, -6.2131, -6.217, -6.2447, -5.8516, -6.249, -5.8466, -6.3158, -6.3369, -6.0132, -6.3839, -5.4635, -6.046, -5.5014, -4.3893, -4.9592, -5.6101, -6.0251, -5.3417, -5.68, -5.1155, -5.1348, -5.5551, -5.5665, -5.8943, -5.8088, -5.7239, -5.9314, -5.8163, -5.6253, -5.89, -5.9673, -5.9722, -5.1044, -5.2639, -5.5695, -5.5695, -5.5806, -5.6103, -5.6128, -5.6128, -5.6213, -5.7471, -5.7972, -5.9943, -6.0356, -6.0443, -6.0526, -6.1306, -6.0106, -6.15, -6.1586, -6.18, -6.1907, -6.1946, -6.2043, -6.2571, -5.3937, -5.7212, -6.3402, -6.3402, -6.3515, -6.3712, -5.5761, -5.987, -5.2442, -6.0298, -5.5387, -5.1949, -5.4908, -5.6699, -5.5805, -5.3091, -5.0255, -5.7664, -5.3386, -5.3568, -5.8155, -5.72, -5.9735, -5.9859], \"loglift\": [30.0, 29.0, 28.0, 27.0, 26.0, 25.0, 24.0, 23.0, 22.0, 21.0, 20.0, 19.0, 18.0, 17.0, 16.0, 15.0, 14.0, 13.0, 12.0, 11.0, 10.0, 9.0, 8.0, 7.0, 6.0, 5.0, 4.0, 3.0, 2.0, 1.0, 0.8078, 0.6834, 0.6809, 0.6563, 0.6539, 0.6481, 0.6407, 0.6396, 0.6362, 0.636, 0.6354, 0.6298, 0.6279, 0.6242, 0.6187, 0.6116, 0.6062, 0.5923, 0.5885, 0.5827, 0.5788, 0.5767, 0.5753, 0.5728, 0.5681, 0.5674, 0.5631, 0.5619, 0.5536, 0.5503, 0.4989, 0.4697, 0.4989, 0.4391, 0.2194, 0.2434, 0.4999, 0.4555, 0.4856, 0.2105, 0.2037, -0.0414, 0.2115, 0.3226, 0.3493, 0.1466, 0.286, -0.1277, 0.9778, 0.8835, 0.8381, 0.8329, 0.8159, 0.7741, 0.7526, 0.7225, 0.717, 0.7163, 0.7163, 0.708, 0.7015, 0.6932, 0.6915, 0.6908, 0.6899, 0.6802, 0.6801, 0.6604, 0.6591, 0.6481, 0.6472, 0.6451, 0.6314, 0.6121, 0.6096, 0.5925, 0.5903, 0.5893, 0.5606, 0.4947, 0.1, 0.1809, 0.3841, 0.5199, -0.0166, 0.2368, -0.3531, -0.4003, 0.0338, -0.0084, 0.3841, 0.2239, 0.0012, 0.3357, 0.0768, -0.4365, 0.0672, -0.0996, -0.1708, 0.9868, 0.9442, 0.89, 0.89, 0.8878, 0.8802, 0.8793, 0.8793, 0.8771, 0.8413, 0.8269, 0.7565, 0.7482, 0.7446, 0.7417, 0.7133, 0.7069, 0.7056, 0.7025, 0.6943, 0.6902, 0.6886, 0.6848, 0.6636, 0.6554, 0.6415, 0.6276, 0.6276, 0.6237, 0.6149, 0.5849, 0.5985, 0.531, 0.5957, 0.465, 0.3632, 0.3769, 0.3243, 0.1882, -0.169, -0.5361, 0.1504, -0.5762, -0.6223, 0.1417, -0.3949, 0.0437, -0.397]}, \"token.table\": {\"Topic\": [1, 2, 3, 1, 2, 3, 1, 2, 2, 3, 2, 1, 2, 3, 3, 1, 1, 2, 3, 2, 1, 2, 3, 3, 2, 3, 1, 2, 2, 3, 1, 3, 1, 1, 2, 3, 3, 1, 3, 1, 2, 3, 3, 1, 1, 2, 1, 3, 2, 1, 3, 2, 2, 2, 1, 3, 1, 2, 3, 2, 3, 2, 3, 1, 1, 1, 2, 1, 2, 3, 1, 1, 1, 1, 1, 1, 2, 3, 2, 1, 1, 1, 2, 3, 1, 3, 1, 2, 3, 2, 2, 3, 1, 3, 1, 2, 2, 1, 2, 3, 1, 1, 1, 2, 1, 2, 1, 2, 3, 1, 1, 1, 1, 1, 3, 1, 3, 1, 3, 1, 3, 3, 3, 1, 1, 3, 3, 1, 3, 2, 2, 2], \"Freq\": [0.629869766933706, 0.1574674417334265, 0.1574674417334265, 0.6476835545189217, 0.16192088862973042, 0.16192088862973042, 1.0310082737979205, 0.9192314919186485, 0.5136638156412381, 0.5136638156412381, 1.0699033458749745, 0.5684783907561257, 0.28423919537806286, 0.28423919537806286, 0.9116474624674871, 1.002413352506741, 0.4929160816474666, 0.36968706123559997, 0.12322902041186665, 1.216096498759679, 0.4890238395641831, 0.4890238395641831, 0.4890238395641831, 0.8022361240985108, 0.5884659539756965, 0.5884659539756965, 0.7439982279620683, 0.24799940932068942, 1.2478634337715984, 1.0024264849194897, 0.5678640263045255, 0.5678640263045255, 1.153289314316405, 0.45764782481393246, 0.45764782481393246, 1.2351394273406586, 0.8916933648769142, 0.8945748731824301, 1.1825507894148928, 0.3588020566126525, 0.3588020566126525, 0.3588020566126525, 1.1438987493565695, 1.0105017242895749, 0.9639694084820135, 0.9817067975374226, 1.0870302649801005, 0.8837730012280874, 1.0229841448468842, 0.8480611384237128, 0.4240305692118564, 0.7290625034591959, 0.9402300230097685, 0.9002539807271825, 0.6837944514979546, 0.6837944514979546, 0.42404839491142066, 0.42404839491142066, 0.42404839491142066, 1.216096498759679, 0.9130746117046667, 1.2145972062607937, 0.9130746117046843, 1.0539412987868395, 1.1806890801201653, 0.8447133659452258, 1.201964323355607, 0.501635361076273, 0.501635361076273, 1.2222557215827892, 0.9804649385274092, 1.0110625535701365, 0.6774825312242422, 1.1934738131810083, 1.0127678793654453, 0.4724791918291374, 0.4724791918291374, 0.2362395959145687, 0.5560101271750041, 0.7905538199954115, 1.1912379220115863, 0.7374051106640376, 0.7374051106640376, 0.6114943938145123, 1.1295283884893115, 0.6873240024829572, 0.37004903178989473, 0.37004903178989473, 0.37004903178989473, 0.7386725110885698, 1.02378843929011, 1.0434388354751323, 1.1425646748047242, 0.88377300120043, 0.5767685740205097, 0.5767685740205097, 0.8033378268320567, 0.5348193123800586, 0.5348193123800586, 0.5348193123800586, 1.073577815646046, 0.9591548655616815, 0.8418306870571413, 1.2345225945153662, 1.1181146920292249, 0.9626328734985063, 1.2211985414119402, 0.5549698187493435, 0.5549698187493435, 0.7185564450859597, 0.9994526330111224, 1.1585015064074176, 0.9985055034119131, 1.1621150419487412, 0.9187968608622772, 0.4429092874397719, 0.4429092874397719, 0.44581413865185976, 0.44581413865185976, 0.5602506941507898, 0.5602506941507898, 1.041854444535594, 0.5863119355043324, 1.2136331416172454, 0.5725917960345618, 1.2285759929284286, 1.0053818795965104, 0.8876237817936363, 0.6557245165219749, 1.2584677845674954, 0.7878200142517383, 0.5557163603488541], \"Term\": [\"\\u4e00\\u5e26\", \"\\u4e00\\u5e26\", \"\\u4e00\\u5e26\", \"\\u4e00\\u8def\", \"\\u4e00\\u8def\", \"\\u4e00\\u8def\", \"\\u4e00\\u8def\\u4e0a\", \"\\u4e0a\\u6f14\", \"\\u4e16\\u754c\", \"\\u4e16\\u754c\", \"\\u4e1d\\u7ef8\\u4e4b\\u8def\", \"\\u4e1d\\u8def\", \"\\u4e1d\\u8def\", \"\\u4e1d\\u8def\", \"\\u4e2d\\u4f01\", \"\\u4e2d\\u533b\\u836f\", \"\\u4e2d\\u56fd\", \"\\u4e2d\\u56fd\", \"\\u4e2d\\u56fd\", \"\\u4e2d\\u56fd\\u653f\\u5e9c\", \"\\u4e2d\\u6587\", \"\\u4e2d\\u6587\", \"\\u4e2d\\u6587\", \"\\u4e2d\\u8001\", \"\\u4e3b\\u9898\", \"\\u4e3b\\u9898\", \"\\u4e3e\\u529e\", \"\\u4e3e\\u529e\", \"\\u4e4b\\u591c\", \"\\u4e66\\u5c55\", \"\\u4ea4\\u6d41\", \"\\u4ea4\\u6d41\", \"\\u4eac\\u5267\", \"\\u4eae\\u76f8\", \"\\u4eae\\u76f8\", \"\\u4ee5\\u8272\\u5217\", \"\\u4eea\\u5f0f\", \"\\u5021\\u8bae\", \"\\u5149\\u534e\", \"\\u5168\\u7403\", \"\\u5168\\u7403\", \"\\u5168\\u7403\", \"\\u5171\\u8d62\", \"\\u51fa\\u7248\", \"\\u5317\\u4eac\", \"\\u5386\\u53f2\", \"\\u53d1\\u5c55\", \"\\u53d1\\u884c\", \"\\u53e4\\u57ce\", \"\\u5408\\u4f5c\", \"\\u5408\\u4f5c\", \"\\u542f\\u52a8\", \"\\u547d\\u8fd0\", \"\\u54c8\\u8428\\u514b\\u65af\\u5766\", \"\\u56fd\\u5bb6\", \"\\u56fd\\u5bb6\", \"\\u56fd\\u9645\", \"\\u56fd\\u9645\", \"\\u56fd\\u9645\", \"\\u5956\\u5b66\\u91d1\", \"\\u5b54\\u5b50\", \"\\u5b66\\u751f\", \"\\u5b66\\u9662\", \"\\u5c3c\\u6cca\\u5c14\", \"\\u5de1\\u5c55\", \"\\u5e0c\\u814a\", \"\\u5e74\\u8f7b\\u4eba\", \"\\u5f00\\u5e55\", \"\\u5f00\\u5e55\", \"\\u5f00\\u82b1\\u7ed3\\u679c\", \"\\u5f53\\u4ee3\\u827a\\u672f\", \"\\u610f\\u5927\\u5229\", \"\\u6545\\u4e8b\", \"\\u6559\\u5e08\", \"\\u6566\\u714c\", \"\\u6587\\u5316\", \"\\u6587\\u5316\", \"\\u6587\\u5316\", \"\\u6587\\u5316\\u4ea4\\u6d41\", \"\\u6587\\u5316\\u8bba\\u575b\", \"\\u65b0\\u52a0\\u5761\", \"\\u65c5\\u6e38\", \"\\u65c5\\u6e38\", \"\\u6bd4\\u8d5b\", \"\\u6c49\\u5b66\\u5bb6\", \"\\u6c49\\u8bed\", \"\\u6d3b\\u52a8\", \"\\u6d3b\\u52a8\", \"\\u6d3b\\u52a8\", \"\\u6d77\\u4e0a\", \"\\u6d77\\u4e1d\", \"\\u6d77\\u5916\", \"\\u6f14\\u51fa\", \"\\u751f\\u8096\", \"\\u7535\\u5f71\", \"\\u7535\\u5f71\", \"\\u7535\\u5f71\\u8282\", \"\\u7559\\u5b66\\u751f\", \"\\u7559\\u5b66\\u751f\", \"\\u7559\\u5b66\\u751f\", \"\\u7814\\u8ba8\\u4f1a\", \"\\u79d1\\u5a01\\u7279\", \"\\u7b2c\\u4e8c\\u5c4a\", \"\\u7b2c\\u4e94\\u5c4a\", \"\\u7b2c\\u516b\\u5c4a\", \"\\u7cfb\\u5217\", \"\\u7f8e\\u5473\", \"\\u8001\\u631d\", \"\\u8001\\u631d\", \"\\u827a\\u672f\", \"\\u843d\\u5e55\", \"\\u8bb0\\u8005\", \"\\u8bba\\u575b\", \"\\u8bed\\u8a00\", \"\\u8d5b\\u533a\", \"\\u8d70\\u8fdb\", \"\\u8d70\\u8fdb\", \"\\u8fde\\u7ebf\", \"\\u8fde\\u7ebf\", \"\\u901a\\u8baf\", \"\\u901a\\u8baf\", \"\\u90ae\\u7968\", \"\\u94c1\\u8def\", \"\\u963f\\u62c9\\u4f2f\", \"\\u9752\\u5e74\", \"\\u9752\\u7750\", \"\\u975e\\u6d32\", \"\\u97f3\\u4e50\\u4f1a\", \"\\u9879\\u76ee\", \"\\u9881\\u5956\\u5178\\u793c\", \"\\u9996\\u5c4a\", \"\\u9a6c\\u6765\\u897f\\u4e9a\"]}, \"R\": 30, \"lambda.step\": 0.01, \"plot.opts\": {\"xlab\": \"PC1\", \"ylab\": \"PC2\"}, \"topic.order\": [1, 2, 3]};\n",
       "\n",
       "function LDAvis_load_lib(url, callback){\n",
       "  var s = document.createElement('script');\n",
       "  s.src = url;\n",
       "  s.async = true;\n",
       "  s.onreadystatechange = s.onload = callback;\n",
       "  s.onerror = function(){console.warn(\"failed to load library \" + url);};\n",
       "  document.getElementsByTagName(\"head\")[0].appendChild(s);\n",
       "}\n",
       "\n",
       "if(typeof(LDAvis) !== \"undefined\"){\n",
       "   // already loaded: just create the visualization\n",
       "   !function(LDAvis){\n",
       "       new LDAvis(\"#\" + \"ldavis_el571226136125897123631349455\", ldavis_el571226136125897123631349455_data);\n",
       "   }(LDAvis);\n",
       "}else if(typeof define === \"function\" && define.amd){\n",
       "   // require.js is available: use it to load d3/LDAvis\n",
       "   require.config({paths: {d3: \"https://d3js.org/d3.v5\"}});\n",
       "   require([\"d3\"], function(d3){\n",
       "      window.d3 = d3;\n",
       "      LDAvis_load_lib(\"https://cdn.jsdelivr.net/gh/bmabey/pyLDAvis@3.4.0/pyLDAvis/js/ldavis.v3.0.0.js\", function(){\n",
       "        new LDAvis(\"#\" + \"ldavis_el571226136125897123631349455\", ldavis_el571226136125897123631349455_data);\n",
       "      });\n",
       "    });\n",
       "}else{\n",
       "    // require.js not available: dynamically load d3 & LDAvis\n",
       "    LDAvis_load_lib(\"https://d3js.org/d3.v5.js\", function(){\n",
       "         LDAvis_load_lib(\"https://cdn.jsdelivr.net/gh/bmabey/pyLDAvis@3.4.0/pyLDAvis/js/ldavis.v3.0.0.js\", function(){\n",
       "                 new LDAvis(\"#\" + \"ldavis_el571226136125897123631349455\", ldavis_el571226136125897123631349455_data);\n",
       "            })\n",
       "         });\n",
       "}\n",
       "</script>"
      ],
      "text/plain": [
       "<IPython.core.display.HTML object>"
      ]
     },
     "execution_count": 61,
     "metadata": {},
     "output_type": "execute_result"
    }
   ],
   "source": [
    "# 可视化\n",
    "vis = pyLDAvis.lda_model.prepare(lda_model, tfidf_matrix, vectorizer)\n",
    "# 在 Jupyter Notebook 中显示\n",
    "pyLDAvis.display(vis)"
   ]
  },
  {
   "cell_type": "code",
   "execution_count": null,
   "id": "ef457942-9fa6-4178-9cb1-5186d8aa69a8",
   "metadata": {},
   "outputs": [],
   "source": []
  },
  {
   "cell_type": "code",
   "execution_count": null,
   "id": "aa18d096-de59-417f-8d72-f8a8093bd8a0",
   "metadata": {},
   "outputs": [],
   "source": []
  }
 ],
 "metadata": {
  "kernelspec": {
   "display_name": "Python 3 (ipykernel)",
   "language": "python",
   "name": "python3"
  },
  "language_info": {
   "codemirror_mode": {
    "name": "ipython",
    "version": 3
   },
   "file_extension": ".py",
   "mimetype": "text/x-python",
   "name": "python",
   "nbconvert_exporter": "python",
   "pygments_lexer": "ipython3",
   "version": "3.11.7"
  }
 },
 "nbformat": 4,
 "nbformat_minor": 5
}
