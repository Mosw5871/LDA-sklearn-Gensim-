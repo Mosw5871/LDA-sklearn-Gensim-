{
 "cells": [
  {
   "cell_type": "code",
   "execution_count": 8,
   "metadata": {
    "ExecuteTime": {
     "end_time": "2023-12-10T10:54:13.090328Z",
     "start_time": "2023-12-10T10:54:13.087411Z"
    }
   },
   "outputs": [],
   "source": [
    "import pandas as pd"
   ]
  },
  {
   "cell_type": "code",
   "execution_count": 9,
   "metadata": {
    "ExecuteTime": {
     "end_time": "2023-12-10T10:54:15.030438Z",
     "start_time": "2023-12-10T10:54:14.983520Z"
    }
   },
   "outputs": [],
   "source": [
    "df = pd.read_csv('/Users/shiwei/Desktop/媒体帖子.csv', encoding='utf8')"
   ]
  },
  {
   "cell_type": "code",
   "execution_count": 10,
   "metadata": {
    "ExecuteTime": {
     "end_time": "2023-12-10T10:54:15.539618Z",
     "start_time": "2023-12-10T10:54:15.531582Z"
    }
   },
   "outputs": [
    {
     "name": "stdout",
     "output_type": "stream",
     "text": [
      "<class 'pandas.core.frame.DataFrame'>\n",
      "RangeIndex: 16241 entries, 0 to 16240\n",
      "Data columns (total 2 columns):\n",
      " #   Column           Non-Null Count  Dtype \n",
      "---  ------           --------------  ----- \n",
      " 0   author.username  16241 non-null  object\n",
      " 1   text             16241 non-null  object\n",
      "dtypes: object(2)\n",
      "memory usage: 253.9+ KB\n"
     ]
    }
   ],
   "source": [
    "df.info()"
   ]
  },
  {
   "cell_type": "code",
   "execution_count": 11,
   "metadata": {
    "ExecuteTime": {
     "end_time": "2023-12-10T10:54:17.435765Z",
     "start_time": "2023-12-10T10:54:17.430956Z"
    }
   },
   "outputs": [],
   "source": [
    "df_medialist = pd.read_csv('中国-合作国-非合作国名单.csv', encoding='utf8')"
   ]
  },
  {
   "cell_type": "code",
   "execution_count": 12,
   "metadata": {
    "ExecuteTime": {
     "end_time": "2023-12-10T10:54:18.325708Z",
     "start_time": "2023-12-10T10:54:18.317503Z"
    }
   },
   "outputs": [
    {
     "data": {
      "text/html": [
       "<div>\n",
       "<style scoped>\n",
       "    .dataframe tbody tr th:only-of-type {\n",
       "        vertical-align: middle;\n",
       "    }\n",
       "\n",
       "    .dataframe tbody tr th {\n",
       "        vertical-align: top;\n",
       "    }\n",
       "\n",
       "    .dataframe thead th {\n",
       "        text-align: right;\n",
       "    }\n",
       "</style>\n",
       "<table border=\"1\" class=\"dataframe\">\n",
       "  <thead>\n",
       "    <tr style=\"text-align: right;\">\n",
       "      <th></th>\n",
       "      <th>china</th>\n",
       "      <th>in</th>\n",
       "      <th>out</th>\n",
       "    </tr>\n",
       "  </thead>\n",
       "  <tbody>\n",
       "    <tr>\n",
       "      <th>0</th>\n",
       "      <td>asiatimesonline</td>\n",
       "      <td>984inthemorning</td>\n",
       "      <td>10NewsFirst</td>\n",
       "    </tr>\n",
       "    <tr>\n",
       "      <th>1</th>\n",
       "      <td>BeijingReview</td>\n",
       "      <td>Aaj_Urdu</td>\n",
       "      <td>10NewsFirstMelb</td>\n",
       "    </tr>\n",
       "    <tr>\n",
       "      <th>2</th>\n",
       "      <td>CCTV</td>\n",
       "      <td>ABSCBNNews</td>\n",
       "      <td>13WREX</td>\n",
       "    </tr>\n",
       "    <tr>\n",
       "      <th>3</th>\n",
       "      <td>CCTV_Plus</td>\n",
       "      <td>AJ101East</td>\n",
       "      <td>7NewsAustralia</td>\n",
       "    </tr>\n",
       "    <tr>\n",
       "      <th>4</th>\n",
       "      <td>CDHKedition</td>\n",
       "      <td>AJEnglish</td>\n",
       "      <td>7NewsMelbourne</td>\n",
       "    </tr>\n",
       "    <tr>\n",
       "      <th>...</th>\n",
       "      <td>...</td>\n",
       "      <td>...</td>\n",
       "      <td>...</td>\n",
       "    </tr>\n",
       "    <tr>\n",
       "      <th>214</th>\n",
       "      <td>NaN</td>\n",
       "      <td>NaN</td>\n",
       "      <td>WSJPodcasts</td>\n",
       "    </tr>\n",
       "    <tr>\n",
       "      <th>215</th>\n",
       "      <td>NaN</td>\n",
       "      <td>NaN</td>\n",
       "      <td>XpressCinema</td>\n",
       "    </tr>\n",
       "    <tr>\n",
       "      <th>216</th>\n",
       "      <td>NaN</td>\n",
       "      <td>NaN</td>\n",
       "      <td>YahooFinance</td>\n",
       "    </tr>\n",
       "    <tr>\n",
       "      <th>217</th>\n",
       "      <td>NaN</td>\n",
       "      <td>NaN</td>\n",
       "      <td>YahooNews</td>\n",
       "    </tr>\n",
       "    <tr>\n",
       "      <th>218</th>\n",
       "      <td>NaN</td>\n",
       "      <td>NaN</td>\n",
       "      <td>ZeeNewsEnglish</td>\n",
       "    </tr>\n",
       "  </tbody>\n",
       "</table>\n",
       "<p>219 rows × 3 columns</p>\n",
       "</div>"
      ],
      "text/plain": [
       "               china               in              out\n",
       "0    asiatimesonline  984inthemorning      10NewsFirst\n",
       "1      BeijingReview         Aaj_Urdu  10NewsFirstMelb\n",
       "2               CCTV       ABSCBNNews           13WREX\n",
       "3          CCTV_Plus        AJ101East   7NewsAustralia\n",
       "4        CDHKedition        AJEnglish   7NewsMelbourne\n",
       "..               ...              ...              ...\n",
       "214              NaN              NaN      WSJPodcasts\n",
       "215              NaN              NaN     XpressCinema\n",
       "216              NaN              NaN     YahooFinance\n",
       "217              NaN              NaN        YahooNews\n",
       "218              NaN              NaN   ZeeNewsEnglish\n",
       "\n",
       "[219 rows x 3 columns]"
      ]
     },
     "execution_count": 12,
     "metadata": {},
     "output_type": "execute_result"
    }
   ],
   "source": [
    "df_medialist"
   ]
  },
  {
   "cell_type": "code",
   "execution_count": 13,
   "metadata": {
    "ExecuteTime": {
     "end_time": "2023-12-10T10:54:21.337465Z",
     "start_time": "2023-12-10T10:54:21.333937Z"
    }
   },
   "outputs": [],
   "source": [
    "chinalist = df_medialist['china'].dropna().to_list()\n",
    "inlist = df_medialist['in'].dropna().to_list()\n",
    "outlist = df_medialist['out'].dropna().to_list()"
   ]
  },
  {
   "cell_type": "code",
   "execution_count": 14,
   "metadata": {
    "ExecuteTime": {
     "end_time": "2023-12-10T10:54:22.860829Z",
     "start_time": "2023-12-10T10:54:22.852427Z"
    }
   },
   "outputs": [],
   "source": [
    "df_china = df[df['author.username'].isin(chinalist)]\n",
    "df_in = df[df['author.username'].isin(inlist)]\n",
    "df_out = df[df['author.username'].isin(outlist)]"
   ]
  },
  {
   "cell_type": "code",
   "execution_count": 15,
   "metadata": {
    "ExecuteTime": {
     "end_time": "2023-12-10T10:54:33.660136Z",
     "start_time": "2023-12-10T10:54:33.648585Z"
    }
   },
   "outputs": [
    {
     "data": {
      "text/html": [
       "<div>\n",
       "<style scoped>\n",
       "    .dataframe tbody tr th:only-of-type {\n",
       "        vertical-align: middle;\n",
       "    }\n",
       "\n",
       "    .dataframe tbody tr th {\n",
       "        vertical-align: top;\n",
       "    }\n",
       "\n",
       "    .dataframe thead th {\n",
       "        text-align: right;\n",
       "    }\n",
       "</style>\n",
       "<table border=\"1\" class=\"dataframe\">\n",
       "  <thead>\n",
       "    <tr style=\"text-align: right;\">\n",
       "      <th></th>\n",
       "      <th>author.username</th>\n",
       "      <th>text</th>\n",
       "    </tr>\n",
       "  </thead>\n",
       "  <tbody>\n",
       "    <tr>\n",
       "      <th>1</th>\n",
       "      <td>asiatimesonline</td>\n",
       "      <td>THE ROVING EYE : Pipelineistan and the New Sil...</td>\n",
       "    </tr>\n",
       "    <tr>\n",
       "      <th>9</th>\n",
       "      <td>CGTNOfficial</td>\n",
       "      <td>Video: China-Kazakhstan bilateral trade cooper...</td>\n",
       "    </tr>\n",
       "    <tr>\n",
       "      <th>10</th>\n",
       "      <td>ChinaDaily</td>\n",
       "      <td>President Xi Jinping's proposes to build new \"...</td>\n",
       "    </tr>\n",
       "    <tr>\n",
       "      <th>17</th>\n",
       "      <td>Echinanews</td>\n",
       "      <td>Silk Road economic belt focus of Euro-Asia for...</td>\n",
       "    </tr>\n",
       "    <tr>\n",
       "      <th>18</th>\n",
       "      <td>globaltimesnews</td>\n",
       "      <td>Silk Road economic belt focus of Euro-Asia for...</td>\n",
       "    </tr>\n",
       "    <tr>\n",
       "      <th>...</th>\n",
       "      <td>...</td>\n",
       "      <td>...</td>\n",
       "    </tr>\n",
       "    <tr>\n",
       "      <th>16236</th>\n",
       "      <td>ChinaDailyAsia</td>\n",
       "      <td>Hong Kong Special Administrative Region Chief ...</td>\n",
       "    </tr>\n",
       "    <tr>\n",
       "      <th>16237</th>\n",
       "      <td>CDHKedition</td>\n",
       "      <td>Hong Kong Special Administrative Region Chief ...</td>\n",
       "    </tr>\n",
       "    <tr>\n",
       "      <th>16238</th>\n",
       "      <td>CDHKedition</td>\n",
       "      <td>#SaudiArabia’s business leaders on Sunday hail...</td>\n",
       "    </tr>\n",
       "    <tr>\n",
       "      <th>16239</th>\n",
       "      <td>CDHKedition</td>\n",
       "      <td>In a high-spirited pitch at #LEAP 2023, #HongK...</td>\n",
       "    </tr>\n",
       "    <tr>\n",
       "      <th>16240</th>\n",
       "      <td>ChinaDailyAsia</td>\n",
       "      <td>In a high-spirited pitch at #LEAP 2023, #HongK...</td>\n",
       "    </tr>\n",
       "  </tbody>\n",
       "</table>\n",
       "<p>5869 rows × 2 columns</p>\n",
       "</div>"
      ],
      "text/plain": [
       "       author.username                                               text\n",
       "1      asiatimesonline  THE ROVING EYE : Pipelineistan and the New Sil...\n",
       "9         CGTNOfficial  Video: China-Kazakhstan bilateral trade cooper...\n",
       "10          ChinaDaily  President Xi Jinping's proposes to build new \"...\n",
       "17          Echinanews  Silk Road economic belt focus of Euro-Asia for...\n",
       "18     globaltimesnews  Silk Road economic belt focus of Euro-Asia for...\n",
       "...                ...                                                ...\n",
       "16236   ChinaDailyAsia  Hong Kong Special Administrative Region Chief ...\n",
       "16237      CDHKedition  Hong Kong Special Administrative Region Chief ...\n",
       "16238      CDHKedition  #SaudiArabia’s business leaders on Sunday hail...\n",
       "16239      CDHKedition  In a high-spirited pitch at #LEAP 2023, #HongK...\n",
       "16240   ChinaDailyAsia  In a high-spirited pitch at #LEAP 2023, #HongK...\n",
       "\n",
       "[5869 rows x 2 columns]"
      ]
     },
     "execution_count": 15,
     "metadata": {},
     "output_type": "execute_result"
    }
   ],
   "source": [
    "df_china"
   ]
  },
  {
   "cell_type": "code",
   "execution_count": 16,
   "metadata": {
    "ExecuteTime": {
     "end_time": "2023-12-10T10:57:13.178427Z",
     "start_time": "2023-12-10T10:57:13.119427Z"
    }
   },
   "outputs": [],
   "source": [
    "df_china.to_csv('china_text.csv', encoding='utf8')"
   ]
  },
  {
   "cell_type": "code",
   "execution_count": 17,
   "metadata": {
    "ExecuteTime": {
     "end_time": "2023-12-10T10:57:14.076151Z",
     "start_time": "2023-12-10T10:57:14.052676Z"
    }
   },
   "outputs": [],
   "source": [
    "df_in.to_csv('in_text.csv', encoding='utf8')"
   ]
  },
  {
   "cell_type": "code",
   "execution_count": 18,
   "metadata": {
    "ExecuteTime": {
     "end_time": "2023-12-10T10:57:14.841480Z",
     "start_time": "2023-12-10T10:57:14.769567Z"
    }
   },
   "outputs": [],
   "source": [
    "df_out.to_csv('out_text.csv', encoding='utf8')"
   ]
  },
  {
   "cell_type": "code",
   "execution_count": null,
   "metadata": {},
   "outputs": [],
   "source": []
  },
  {
   "cell_type": "code",
   "execution_count": null,
   "metadata": {},
   "outputs": [],
   "source": []
  },
  {
   "cell_type": "code",
   "execution_count": null,
   "metadata": {},
   "outputs": [],
   "source": []
  },
  {
   "cell_type": "code",
   "execution_count": null,
   "metadata": {},
   "outputs": [],
   "source": []
  },
  {
   "cell_type": "code",
   "execution_count": null,
   "metadata": {},
   "outputs": [],
   "source": []
  }
 ],
 "metadata": {
  "kernelspec": {
   "display_name": "Python 3 (ipykernel)",
   "language": "python",
   "name": "python3"
  },
  "language_info": {
   "codemirror_mode": {
    "name": "ipython",
    "version": 3
   },
   "file_extension": ".py",
   "mimetype": "text/x-python",
   "name": "python",
   "nbconvert_exporter": "python",
   "pygments_lexer": "ipython3",
   "version": "3.11.5"
  }
 },
 "nbformat": 4,
 "nbformat_minor": 2
}
