{
 "cells": [
  {
   "cell_type": "code",
   "execution_count": 1,
   "id": "f54e7503",
   "metadata": {
    "ExecuteTime": {
     "end_time": "2023-12-30T15:00:44.746956Z",
     "start_time": "2023-12-30T15:00:42.451447Z"
    }
   },
   "outputs": [],
   "source": [
    "import pandas as pd\n",
    "import numpy as np\n",
    "import scipy.spatial.distance\n",
    "from gensim.models import Word2Vec"
   ]
  },
  {
   "cell_type": "code",
   "execution_count": 2,
   "id": "e1410848",
   "metadata": {
    "ExecuteTime": {
     "end_time": "2023-12-30T15:00:44.807531Z",
     "start_time": "2023-12-30T15:00:44.749660Z"
    }
   },
   "outputs": [],
   "source": [
    "df = pd.read_csv('/Users/shiwei/Desktop/研究论文/一带一路回音室/7个子群的用户以及推文/（清洗后）第0组的推文.csv')"
   ]
  },
  {
   "cell_type": "code",
   "execution_count": 3,
   "id": "29c00c38",
   "metadata": {
    "ExecuteTime": {
     "end_time": "2023-12-30T15:00:44.831515Z",
     "start_time": "2023-12-30T15:00:44.811798Z"
    },
    "scrolled": true
   },
   "outputs": [
    {
     "data": {
      "text/html": [
       "<div>\n",
       "<style scoped>\n",
       "    .dataframe tbody tr th:only-of-type {\n",
       "        vertical-align: middle;\n",
       "    }\n",
       "\n",
       "    .dataframe tbody tr th {\n",
       "        vertical-align: top;\n",
       "    }\n",
       "\n",
       "    .dataframe thead th {\n",
       "        text-align: right;\n",
       "    }\n",
       "</style>\n",
       "<table border=\"1\" class=\"dataframe\">\n",
       "  <thead>\n",
       "    <tr style=\"text-align: right;\">\n",
       "      <th></th>\n",
       "      <th>username</th>\n",
       "      <th>text</th>\n",
       "      <th>sumpopular</th>\n",
       "      <th>neg</th>\n",
       "      <th>neu</th>\n",
       "      <th>pos</th>\n",
       "      <th>compound</th>\n",
       "    </tr>\n",
       "  </thead>\n",
       "  <tbody>\n",
       "    <tr>\n",
       "      <th>0</th>\n",
       "      <td>ivbaoshi</td>\n",
       "      <td>build emerge asia fearful decline west</td>\n",
       "      <td>0.039527</td>\n",
       "      <td>0.000</td>\n",
       "      <td>0.859</td>\n",
       "      <td>0.141</td>\n",
       "      <td>0.3875</td>\n",
       "    </tr>\n",
       "    <tr>\n",
       "      <th>1</th>\n",
       "      <td>Winslow_R</td>\n",
       "      <td>read analysis investment trade innovation emer...</td>\n",
       "      <td>0.019764</td>\n",
       "      <td>0.000</td>\n",
       "      <td>0.860</td>\n",
       "      <td>0.140</td>\n",
       "      <td>0.3818</td>\n",
       "    </tr>\n",
       "    <tr>\n",
       "      <th>2</th>\n",
       "      <td>RyskeldiSatke</td>\n",
       "      <td>rid great pic kazakhstan centralasia</td>\n",
       "      <td>0.019764</td>\n",
       "      <td>0.000</td>\n",
       "      <td>0.709</td>\n",
       "      <td>0.291</td>\n",
       "      <td>0.6249</td>\n",
       "    </tr>\n",
       "    <tr>\n",
       "      <th>3</th>\n",
       "      <td>larouchepac</td>\n",
       "      <td>syria crisis postpone sco focus</td>\n",
       "      <td>0.037407</td>\n",
       "      <td>0.396</td>\n",
       "      <td>0.604</td>\n",
       "      <td>0.000</td>\n",
       "      <td>-0.7096</td>\n",
       "    </tr>\n",
       "    <tr>\n",
       "      <th>4</th>\n",
       "      <td>SebPerimony</td>\n",
       "      <td>jinping foreign policy energy security ideolog...</td>\n",
       "      <td>0.000000</td>\n",
       "      <td>0.000</td>\n",
       "      <td>0.757</td>\n",
       "      <td>0.243</td>\n",
       "      <td>0.5423</td>\n",
       "    </tr>\n",
       "    <tr>\n",
       "      <th>...</th>\n",
       "      <td>...</td>\n",
       "      <td>...</td>\n",
       "      <td>...</td>\n",
       "      <td>...</td>\n",
       "      <td>...</td>\n",
       "      <td>...</td>\n",
       "      <td>...</td>\n",
       "    </tr>\n",
       "    <tr>\n",
       "      <th>22865</th>\n",
       "      <td>Eusebius64</td>\n",
       "      <td>news eir daily alert service sit december 2022...</td>\n",
       "      <td>0.020393</td>\n",
       "      <td>0.000</td>\n",
       "      <td>0.776</td>\n",
       "      <td>0.224</td>\n",
       "      <td>0.8779</td>\n",
       "    </tr>\n",
       "    <tr>\n",
       "      <th>22866</th>\n",
       "      <td>deepmpolar</td>\n",
       "      <td>reject financial capitalism first focus infras...</td>\n",
       "      <td>0.247888</td>\n",
       "      <td>0.091</td>\n",
       "      <td>0.769</td>\n",
       "      <td>0.140</td>\n",
       "      <td>0.2023</td>\n",
       "    </tr>\n",
       "    <tr>\n",
       "      <th>22867</th>\n",
       "      <td>LBenabdallah</td>\n",
       "      <td>next chi speaker lina benabdallah deliver talk...</td>\n",
       "      <td>0.072693</td>\n",
       "      <td>0.000</td>\n",
       "      <td>0.928</td>\n",
       "      <td>0.072</td>\n",
       "      <td>0.4939</td>\n",
       "    </tr>\n",
       "    <tr>\n",
       "      <th>22868</th>\n",
       "      <td>YRanaraja</td>\n",
       "      <td>sometimes refer ambitious infrastructure proje...</td>\n",
       "      <td>0.153755</td>\n",
       "      <td>0.000</td>\n",
       "      <td>0.892</td>\n",
       "      <td>0.108</td>\n",
       "      <td>0.5256</td>\n",
       "    </tr>\n",
       "    <tr>\n",
       "      <th>22869</th>\n",
       "      <td>ogeltdm</td>\n",
       "      <td>gcc free trade agreement might game law journal</td>\n",
       "      <td>0.037407</td>\n",
       "      <td>0.000</td>\n",
       "      <td>0.723</td>\n",
       "      <td>0.277</td>\n",
       "      <td>0.7579</td>\n",
       "    </tr>\n",
       "  </tbody>\n",
       "</table>\n",
       "<p>22870 rows × 7 columns</p>\n",
       "</div>"
      ],
      "text/plain": [
       "            username                                               text  \\\n",
       "0           ivbaoshi             build emerge asia fearful decline west   \n",
       "1          Winslow_R  read analysis investment trade innovation emer...   \n",
       "2      RyskeldiSatke               rid great pic kazakhstan centralasia   \n",
       "3        larouchepac                    syria crisis postpone sco focus   \n",
       "4        SebPerimony  jinping foreign policy energy security ideolog...   \n",
       "...              ...                                                ...   \n",
       "22865     Eusebius64  news eir daily alert service sit december 2022...   \n",
       "22866     deepmpolar  reject financial capitalism first focus infras...   \n",
       "22867   LBenabdallah  next chi speaker lina benabdallah deliver talk...   \n",
       "22868      YRanaraja  sometimes refer ambitious infrastructure proje...   \n",
       "22869        ogeltdm    gcc free trade agreement might game law journal   \n",
       "\n",
       "       sumpopular    neg    neu    pos  compound  \n",
       "0        0.039527  0.000  0.859  0.141    0.3875  \n",
       "1        0.019764  0.000  0.860  0.140    0.3818  \n",
       "2        0.019764  0.000  0.709  0.291    0.6249  \n",
       "3        0.037407  0.396  0.604  0.000   -0.7096  \n",
       "4        0.000000  0.000  0.757  0.243    0.5423  \n",
       "...           ...    ...    ...    ...       ...  \n",
       "22865    0.020393  0.000  0.776  0.224    0.8779  \n",
       "22866    0.247888  0.091  0.769  0.140    0.2023  \n",
       "22867    0.072693  0.000  0.928  0.072    0.4939  \n",
       "22868    0.153755  0.000  0.892  0.108    0.5256  \n",
       "22869    0.037407  0.000  0.723  0.277    0.7579  \n",
       "\n",
       "[22870 rows x 7 columns]"
      ]
     },
     "execution_count": 3,
     "metadata": {},
     "output_type": "execute_result"
    }
   ],
   "source": [
    "df"
   ]
  },
  {
   "cell_type": "code",
   "execution_count": 4,
   "id": "4092de92",
   "metadata": {
    "ExecuteTime": {
     "end_time": "2023-12-30T15:00:45.064237Z",
     "start_time": "2023-12-30T15:00:44.833309Z"
    }
   },
   "outputs": [],
   "source": [
    "# 加载模型（如果需要）\n",
    "model = Word2Vec.load(\"500Dword2vec.model\")"
   ]
  },
  {
   "cell_type": "code",
   "execution_count": 5,
   "id": "0da6cdb5",
   "metadata": {
    "ExecuteTime": {
     "end_time": "2023-12-30T15:00:45.069588Z",
     "start_time": "2023-12-30T15:00:45.065936Z"
    }
   },
   "outputs": [],
   "source": [
    "# 词向量加权平均，获取每一条推文的向量表示\n",
    "def get_post_vector(post, model):\n",
    "    # 分词帖子文本\n",
    "    words = post.split()  # 假设帖子已分词\n",
    "    word_vectors = [model.wv[word] for word in words if word in model.wv]\n",
    "\n",
    "    if len(word_vectors) > 0:\n",
    "        post_vector = np.mean(word_vectors, axis=0)  # 求均值\n",
    "        return post_vector\n",
    "    else:\n",
    "        return np.zeros(model.vector_size)  # 如果帖子中没有词汇在模型中"
   ]
  },
  {
   "cell_type": "code",
   "execution_count": 6,
   "id": "4304fade",
   "metadata": {
    "ExecuteTime": {
     "end_time": "2023-12-30T15:00:46.152065Z",
     "start_time": "2023-12-30T15:00:45.071210Z"
    }
   },
   "outputs": [],
   "source": [
    "# 假设你的DataFrame中有一个名为df的数据框，包含帖子文本在\"text\"列中\n",
    "df['post_vector'] = df['text'].astype(str).apply(lambda x: get_post_vector(x, model))"
   ]
  },
  {
   "cell_type": "code",
   "execution_count": 7,
   "id": "86f8092c",
   "metadata": {
    "ExecuteTime": {
     "end_time": "2023-12-30T15:00:46.173681Z",
     "start_time": "2023-12-30T15:00:46.154297Z"
    },
    "scrolled": true
   },
   "outputs": [
    {
     "data": {
      "text/html": [
       "<div>\n",
       "<style scoped>\n",
       "    .dataframe tbody tr th:only-of-type {\n",
       "        vertical-align: middle;\n",
       "    }\n",
       "\n",
       "    .dataframe tbody tr th {\n",
       "        vertical-align: top;\n",
       "    }\n",
       "\n",
       "    .dataframe thead th {\n",
       "        text-align: right;\n",
       "    }\n",
       "</style>\n",
       "<table border=\"1\" class=\"dataframe\">\n",
       "  <thead>\n",
       "    <tr style=\"text-align: right;\">\n",
       "      <th></th>\n",
       "      <th>username</th>\n",
       "      <th>text</th>\n",
       "      <th>sumpopular</th>\n",
       "      <th>neg</th>\n",
       "      <th>neu</th>\n",
       "      <th>pos</th>\n",
       "      <th>compound</th>\n",
       "      <th>post_vector</th>\n",
       "    </tr>\n",
       "  </thead>\n",
       "  <tbody>\n",
       "    <tr>\n",
       "      <th>0</th>\n",
       "      <td>ivbaoshi</td>\n",
       "      <td>build emerge asia fearful decline west</td>\n",
       "      <td>0.039527</td>\n",
       "      <td>0.000</td>\n",
       "      <td>0.859</td>\n",
       "      <td>0.141</td>\n",
       "      <td>0.3875</td>\n",
       "      <td>[-0.19832146, 0.2352466, -0.22543992, -0.48205...</td>\n",
       "    </tr>\n",
       "    <tr>\n",
       "      <th>1</th>\n",
       "      <td>Winslow_R</td>\n",
       "      <td>read analysis investment trade innovation emer...</td>\n",
       "      <td>0.019764</td>\n",
       "      <td>0.000</td>\n",
       "      <td>0.860</td>\n",
       "      <td>0.140</td>\n",
       "      <td>0.3818</td>\n",
       "      <td>[-0.597564, -0.027605435, 0.076412424, -0.3042...</td>\n",
       "    </tr>\n",
       "    <tr>\n",
       "      <th>2</th>\n",
       "      <td>RyskeldiSatke</td>\n",
       "      <td>rid great pic kazakhstan centralasia</td>\n",
       "      <td>0.019764</td>\n",
       "      <td>0.000</td>\n",
       "      <td>0.709</td>\n",
       "      <td>0.291</td>\n",
       "      <td>0.6249</td>\n",
       "      <td>[-0.15182252, 0.0687624, -0.10182159, -0.05943...</td>\n",
       "    </tr>\n",
       "    <tr>\n",
       "      <th>3</th>\n",
       "      <td>larouchepac</td>\n",
       "      <td>syria crisis postpone sco focus</td>\n",
       "      <td>0.037407</td>\n",
       "      <td>0.396</td>\n",
       "      <td>0.604</td>\n",
       "      <td>0.000</td>\n",
       "      <td>-0.7096</td>\n",
       "      <td>[-0.17775272, 0.108363286, -0.0019052625, 0.01...</td>\n",
       "    </tr>\n",
       "    <tr>\n",
       "      <th>4</th>\n",
       "      <td>SebPerimony</td>\n",
       "      <td>jinping foreign policy energy security ideolog...</td>\n",
       "      <td>0.000000</td>\n",
       "      <td>0.000</td>\n",
       "      <td>0.757</td>\n",
       "      <td>0.243</td>\n",
       "      <td>0.5423</td>\n",
       "      <td>[-0.24528721, -0.078924894, -0.32499433, -0.59...</td>\n",
       "    </tr>\n",
       "    <tr>\n",
       "      <th>...</th>\n",
       "      <td>...</td>\n",
       "      <td>...</td>\n",
       "      <td>...</td>\n",
       "      <td>...</td>\n",
       "      <td>...</td>\n",
       "      <td>...</td>\n",
       "      <td>...</td>\n",
       "      <td>...</td>\n",
       "    </tr>\n",
       "    <tr>\n",
       "      <th>22865</th>\n",
       "      <td>Eusebius64</td>\n",
       "      <td>news eir daily alert service sit december 2022...</td>\n",
       "      <td>0.020393</td>\n",
       "      <td>0.000</td>\n",
       "      <td>0.776</td>\n",
       "      <td>0.224</td>\n",
       "      <td>0.8779</td>\n",
       "      <td>[-0.17919934, 0.51183695, 0.20959733, 0.086956...</td>\n",
       "    </tr>\n",
       "    <tr>\n",
       "      <th>22866</th>\n",
       "      <td>deepmpolar</td>\n",
       "      <td>reject financial capitalism first focus infras...</td>\n",
       "      <td>0.247888</td>\n",
       "      <td>0.091</td>\n",
       "      <td>0.769</td>\n",
       "      <td>0.140</td>\n",
       "      <td>0.2023</td>\n",
       "      <td>[-0.5059119, -0.0693976, -0.24547595, 0.151870...</td>\n",
       "    </tr>\n",
       "    <tr>\n",
       "      <th>22867</th>\n",
       "      <td>LBenabdallah</td>\n",
       "      <td>next chi speaker lina benabdallah deliver talk...</td>\n",
       "      <td>0.072693</td>\n",
       "      <td>0.000</td>\n",
       "      <td>0.928</td>\n",
       "      <td>0.072</td>\n",
       "      <td>0.4939</td>\n",
       "      <td>[-0.06509728, -0.21845277, 0.45346275, -0.2209...</td>\n",
       "    </tr>\n",
       "    <tr>\n",
       "      <th>22868</th>\n",
       "      <td>YRanaraja</td>\n",
       "      <td>sometimes refer ambitious infrastructure proje...</td>\n",
       "      <td>0.153755</td>\n",
       "      <td>0.000</td>\n",
       "      <td>0.892</td>\n",
       "      <td>0.108</td>\n",
       "      <td>0.5256</td>\n",
       "      <td>[-0.32556713, -0.34609717, -0.5087717, -0.0366...</td>\n",
       "    </tr>\n",
       "    <tr>\n",
       "      <th>22869</th>\n",
       "      <td>ogeltdm</td>\n",
       "      <td>gcc free trade agreement might game law journal</td>\n",
       "      <td>0.037407</td>\n",
       "      <td>0.000</td>\n",
       "      <td>0.723</td>\n",
       "      <td>0.277</td>\n",
       "      <td>0.7579</td>\n",
       "      <td>[-0.37390703, 0.13190326, -0.1625809, -0.18206...</td>\n",
       "    </tr>\n",
       "  </tbody>\n",
       "</table>\n",
       "<p>22870 rows × 8 columns</p>\n",
       "</div>"
      ],
      "text/plain": [
       "            username                                               text  \\\n",
       "0           ivbaoshi             build emerge asia fearful decline west   \n",
       "1          Winslow_R  read analysis investment trade innovation emer...   \n",
       "2      RyskeldiSatke               rid great pic kazakhstan centralasia   \n",
       "3        larouchepac                    syria crisis postpone sco focus   \n",
       "4        SebPerimony  jinping foreign policy energy security ideolog...   \n",
       "...              ...                                                ...   \n",
       "22865     Eusebius64  news eir daily alert service sit december 2022...   \n",
       "22866     deepmpolar  reject financial capitalism first focus infras...   \n",
       "22867   LBenabdallah  next chi speaker lina benabdallah deliver talk...   \n",
       "22868      YRanaraja  sometimes refer ambitious infrastructure proje...   \n",
       "22869        ogeltdm    gcc free trade agreement might game law journal   \n",
       "\n",
       "       sumpopular    neg    neu    pos  compound  \\\n",
       "0        0.039527  0.000  0.859  0.141    0.3875   \n",
       "1        0.019764  0.000  0.860  0.140    0.3818   \n",
       "2        0.019764  0.000  0.709  0.291    0.6249   \n",
       "3        0.037407  0.396  0.604  0.000   -0.7096   \n",
       "4        0.000000  0.000  0.757  0.243    0.5423   \n",
       "...           ...    ...    ...    ...       ...   \n",
       "22865    0.020393  0.000  0.776  0.224    0.8779   \n",
       "22866    0.247888  0.091  0.769  0.140    0.2023   \n",
       "22867    0.072693  0.000  0.928  0.072    0.4939   \n",
       "22868    0.153755  0.000  0.892  0.108    0.5256   \n",
       "22869    0.037407  0.000  0.723  0.277    0.7579   \n",
       "\n",
       "                                             post_vector  \n",
       "0      [-0.19832146, 0.2352466, -0.22543992, -0.48205...  \n",
       "1      [-0.597564, -0.027605435, 0.076412424, -0.3042...  \n",
       "2      [-0.15182252, 0.0687624, -0.10182159, -0.05943...  \n",
       "3      [-0.17775272, 0.108363286, -0.0019052625, 0.01...  \n",
       "4      [-0.24528721, -0.078924894, -0.32499433, -0.59...  \n",
       "...                                                  ...  \n",
       "22865  [-0.17919934, 0.51183695, 0.20959733, 0.086956...  \n",
       "22866  [-0.5059119, -0.0693976, -0.24547595, 0.151870...  \n",
       "22867  [-0.06509728, -0.21845277, 0.45346275, -0.2209...  \n",
       "22868  [-0.32556713, -0.34609717, -0.5087717, -0.0366...  \n",
       "22869  [-0.37390703, 0.13190326, -0.1625809, -0.18206...  \n",
       "\n",
       "[22870 rows x 8 columns]"
      ]
     },
     "execution_count": 7,
     "metadata": {},
     "output_type": "execute_result"
    }
   ],
   "source": [
    "df"
   ]
  },
  {
   "cell_type": "code",
   "execution_count": 8,
   "id": "21045fda",
   "metadata": {
    "ExecuteTime": {
     "end_time": "2023-12-30T15:00:46.178125Z",
     "start_time": "2023-12-30T15:00:46.175656Z"
    }
   },
   "outputs": [],
   "source": [
    "# 计算每一子社群内容平均相似度"
   ]
  },
  {
   "cell_type": "code",
   "execution_count": 9,
   "id": "12c0f042",
   "metadata": {
    "ExecuteTime": {
     "end_time": "2023-12-30T15:00:46.183285Z",
     "start_time": "2023-12-30T15:00:46.180443Z"
    }
   },
   "outputs": [],
   "source": [
    "def np_cosine_similarity(x, y):\n",
    "    \n",
    "    cosine_similarity = np.dot(x, y) / (np.linalg.norm(x) * np.linalg.norm(y))\n",
    "    \n",
    "    return cosine_similarity"
   ]
  },
  {
   "cell_type": "code",
   "execution_count": 10,
   "id": "05023264",
   "metadata": {
    "ExecuteTime": {
     "end_time": "2023-12-30T15:00:46.189228Z",
     "start_time": "2023-12-30T15:00:46.185075Z"
    }
   },
   "outputs": [
    {
     "data": {
      "text/plain": [
       "0.023369452"
      ]
     },
     "execution_count": 10,
     "metadata": {},
     "output_type": "execute_result"
    }
   ],
   "source": [
    "np_cosine_similarity(df['post_vector'][51], df['post_vector'][450])"
   ]
  },
  {
   "cell_type": "code",
   "execution_count": 11,
   "id": "40c8dd76",
   "metadata": {
    "ExecuteTime": {
     "end_time": "2023-12-30T15:00:46.193213Z",
     "start_time": "2023-12-30T15:00:46.190780Z"
    }
   },
   "outputs": [],
   "source": [
    "# 开始计算社群内容平均相似度"
   ]
  },
  {
   "cell_type": "code",
   "execution_count": 12,
   "id": "5d80724b",
   "metadata": {
    "ExecuteTime": {
     "end_time": "2023-12-30T15:00:46.201011Z",
     "start_time": "2023-12-30T15:00:46.198647Z"
    }
   },
   "outputs": [],
   "source": [
    "from itertools import combinations"
   ]
  },
  {
   "cell_type": "code",
   "execution_count": 13,
   "id": "55c21040",
   "metadata": {
    "ExecuteTime": {
     "end_time": "2023-12-30T15:01:10.024453Z",
     "start_time": "2023-12-30T15:00:46.202673Z"
    }
   },
   "outputs": [],
   "source": [
    "# 获取所有可能的用户对组合\n",
    "user = df[\"username\"].tolist()\n",
    "user_pairs = list(combinations(user, 2))"
   ]
  },
  {
   "cell_type": "code",
   "execution_count": 14,
   "id": "47562ef8",
   "metadata": {
    "ExecuteTime": {
     "end_time": "2023-12-30T15:01:10.052368Z",
     "start_time": "2023-12-30T15:01:10.033090Z"
    }
   },
   "outputs": [
    {
     "data": {
      "text/plain": [
       "261507015"
      ]
     },
     "execution_count": 14,
     "metadata": {},
     "output_type": "execute_result"
    }
   ],
   "source": [
    "len(user_pairs)"
   ]
  },
  {
   "cell_type": "markdown",
   "id": "c05b9b2b",
   "metadata": {},
   "source": [
    "# 数据量太大，随机抽取一定数量进行内容相似度计算"
   ]
  },
  {
   "cell_type": "code",
   "execution_count": 15,
   "id": "d679c21f",
   "metadata": {
    "ExecuteTime": {
     "end_time": "2023-12-30T15:01:10.058019Z",
     "start_time": "2023-12-30T15:01:10.055034Z"
    }
   },
   "outputs": [],
   "source": [
    "import random"
   ]
  },
  {
   "cell_type": "code",
   "execution_count": 16,
   "id": "c3d2a463",
   "metadata": {
    "ExecuteTime": {
     "end_time": "2023-12-30T15:01:14.949018Z",
     "start_time": "2023-12-30T15:01:10.059936Z"
    }
   },
   "outputs": [],
   "source": [
    "# 从数据中随机选择50000条数据并存入新的列表\n",
    "sample_data = random.choices(user_pairs, k=50000)"
   ]
  },
  {
   "cell_type": "code",
   "execution_count": 17,
   "id": "9324ea4f",
   "metadata": {
    "ExecuteTime": {
     "end_time": "2023-12-30T15:01:14.958801Z",
     "start_time": "2023-12-30T15:01:14.952312Z"
    }
   },
   "outputs": [
    {
     "data": {
      "text/plain": [
       "50000"
      ]
     },
     "execution_count": 17,
     "metadata": {},
     "output_type": "execute_result"
    }
   ],
   "source": [
    "len(sample_data) # 抽取出了一定量的数据，存储在sample_data中"
   ]
  },
  {
   "cell_type": "code",
   "execution_count": 18,
   "id": "a5a89429",
   "metadata": {
    "ExecuteTime": {
     "end_time": "2023-12-30T15:01:14.964960Z",
     "start_time": "2023-12-30T15:01:14.961187Z"
    }
   },
   "outputs": [],
   "source": [
    "result_data = []"
   ]
  },
  {
   "cell_type": "code",
   "execution_count": 19,
   "id": "4870cb21",
   "metadata": {
    "ExecuteTime": {
     "end_time": "2023-12-30T15:04:12.638344Z",
     "start_time": "2023-12-30T15:01:14.971203Z"
    }
   },
   "outputs": [],
   "source": [
    "# 遍历每个情感层组合\n",
    "for layer1, layer2 in sample_data:\n",
    "    # 获取对应的帖子文本向量\n",
    "    vector_layer1 = df[df[\"username\"] == layer1]['post_vector'].values[0]\n",
    "    vector_layer2 = df[df[\"username\"] == layer2]['post_vector'].values[0]\n",
    "    \n",
    "    # 计算文本相似度\n",
    "    similarity = np_cosine_similarity(vector_layer1, vector_layer2)\n",
    "\n",
    "    # 将结果添加到结果数据列表中\n",
    "    result_data.append(similarity)"
   ]
  },
  {
   "cell_type": "code",
   "execution_count": 20,
   "id": "d9116ae5",
   "metadata": {
    "ExecuteTime": {
     "end_time": "2023-12-30T15:04:12.657376Z",
     "start_time": "2023-12-30T15:04:12.644220Z"
    }
   },
   "outputs": [
    {
     "data": {
      "text/plain": [
       "0.17652969"
      ]
     },
     "execution_count": 20,
     "metadata": {},
     "output_type": "execute_result"
    }
   ],
   "source": [
    "np.mean(result_data)"
   ]
  },
  {
   "cell_type": "code",
   "execution_count": null,
   "id": "2cc1de9d",
   "metadata": {},
   "outputs": [],
   "source": []
  }
 ],
 "metadata": {
  "kernelspec": {
   "display_name": "Python 3 (ipykernel)",
   "language": "python",
   "name": "python3"
  },
  "language_info": {
   "codemirror_mode": {
    "name": "ipython",
    "version": 3
   },
   "file_extension": ".py",
   "mimetype": "text/x-python",
   "name": "python",
   "nbconvert_exporter": "python",
   "pygments_lexer": "ipython3",
   "version": "3.11.5"
  }
 },
 "nbformat": 4,
 "nbformat_minor": 5
}
