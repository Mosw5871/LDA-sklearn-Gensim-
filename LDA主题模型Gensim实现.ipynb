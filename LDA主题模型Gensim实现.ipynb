{
 "cells": [
  {
   "cell_type": "code",
   "execution_count": 81,
   "id": "1ab7562f-952a-4ddd-a41e-d8e35a5c75e3",
   "metadata": {},
   "outputs": [],
   "source": [
    "import pandas as pd  \n",
    "import numpy as np\n",
    "import jieba  \n",
    "import re  \n",
    "from gensim import corpora, models\n",
    "from gensim.models import CoherenceModel\n",
    "import matplotlib.pyplot as plt"
   ]
  },
  {
   "cell_type": "code",
   "execution_count": 41,
   "id": "616a2cab-2820-4464-99f5-2a77314c5f9f",
   "metadata": {},
   "outputs": [],
   "source": [
    "# 假设CSV文件名为'documents.csv'，且文本内容存储在'content'列中  \n",
    "df = pd.read_csv()  "
   ]
  },
  {
   "cell_type": "code",
   "execution_count": 42,
   "id": "d719f1bf-fdfa-4871-86be-e9db366c2b0f",
   "metadata": {
    "scrolled": true
   },
   "outputs": [
    {
     "data": {
      "text/html": [
       "<div>\n",
       "<style scoped>\n",
       "    .dataframe tbody tr th:only-of-type {\n",
       "        vertical-align: middle;\n",
       "    }\n",
       "\n",
       "    .dataframe tbody tr th {\n",
       "        vertical-align: top;\n",
       "    }\n",
       "\n",
       "    .dataframe thead th {\n",
       "        text-align: right;\n",
       "    }\n",
       "</style>\n",
       "<table border=\"1\" class=\"dataframe\">\n",
       "  <thead>\n",
       "    <tr style=\"text-align: right;\">\n",
       "      <th></th>\n",
       "      <th>标题</th>\n",
       "      <th>日期</th>\n",
       "    </tr>\n",
       "  </thead>\n",
       "  <tbody>\n",
       "    <tr>\n",
       "      <th>0</th>\n",
       "      <td>中乌联合考古揭开古丝绸之路千年遗存神秘面纱</td>\n",
       "      <td>2024/6/19</td>\n",
       "    </tr>\n",
       "    <tr>\n",
       "      <th>1</th>\n",
       "      <td>中尼舞者“以舞会友”促文化交流</td>\n",
       "      <td>2024/6/10</td>\n",
       "    </tr>\n",
       "    <tr>\n",
       "      <th>2</th>\n",
       "      <td>心相近｜这所高校为海外学子打开“中国之窗”</td>\n",
       "      <td>2024/6/4</td>\n",
       "    </tr>\n",
       "    <tr>\n",
       "      <th>3</th>\n",
       "      <td>“茶和天下·雅集”暨中国（广西）文化旅游推介会在科伦坡举行</td>\n",
       "      <td>2024/5/23</td>\n",
       "    </tr>\n",
       "    <tr>\n",
       "      <th>4</th>\n",
       "      <td>中国图书首次正式亮相多哈国际书展</td>\n",
       "      <td>2024/5/14</td>\n",
       "    </tr>\n",
       "  </tbody>\n",
       "</table>\n",
       "</div>"
      ],
      "text/plain": [
       "                              标题         日期\n",
       "0          中乌联合考古揭开古丝绸之路千年遗存神秘面纱  2024/6/19\n",
       "1                中尼舞者“以舞会友”促文化交流  2024/6/10\n",
       "2          心相近｜这所高校为海外学子打开“中国之窗”   2024/6/4\n",
       "3  “茶和天下·雅集”暨中国（广西）文化旅游推介会在科伦坡举行  2024/5/23\n",
       "4               中国图书首次正式亮相多哈国际书展  2024/5/14"
      ]
     },
     "execution_count": 42,
     "metadata": {},
     "output_type": "execute_result"
    }
   ],
   "source": [
    "df.head()"
   ]
  },
  {
   "cell_type": "code",
   "execution_count": 43,
   "id": "3e82f995-e952-43e6-b19a-f89d58b3dafd",
   "metadata": {},
   "outputs": [],
   "source": [
    "# 定义一个函数，用于去除特殊符号、标点符号等，并只保留汉字  \n",
    "def clean_text(text):  \n",
    "    # 使用正则表达式去除非汉字字符  \n",
    "    cleaned_text = re.sub(r'[^\\u4e00-\\u9fa5]', '', text)  \n",
    "    return cleaned_text"
   ]
  },
  {
   "cell_type": "code",
   "execution_count": 44,
   "id": "a17aefbb-e8b0-42d1-a85c-e2ba9ac33c68",
   "metadata": {},
   "outputs": [],
   "source": [
    "# 应用clean_text函数到'标题'列，并创建一个新的列'新标题'  \n",
    "df['新标题'] = df['标题'].apply(clean_text)"
   ]
  },
  {
   "cell_type": "code",
   "execution_count": 45,
   "id": "916d639a-57c0-48fd-8522-fa64a4e6252f",
   "metadata": {},
   "outputs": [
    {
     "data": {
      "text/html": [
       "<div>\n",
       "<style scoped>\n",
       "    .dataframe tbody tr th:only-of-type {\n",
       "        vertical-align: middle;\n",
       "    }\n",
       "\n",
       "    .dataframe tbody tr th {\n",
       "        vertical-align: top;\n",
       "    }\n",
       "\n",
       "    .dataframe thead th {\n",
       "        text-align: right;\n",
       "    }\n",
       "</style>\n",
       "<table border=\"1\" class=\"dataframe\">\n",
       "  <thead>\n",
       "    <tr style=\"text-align: right;\">\n",
       "      <th></th>\n",
       "      <th>标题</th>\n",
       "      <th>日期</th>\n",
       "      <th>新标题</th>\n",
       "    </tr>\n",
       "  </thead>\n",
       "  <tbody>\n",
       "    <tr>\n",
       "      <th>0</th>\n",
       "      <td>中乌联合考古揭开古丝绸之路千年遗存神秘面纱</td>\n",
       "      <td>2024/6/19</td>\n",
       "      <td>中乌联合考古揭开古丝绸之路千年遗存神秘面纱</td>\n",
       "    </tr>\n",
       "    <tr>\n",
       "      <th>1</th>\n",
       "      <td>中尼舞者“以舞会友”促文化交流</td>\n",
       "      <td>2024/6/10</td>\n",
       "      <td>中尼舞者以舞会友促文化交流</td>\n",
       "    </tr>\n",
       "    <tr>\n",
       "      <th>2</th>\n",
       "      <td>心相近｜这所高校为海外学子打开“中国之窗”</td>\n",
       "      <td>2024/6/4</td>\n",
       "      <td>心相近这所高校为海外学子打开中国之窗</td>\n",
       "    </tr>\n",
       "    <tr>\n",
       "      <th>3</th>\n",
       "      <td>“茶和天下·雅集”暨中国（广西）文化旅游推介会在科伦坡举行</td>\n",
       "      <td>2024/5/23</td>\n",
       "      <td>茶和天下雅集暨中国广西文化旅游推介会在科伦坡举行</td>\n",
       "    </tr>\n",
       "    <tr>\n",
       "      <th>4</th>\n",
       "      <td>中国图书首次正式亮相多哈国际书展</td>\n",
       "      <td>2024/5/14</td>\n",
       "      <td>中国图书首次正式亮相多哈国际书展</td>\n",
       "    </tr>\n",
       "  </tbody>\n",
       "</table>\n",
       "</div>"
      ],
      "text/plain": [
       "                              标题         日期                       新标题\n",
       "0          中乌联合考古揭开古丝绸之路千年遗存神秘面纱  2024/6/19     中乌联合考古揭开古丝绸之路千年遗存神秘面纱\n",
       "1                中尼舞者“以舞会友”促文化交流  2024/6/10             中尼舞者以舞会友促文化交流\n",
       "2          心相近｜这所高校为海外学子打开“中国之窗”   2024/6/4        心相近这所高校为海外学子打开中国之窗\n",
       "3  “茶和天下·雅集”暨中国（广西）文化旅游推介会在科伦坡举行  2024/5/23  茶和天下雅集暨中国广西文化旅游推介会在科伦坡举行\n",
       "4               中国图书首次正式亮相多哈国际书展  2024/5/14          中国图书首次正式亮相多哈国际书展"
      ]
     },
     "execution_count": 45,
     "metadata": {},
     "output_type": "execute_result"
    }
   ],
   "source": [
    "df.head()"
   ]
  },
  {
   "cell_type": "code",
   "execution_count": 46,
   "id": "3c5709a2-d357-45d5-980d-2adb2487a964",
   "metadata": {},
   "outputs": [],
   "source": [
    "# 接下来进行分词和去停用词（如果需要的话）  \n",
    "def tokenize_text(text):  \n",
    "    # 假设你有一个停用词文件  \n",
    "    stopwords = set([line.strip() for line in open('stopwords.txt', encoding='utf-8').readlines()])  \n",
    "    words = jieba.cut(text, cut_all=False)  \n",
    "    filtered_words = [word for word in words if word not in stopwords and len(word) > 1]  # 排除单字符词  \n",
    "    return ' '.join(filtered_words)"
   ]
  },
  {
   "cell_type": "code",
   "execution_count": 47,
   "id": "d2f6b8ea-a292-4683-9540-9b10619e38ed",
   "metadata": {},
   "outputs": [],
   "source": [
    "# 应用tokenize_text函数到'新标题'列，并创建一个新的列'新标题2'  \n",
    "df['新标题2'] = df['新标题'].apply(tokenize_text)"
   ]
  },
  {
   "cell_type": "code",
   "execution_count": 48,
   "id": "eaef905c-e3f6-4354-a7ac-8ba53af8a887",
   "metadata": {},
   "outputs": [
    {
     "data": {
      "text/html": [
       "<div>\n",
       "<style scoped>\n",
       "    .dataframe tbody tr th:only-of-type {\n",
       "        vertical-align: middle;\n",
       "    }\n",
       "\n",
       "    .dataframe tbody tr th {\n",
       "        vertical-align: top;\n",
       "    }\n",
       "\n",
       "    .dataframe thead th {\n",
       "        text-align: right;\n",
       "    }\n",
       "</style>\n",
       "<table border=\"1\" class=\"dataframe\">\n",
       "  <thead>\n",
       "    <tr style=\"text-align: right;\">\n",
       "      <th></th>\n",
       "      <th>标题</th>\n",
       "      <th>日期</th>\n",
       "      <th>新标题</th>\n",
       "      <th>新标题2</th>\n",
       "    </tr>\n",
       "  </thead>\n",
       "  <tbody>\n",
       "    <tr>\n",
       "      <th>0</th>\n",
       "      <td>中乌联合考古揭开古丝绸之路千年遗存神秘面纱</td>\n",
       "      <td>2024/6/19</td>\n",
       "      <td>中乌联合考古揭开古丝绸之路千年遗存神秘面纱</td>\n",
       "      <td>中乌 联合 考古 揭开 丝绸之路 千年 遗存 神秘 面纱</td>\n",
       "    </tr>\n",
       "    <tr>\n",
       "      <th>1</th>\n",
       "      <td>中尼舞者“以舞会友”促文化交流</td>\n",
       "      <td>2024/6/10</td>\n",
       "      <td>中尼舞者以舞会友促文化交流</td>\n",
       "      <td>中尼 舞者 舞会 友促 文化交流</td>\n",
       "    </tr>\n",
       "    <tr>\n",
       "      <th>2</th>\n",
       "      <td>心相近｜这所高校为海外学子打开“中国之窗”</td>\n",
       "      <td>2024/6/4</td>\n",
       "      <td>心相近这所高校为海外学子打开中国之窗</td>\n",
       "      <td>相近 这所 高校 海外 学子 打开 中国 之窗</td>\n",
       "    </tr>\n",
       "    <tr>\n",
       "      <th>3</th>\n",
       "      <td>“茶和天下·雅集”暨中国（广西）文化旅游推介会在科伦坡举行</td>\n",
       "      <td>2024/5/23</td>\n",
       "      <td>茶和天下雅集暨中国广西文化旅游推介会在科伦坡举行</td>\n",
       "      <td>天下 雅集 中国 广西 文化 旅游 推介会 科伦坡</td>\n",
       "    </tr>\n",
       "    <tr>\n",
       "      <th>4</th>\n",
       "      <td>中国图书首次正式亮相多哈国际书展</td>\n",
       "      <td>2024/5/14</td>\n",
       "      <td>中国图书首次正式亮相多哈国际书展</td>\n",
       "      <td>中国 图书 首次 正式 亮相 多哈 国际 书展</td>\n",
       "    </tr>\n",
       "  </tbody>\n",
       "</table>\n",
       "</div>"
      ],
      "text/plain": [
       "                              标题         日期                       新标题  \\\n",
       "0          中乌联合考古揭开古丝绸之路千年遗存神秘面纱  2024/6/19     中乌联合考古揭开古丝绸之路千年遗存神秘面纱   \n",
       "1                中尼舞者“以舞会友”促文化交流  2024/6/10             中尼舞者以舞会友促文化交流   \n",
       "2          心相近｜这所高校为海外学子打开“中国之窗”   2024/6/4        心相近这所高校为海外学子打开中国之窗   \n",
       "3  “茶和天下·雅集”暨中国（广西）文化旅游推介会在科伦坡举行  2024/5/23  茶和天下雅集暨中国广西文化旅游推介会在科伦坡举行   \n",
       "4               中国图书首次正式亮相多哈国际书展  2024/5/14          中国图书首次正式亮相多哈国际书展   \n",
       "\n",
       "                           新标题2  \n",
       "0  中乌 联合 考古 揭开 丝绸之路 千年 遗存 神秘 面纱  \n",
       "1              中尼 舞者 舞会 友促 文化交流  \n",
       "2       相近 这所 高校 海外 学子 打开 中国 之窗  \n",
       "3     天下 雅集 中国 广西 文化 旅游 推介会 科伦坡  \n",
       "4       中国 图书 首次 正式 亮相 多哈 国际 书展  "
      ]
     },
     "execution_count": 48,
     "metadata": {},
     "output_type": "execute_result"
    }
   ],
   "source": [
    "df.head()"
   ]
  },
  {
   "cell_type": "markdown",
   "id": "a85e73af-179b-4d64-8e68-ce29ec4ea421",
   "metadata": {},
   "source": [
    "# 文本数据向量化"
   ]
  },
  {
   "cell_type": "markdown",
   "id": "9dd609eb-17a6-4cbf-98af-20002b13f41e",
   "metadata": {},
   "source": [
    "现在，df['新标题2']包含了处理后的文本,接下来，你可以使用这个新列的数据进行LDA分析"
   ]
  },
  {
   "cell_type": "code",
   "execution_count": 49,
   "id": "110bccd1-0146-4804-8d7a-32debf6fa3c1",
   "metadata": {},
   "outputs": [],
   "source": [
    "df['新标题3'] = df['新标题2'].apply(lambda x: x.split()) # 需要切词之后，才可以用于gensim的向量化"
   ]
  },
  {
   "cell_type": "code",
   "execution_count": 50,
   "id": "0487a7a8-d3c5-4d01-b131-ff4503b7f14d",
   "metadata": {},
   "outputs": [
    {
     "data": {
      "text/html": [
       "<div>\n",
       "<style scoped>\n",
       "    .dataframe tbody tr th:only-of-type {\n",
       "        vertical-align: middle;\n",
       "    }\n",
       "\n",
       "    .dataframe tbody tr th {\n",
       "        vertical-align: top;\n",
       "    }\n",
       "\n",
       "    .dataframe thead th {\n",
       "        text-align: right;\n",
       "    }\n",
       "</style>\n",
       "<table border=\"1\" class=\"dataframe\">\n",
       "  <thead>\n",
       "    <tr style=\"text-align: right;\">\n",
       "      <th></th>\n",
       "      <th>标题</th>\n",
       "      <th>日期</th>\n",
       "      <th>新标题</th>\n",
       "      <th>新标题2</th>\n",
       "      <th>新标题3</th>\n",
       "    </tr>\n",
       "  </thead>\n",
       "  <tbody>\n",
       "    <tr>\n",
       "      <th>0</th>\n",
       "      <td>中乌联合考古揭开古丝绸之路千年遗存神秘面纱</td>\n",
       "      <td>2024/6/19</td>\n",
       "      <td>中乌联合考古揭开古丝绸之路千年遗存神秘面纱</td>\n",
       "      <td>中乌 联合 考古 揭开 丝绸之路 千年 遗存 神秘 面纱</td>\n",
       "      <td>[中乌, 联合, 考古, 揭开, 丝绸之路, 千年, 遗存, 神秘, 面纱]</td>\n",
       "    </tr>\n",
       "    <tr>\n",
       "      <th>1</th>\n",
       "      <td>中尼舞者“以舞会友”促文化交流</td>\n",
       "      <td>2024/6/10</td>\n",
       "      <td>中尼舞者以舞会友促文化交流</td>\n",
       "      <td>中尼 舞者 舞会 友促 文化交流</td>\n",
       "      <td>[中尼, 舞者, 舞会, 友促, 文化交流]</td>\n",
       "    </tr>\n",
       "    <tr>\n",
       "      <th>2</th>\n",
       "      <td>心相近｜这所高校为海外学子打开“中国之窗”</td>\n",
       "      <td>2024/6/4</td>\n",
       "      <td>心相近这所高校为海外学子打开中国之窗</td>\n",
       "      <td>相近 这所 高校 海外 学子 打开 中国 之窗</td>\n",
       "      <td>[相近, 这所, 高校, 海外, 学子, 打开, 中国, 之窗]</td>\n",
       "    </tr>\n",
       "    <tr>\n",
       "      <th>3</th>\n",
       "      <td>“茶和天下·雅集”暨中国（广西）文化旅游推介会在科伦坡举行</td>\n",
       "      <td>2024/5/23</td>\n",
       "      <td>茶和天下雅集暨中国广西文化旅游推介会在科伦坡举行</td>\n",
       "      <td>天下 雅集 中国 广西 文化 旅游 推介会 科伦坡</td>\n",
       "      <td>[天下, 雅集, 中国, 广西, 文化, 旅游, 推介会, 科伦坡]</td>\n",
       "    </tr>\n",
       "    <tr>\n",
       "      <th>4</th>\n",
       "      <td>中国图书首次正式亮相多哈国际书展</td>\n",
       "      <td>2024/5/14</td>\n",
       "      <td>中国图书首次正式亮相多哈国际书展</td>\n",
       "      <td>中国 图书 首次 正式 亮相 多哈 国际 书展</td>\n",
       "      <td>[中国, 图书, 首次, 正式, 亮相, 多哈, 国际, 书展]</td>\n",
       "    </tr>\n",
       "  </tbody>\n",
       "</table>\n",
       "</div>"
      ],
      "text/plain": [
       "                              标题         日期                       新标题  \\\n",
       "0          中乌联合考古揭开古丝绸之路千年遗存神秘面纱  2024/6/19     中乌联合考古揭开古丝绸之路千年遗存神秘面纱   \n",
       "1                中尼舞者“以舞会友”促文化交流  2024/6/10             中尼舞者以舞会友促文化交流   \n",
       "2          心相近｜这所高校为海外学子打开“中国之窗”   2024/6/4        心相近这所高校为海外学子打开中国之窗   \n",
       "3  “茶和天下·雅集”暨中国（广西）文化旅游推介会在科伦坡举行  2024/5/23  茶和天下雅集暨中国广西文化旅游推介会在科伦坡举行   \n",
       "4               中国图书首次正式亮相多哈国际书展  2024/5/14          中国图书首次正式亮相多哈国际书展   \n",
       "\n",
       "                           新标题2                                    新标题3  \n",
       "0  中乌 联合 考古 揭开 丝绸之路 千年 遗存 神秘 面纱  [中乌, 联合, 考古, 揭开, 丝绸之路, 千年, 遗存, 神秘, 面纱]  \n",
       "1              中尼 舞者 舞会 友促 文化交流                  [中尼, 舞者, 舞会, 友促, 文化交流]  \n",
       "2       相近 这所 高校 海外 学子 打开 中国 之窗        [相近, 这所, 高校, 海外, 学子, 打开, 中国, 之窗]  \n",
       "3     天下 雅集 中国 广西 文化 旅游 推介会 科伦坡      [天下, 雅集, 中国, 广西, 文化, 旅游, 推介会, 科伦坡]  \n",
       "4       中国 图书 首次 正式 亮相 多哈 国际 书展        [中国, 图书, 首次, 正式, 亮相, 多哈, 国际, 书展]  "
      ]
     },
     "execution_count": 50,
     "metadata": {},
     "output_type": "execute_result"
    }
   ],
   "source": [
    "df.head()"
   ]
  },
  {
   "cell_type": "code",
   "execution_count": 51,
   "id": "49472ebc-4b01-473a-8701-4379ee4997d7",
   "metadata": {},
   "outputs": [],
   "source": [
    "# 创建字典，将单词映射到整数ID\n",
    "dictionary = corpora.Dictionary(df['新标题3'])"
   ]
  },
  {
   "cell_type": "code",
   "execution_count": 52,
   "id": "8f683863-e260-40b5-b4f2-c0a447735bf1",
   "metadata": {},
   "outputs": [
    {
     "data": {
      "text/plain": [
       "<gensim.corpora.dictionary.Dictionary at 0x22ae4ff1310>"
      ]
     },
     "execution_count": 52,
     "metadata": {},
     "output_type": "execute_result"
    }
   ],
   "source": [
    "dictionary"
   ]
  },
  {
   "cell_type": "code",
   "execution_count": 53,
   "id": "04f5e41d-336d-4d2d-bac6-fe802cc2ab33",
   "metadata": {},
   "outputs": [],
   "source": [
    "# 将文本转换为词袋表示（Bag of Words）  \n",
    "corpus = [dictionary.doc2bow(text) for text in df['新标题3']]\n",
    "# doc_bow = dictionary.doc2bow(df['新标题3'][100])  "
   ]
  },
  {
   "cell_type": "code",
   "execution_count": 54,
   "id": "08f827a6-733d-4b3a-b110-ffe338a897e1",
   "metadata": {},
   "outputs": [
    {
     "data": {
      "text/plain": [
       "[[(0, 1), (1, 1), (2, 1), (3, 1), (4, 1), (5, 1), (6, 1), (7, 1), (8, 1)],\n",
       " [(9, 1), (10, 1), (11, 1), (12, 1), (13, 1)],\n",
       " [(14, 1), (15, 1), (16, 1), (17, 1), (18, 1), (19, 1), (20, 1), (21, 1)]]"
      ]
     },
     "execution_count": 54,
     "metadata": {},
     "output_type": "execute_result"
    }
   ],
   "source": [
    "corpus[0:3]"
   ]
  },
  {
   "cell_type": "markdown",
   "id": "0f22e55a-5364-4c4a-bfad-18bc88bc1363",
   "metadata": {},
   "source": [
    "**在LDA（Latent Dirichlet Allocation）建模中，TF-IDF（Term Frequency-Inverse Document Frequency）通常不直接作为LDA的输入特征，因为LDA期望的输入是文档的原始词频（term frequencies）或者词袋表示（bag-of-words representation）。然而，TF-IDF可以在LDA建模的预处理阶段中发挥重要作用。**\n",
    "\n",
    "## **TF-IDF的主要作用是在文档集合中评估一个词的重要性。TF-IDF值结合了词频（TF）和逆文档频率（IDF）两个因素：**\n",
    "\n",
    "- 词频（TF）：一个词在文档中出现的次数。它衡量了词在文档内部的相对重要性。\n",
    "- 逆文档频率（IDF）：一个词在文档集合中的稀有程度。它衡量了词在整个文档集合中的重要性。\n",
    "\n",
    "## **在LDA建模之前，使用TF-IDF进行预处理可以帮助我们：**\n",
    "\n",
    "1. 降维：通过只保留TF-IDF值较高的词，我们可以减少词典的大小，从而降低LDA建模的复杂度。\n",
    "2. 过滤噪音：TF-IDF值较低的词往往是噪音或不太重要的词，它们在LDA建模中可能不会对结果产生太大影响。通过过滤这些词，我们可以提高LDA模型的质量和可解释性。\n",
    "3. 加权：虽然LDA在内部会对词频进行建模，但TF-IDF可以作为一种额外的加权方案。尽管LDA不直接使用TF-IDF值作为输入，但你可以使用TF-IDF值来重新加权你的词袋表示（尽管这不是标准的LDA做法）。\n",
    "\n",
    "然而，值得注意的是，LDA是一种无监督的主题模型，它试图发现文档集合中的潜在主题结构。LDA的建模过程会自动考虑词在文档中的出现频率（即TF），并尝试从中推断出主题。因此，在大多数情况下，直接使用未经加权的词袋表示作为LDA的输入已经足够好。\n",
    "\n",
    "**总的来说，TF-IDF在LDA建模的预处理阶段可以作为一个有用的工具来过滤噪音和降低维度，但它通常不直接作为LDA的输入特征。**"
   ]
  },
  {
   "cell_type": "code",
   "execution_count": 55,
   "id": "770efa22-f2e3-4700-906e-ca82bc2b7c59",
   "metadata": {},
   "outputs": [],
   "source": [
    "# 使用TfidfModel计算TF-IDF  \n",
    "tfidf = models.TfidfModel(corpus)"
   ]
  },
  {
   "cell_type": "code",
   "execution_count": 56,
   "id": "3b451680-ebe4-4ad4-a1fd-ff55915061b7",
   "metadata": {},
   "outputs": [
    {
     "data": {
      "text/plain": [
       "<gensim.models.tfidfmodel.TfidfModel at 0x22ae5cc5b90>"
      ]
     },
     "execution_count": 56,
     "metadata": {},
     "output_type": "execute_result"
    }
   ],
   "source": [
    "tfidf"
   ]
  },
  {
   "cell_type": "code",
   "execution_count": 57,
   "id": "daa3f813-4f63-4add-a389-39a30106d4a1",
   "metadata": {},
   "outputs": [
    {
     "name": "stdout",
     "output_type": "stream",
     "text": [
      "TF-IDF vector for the first document:\n",
      "Word: 中国, TF-IDF: 0.12965875712944186\n",
      "Word: 世界, TF-IDF: 0.43068908615849927\n",
      "Word: 一带, TF-IDF: 0.1949319000770021\n",
      "Word: 一路, TF-IDF: 0.1989641103230098\n",
      "Word: 留学生, TF-IDF: 0.4440702883278191\n",
      "Word: 乐队, TF-IDF: 0.7231264992543115\n"
     ]
    }
   ],
   "source": [
    "# 获取某个文档的TF-IDF向量  \n",
    "doc_bow = dictionary.doc2bow(df['新标题3'][100])  \n",
    "doc_tfidf = tfidf[doc_bow]\n",
    "\n",
    "# 打印TF-IDF向量  \n",
    "print(\"TF-IDF vector for the first document:\")  \n",
    "for term_id, tfidf_val in doc_tfidf:  \n",
    "    print(f\"Word: {dictionary[term_id]}, TF-IDF: {tfidf_val}\")"
   ]
  },
  {
   "cell_type": "code",
   "execution_count": 58,
   "id": "d9db5404-81f7-45b6-81e4-3951421c28c6",
   "metadata": {},
   "outputs": [
    {
     "data": {
      "text/plain": [
       "[(14, 1), (15, 1), (16, 1), (17, 1), (18, 1), (19, 1), (20, 1), (21, 1)]"
      ]
     },
     "execution_count": 58,
     "metadata": {},
     "output_type": "execute_result"
    }
   ],
   "source": [
    "# 原始的词袋模型\n",
    "corpus[2]"
   ]
  },
  {
   "cell_type": "code",
   "execution_count": 59,
   "id": "13b7ed83-af2c-4ad5-a3dd-3cdd72df4dee",
   "metadata": {},
   "outputs": [
    {
     "data": {
      "text/plain": [
       "[(14, 0.07123951360169188),\n",
       " (15, 0.3973135422541676),\n",
       " (16, 0.3973135422541676),\n",
       " (17, 0.3973135422541676),\n",
       " (18, 0.3206514286643856),\n",
       " (19, 0.3973135422541676),\n",
       " (20, 0.3973135422541676),\n",
       " (21, 0.3206514286643856)]"
      ]
     },
     "execution_count": 59,
     "metadata": {},
     "output_type": "execute_result"
    }
   ],
   "source": [
    "# 转换成tfidf之后的词袋模型\n",
    "tfidf[corpus][2]"
   ]
  },
  {
   "cell_type": "markdown",
   "id": "2001de58-7677-4937-aee8-f288d775adeb",
   "metadata": {},
   "source": [
    "**上面的两种形式，都可以用作后面的LDA建模，只是两种不同的向量表示形式**"
   ]
  },
  {
   "cell_type": "markdown",
   "id": "bac6a7ca-4aa2-476e-9428-556337e589b3",
   "metadata": {},
   "source": [
    "# 确定最佳主题数目"
   ]
  },
  {
   "cell_type": "markdown",
   "id": "7b58f422-a63c-41cf-916d-a14a834be9e3",
   "metadata": {},
   "source": [
    "## 一致性得分计算"
   ]
  },
  {
   "cell_type": "code",
   "execution_count": 60,
   "id": "6a6548c1-c109-4133-8470-84855b812f00",
   "metadata": {},
   "outputs": [],
   "source": [
    "def compute_coherence_values(dictionary, corpus, texts, limit, start=2, step=1):\n",
    "    coherence_values = []\n",
    "    model_list = []\n",
    "    for num_topics in range(start, limit, step):\n",
    "        model = models.LdaModel(corpus=corpus, id2word=dictionary, num_topics=num_topics, random_state=42, passes=10, chunksize=100)\n",
    "        model_list.append(model)\n",
    "        coherencemodel = CoherenceModel(model=model, texts=texts, dictionary=dictionary, coherence='c_v')\n",
    "        coherence_values.append(coherencemodel.get_coherence())\n",
    "    return model_list, coherence_values"
   ]
  },
  {
   "cell_type": "code",
   "execution_count": 61,
   "id": "ca8a32fc-5fc7-45e2-af56-c281113e8f8b",
   "metadata": {},
   "outputs": [],
   "source": [
    "# 设置主题数目的范围\n",
    "start, limit, step = 2, 20, 1"
   ]
  },
  {
   "cell_type": "code",
   "execution_count": 62,
   "id": "822dd386-f673-49e1-afc6-2b6716103833",
   "metadata": {},
   "outputs": [],
   "source": [
    "# 计算一致性值\n",
    "model_list, coherence_values = compute_coherence_values(dictionary=dictionary, \n",
    "                                                        corpus=tfidf[corpus], \n",
    "                                                        texts=df['新标题3'], \n",
    "                                                        start=start, limit=limit, step=step)"
   ]
  },
  {
   "cell_type": "code",
   "execution_count": 63,
   "id": "89666e90-6c11-40a2-ac90-0d035f36b94b",
   "metadata": {},
   "outputs": [
    {
     "data": {
      "image/png": "[encoded data removed]",
      "text/plain": [
       "<Figure size 640x480 with 1 Axes>"
      ]
     },
     "metadata": {},
     "output_type": "display_data"
    },
    {
     "name": "stdout",
     "output_type": "stream",
     "text": [
      "最佳主题数目： 7\n"
     ]
    }
   ],
   "source": [
    "# 绘制一致性值\n",
    "x = range(start, limit, step)\n",
    "plt.plot(x, coherence_values)\n",
    "plt.xlabel(\"Num Topics\")\n",
    "plt.ylabel(\"Coherence score\")\n",
    "plt.legend((\"coherence_values\"), loc='best')\n",
    "plt.show()\n",
    "\n",
    "# 打印最佳主题数目的模型\n",
    "optimal_model = model_list[coherence_values.index(max(coherence_values))]\n",
    "optimal_num_topics = start + coherence_values.index(max(coherence_values)) * step\n",
    "print(\"最佳主题数目：\", optimal_num_topics)"
   ]
  },
  {
   "cell_type": "markdown",
   "id": "886c28d4-24f3-4f4c-a5b9-4985bf972ce9",
   "metadata": {},
   "source": [
    "## 计算困惑度得分"
   ]
  },
  {
   "cell_type": "code",
   "execution_count": 64,
   "id": "2628d0c6-cdb8-406b-828a-a03b7011bce6",
   "metadata": {},
   "outputs": [],
   "source": [
    "def compute_perplexity_values(dictionary, corpus, texts, limit, start=2, step=1):\n",
    "    perplexity_values = []\n",
    "    model_list = []\n",
    "    for num_topics in range(start, limit, step):\n",
    "        model = models.LdaModel(corpus=corpus, id2word=dictionary, num_topics=num_topics, random_state=42, passes=10, chunksize=100)\n",
    "        model_list.append(model)\n",
    "        perplexity_values.append(model.log_perplexity(corpus))\n",
    "    return model_list, perplexity_values"
   ]
  },
  {
   "cell_type": "code",
   "execution_count": 65,
   "id": "4b554238-e2be-4b4a-a042-aba19bc1ae05",
   "metadata": {},
   "outputs": [],
   "source": [
    "# 计算困惑度值\n",
    "model_list, perplexity_values = compute_perplexity_values(dictionary=dictionary, \n",
    "                                                          corpus=tfidf[corpus], \n",
    "                                                          texts=df['新标题3'], \n",
    "                                                          start=start, limit=limit, step=step)"
   ]
  },
  {
   "cell_type": "code",
   "execution_count": 66,
   "id": "34aaa90b-bbf0-4ed1-9539-1bb1ce46bba3",
   "metadata": {},
   "outputs": [
    {
     "data": {
      "image/png": "[encoded data removed]",
      "text/plain": [
       "<Figure size 640x480 with 1 Axes>"
      ]
     },
     "metadata": {},
     "output_type": "display_data"
    },
    {
     "name": "stdout",
     "output_type": "stream",
     "text": [
      "最佳主题数目： 19\n"
     ]
    }
   ],
   "source": [
    "# 绘制困惑度值\n",
    "x = range(start, limit, step)\n",
    "plt.plot(x, perplexity_values)\n",
    "plt.xlabel(\"Num Topics\")\n",
    "plt.ylabel(\"Perplexity score\")\n",
    "plt.legend((\"perplexity_values\"), loc='best')\n",
    "plt.show()\n",
    "\n",
    "# 打印困惑度最低的模型\n",
    "optimal_model = model_list[perplexity_values.index(min(perplexity_values))]\n",
    "optimal_num_topics = start + perplexity_values.index(min(perplexity_values)) * step\n",
    "print(\"最佳主题数目：\", optimal_num_topics)"
   ]
  },
  {
   "cell_type": "markdown",
   "id": "2014182c-fac9-4c4d-abdd-6297958d95d4",
   "metadata": {},
   "source": [
    "# 正式构建LDA主题模型"
   ]
  },
  {
   "cell_type": "code",
   "execution_count": 67,
   "id": "fa0a32ba-770f-4479-bbb9-bf198f7ff34f",
   "metadata": {},
   "outputs": [],
   "source": [
    "# 设置LDA模型的参数  \n",
    "num_topics = 7  # 假设我们想要找到10个主题  \n",
    "passes = 10       # 通过语料库的次数，用于训练模型  \n",
    "chunksize = 100  # 一次性处理的文档数量，用于优化内存使用  \n",
    "random_state = 42 # 随机种子，确保结果可复现"
   ]
  },
  {
   "cell_type": "code",
   "execution_count": 68,
   "id": "aca45b73-36a4-472d-82ee-0f86dd19bf4b",
   "metadata": {},
   "outputs": [],
   "source": [
    "# 训练LDA模型  使用的是tfidf[corpus]，也就是tfidf之后的，而非简单的词频形式语料库\n",
    "lda_model = models.LdaModel(corpus=tfidf[corpus], id2word=dictionary, num_topics=num_topics, passes=passes, chunksize=chunksize, random_state=random_state)"
   ]
  },
  {
   "cell_type": "code",
   "execution_count": 69,
   "id": "c684a59f-28c2-41c0-97ba-6309aaf43018",
   "metadata": {},
   "outputs": [],
   "source": [
    "# 输出每个主题的前N个最重要的单词  \n",
    "def print_topics(model, num_topics, num_words):  \n",
    "    for i, topic in enumerate(model.print_topics(num_topics=num_topics, num_words=num_words)):  \n",
    "        print(f\"Topic {i+1}: {topic}\")"
   ]
  },
  {
   "cell_type": "code",
   "execution_count": 70,
   "id": "d02a742f-23ec-4f2a-9d86-8a3cd50fd964",
   "metadata": {},
   "outputs": [
    {
     "name": "stdout",
     "output_type": "stream",
     "text": [
      "Topic 1: (0, '0.012*\"艺术\" + 0.010*\"开幕\" + 0.009*\"合作\" + 0.008*\"丝绸之路\" + 0.007*\"图片展\" + 0.007*\"出版\" + 0.007*\"曼谷\" + 0.007*\"京剧\" + 0.006*\"非洲\" + 0.006*\"尼泊尔\"')\n",
      "Topic 2: (1, '0.009*\"倡议\" + 0.007*\"艺术节\" + 0.007*\"高校\" + 0.007*\"启动\" + 0.007*\"中国\" + 0.007*\"文化交流\" + 0.006*\"助推\" + 0.006*\"舞蹈\" + 0.006*\"建设者\" + 0.006*\"香港\"')\n",
      "Topic 3: (2, '0.011*\"电影节\" + 0.010*\"一路\" + 0.010*\"一带\" + 0.009*\"国际\" + 0.009*\"通讯\" + 0.009*\"马来西亚\" + 0.008*\"沿线\" + 0.008*\"上海\" + 0.007*\"传统\" + 0.006*\"发展\"')\n",
      "Topic 4: (3, '0.019*\"活动\" + 0.016*\"丝路\" + 0.012*\"亮相\" + 0.012*\"文化\" + 0.010*\"故事\" + 0.009*\"中国\" + 0.008*\"举办\" + 0.007*\"一路\" + 0.007*\"一带\" + 0.007*\"艺术家\"')\n",
      "Topic 5: (4, '0.016*\"论坛\" + 0.009*\"泰国\" + 0.008*\"文化交流\" + 0.008*\"连线\" + 0.008*\"历史\" + 0.007*\"命运\" + 0.007*\"全球\" + 0.007*\"生肖\" + 0.007*\"发行\" + 0.007*\"举办\"')\n",
      "Topic 6: (5, '0.016*\"一路\" + 0.015*\"一带\" + 0.011*\"电影\" + 0.011*\"走进\" + 0.009*\"中国\" + 0.009*\"比赛\" + 0.008*\"第三届\" + 0.008*\"中文\" + 0.008*\"文化论坛\" + 0.008*\"汉语\"')\n",
      "Topic 7: (6, '0.009*\"铁路\" + 0.008*\"青年\" + 0.008*\"大型\" + 0.008*\"图书\" + 0.008*\"国际\" + 0.006*\"中老\" + 0.006*\"首尔\" + 0.006*\"汉学家\" + 0.006*\"中国\" + 0.006*\"主题\"')\n"
     ]
    }
   ],
   "source": [
    "# 打印每个主题的前10个最重要的单词  \n",
    "print_topics(lda_model, num_topics, 10)"
   ]
  },
  {
   "cell_type": "code",
   "execution_count": 71,
   "id": "ac3e0fd1-745a-4492-b114-ebdd93a834a3",
   "metadata": {},
   "outputs": [
    {
     "name": "stdout",
     "output_type": "stream",
     "text": [
      "[(0, 0.020424178), (1, 0.020424498), (2, 0.020431029), (3, 0.020446545), (4, 0.020430995), (5, 0.877426), (6, 0.020416763)]\n"
     ]
    }
   ],
   "source": [
    "# 如果你想查看特定文档的主题分布，可以这样做：  \n",
    "doc_bow = dictionary.doc2bow(df['新标题3'][100])  # 假设你想看第一个文档的主题分布  \n",
    "doc_lda = lda_model[doc_bow]  \n",
    "print(doc_lda)"
   ]
  },
  {
   "cell_type": "code",
   "execution_count": 73,
   "id": "31ca3852-57e2-42e1-bc9f-54b800ebcac2",
   "metadata": {},
   "outputs": [
    {
     "data": {
      "text/plain": [
       "'留学生一带一路乐队把中国唱给世界听'"
      ]
     },
     "execution_count": 73,
     "metadata": {},
     "output_type": "execute_result"
    }
   ],
   "source": [
    "df['新标题'][100]"
   ]
  },
  {
   "cell_type": "markdown",
   "id": "b1e2fd9e-89e4-4938-8d56-27ec627e6cb6",
   "metadata": {},
   "source": [
    "# 获取主题-文档矩阵"
   ]
  },
  {
   "cell_type": "code",
   "execution_count": 85,
   "id": "2aa3e5cb-08c0-4830-ac8f-6cb9c112e3f4",
   "metadata": {},
   "outputs": [],
   "source": [
    "# 获取主题-文档矩阵\n",
    "doc_topic_matrix = []\n",
    "for doc_bow in corpus:\n",
    "    doc_topics = lda_model.get_document_topics(doc_bow, minimum_probability=0)\n",
    "    doc_topic_matrix.append([prob for _, prob in doc_topics])"
   ]
  },
  {
   "cell_type": "code",
   "execution_count": 86,
   "id": "1ed4e9db-2b82-4108-b75c-7858c846f03f",
   "metadata": {},
   "outputs": [],
   "source": [
    "# 将矩阵转换为 DataFrame\n",
    "doc_topic_df = pd.DataFrame(doc_topic_matrix)\n",
    "doc_topic_df.columns = [f\"Topic_{i}\" for i in range(num_topics)]\n",
    "doc_topic_df.index = df.index"
   ]
  },
  {
   "cell_type": "code",
   "execution_count": 87,
   "id": "656220f3-8c5d-44c2-aafd-1710b8a7f28f",
   "metadata": {},
   "outputs": [
    {
     "data": {
      "text/html": [
       "<div>\n",
       "<style scoped>\n",
       "    .dataframe tbody tr th:only-of-type {\n",
       "        vertical-align: middle;\n",
       "    }\n",
       "\n",
       "    .dataframe tbody tr th {\n",
       "        vertical-align: top;\n",
       "    }\n",
       "\n",
       "    .dataframe thead th {\n",
       "        text-align: right;\n",
       "    }\n",
       "</style>\n",
       "<table border=\"1\" class=\"dataframe\">\n",
       "  <thead>\n",
       "    <tr style=\"text-align: right;\">\n",
       "      <th></th>\n",
       "      <th>Topic_0</th>\n",
       "      <th>Topic_1</th>\n",
       "      <th>Topic_2</th>\n",
       "      <th>Topic_3</th>\n",
       "      <th>Topic_4</th>\n",
       "      <th>Topic_5</th>\n",
       "      <th>Topic_6</th>\n",
       "    </tr>\n",
       "  </thead>\n",
       "  <tbody>\n",
       "    <tr>\n",
       "      <th>0</th>\n",
       "      <td>0.251439</td>\n",
       "      <td>0.014292</td>\n",
       "      <td>0.014361</td>\n",
       "      <td>0.014311</td>\n",
       "      <td>0.677011</td>\n",
       "      <td>0.014294</td>\n",
       "      <td>0.014292</td>\n",
       "    </tr>\n",
       "    <tr>\n",
       "      <th>1</th>\n",
       "      <td>0.023814</td>\n",
       "      <td>0.857085</td>\n",
       "      <td>0.023814</td>\n",
       "      <td>0.023814</td>\n",
       "      <td>0.023846</td>\n",
       "      <td>0.023814</td>\n",
       "      <td>0.023814</td>\n",
       "    </tr>\n",
       "    <tr>\n",
       "      <th>2</th>\n",
       "      <td>0.015885</td>\n",
       "      <td>0.904685</td>\n",
       "      <td>0.015880</td>\n",
       "      <td>0.015890</td>\n",
       "      <td>0.015884</td>\n",
       "      <td>0.015893</td>\n",
       "      <td>0.015883</td>\n",
       "    </tr>\n",
       "    <tr>\n",
       "      <th>3</th>\n",
       "      <td>0.592153</td>\n",
       "      <td>0.015891</td>\n",
       "      <td>0.015884</td>\n",
       "      <td>0.015914</td>\n",
       "      <td>0.015930</td>\n",
       "      <td>0.328345</td>\n",
       "      <td>0.015882</td>\n",
       "    </tr>\n",
       "    <tr>\n",
       "      <th>4</th>\n",
       "      <td>0.015886</td>\n",
       "      <td>0.015887</td>\n",
       "      <td>0.015894</td>\n",
       "      <td>0.169455</td>\n",
       "      <td>0.015891</td>\n",
       "      <td>0.015893</td>\n",
       "      <td>0.751095</td>\n",
       "    </tr>\n",
       "  </tbody>\n",
       "</table>\n",
       "</div>"
      ],
      "text/plain": [
       "    Topic_0   Topic_1   Topic_2   Topic_3   Topic_4   Topic_5   Topic_6\n",
       "0  0.251439  0.014292  0.014361  0.014311  0.677011  0.014294  0.014292\n",
       "1  0.023814  0.857085  0.023814  0.023814  0.023846  0.023814  0.023814\n",
       "2  0.015885  0.904685  0.015880  0.015890  0.015884  0.015893  0.015883\n",
       "3  0.592153  0.015891  0.015884  0.015914  0.015930  0.328345  0.015882\n",
       "4  0.015886  0.015887  0.015894  0.169455  0.015891  0.015893  0.751095"
      ]
     },
     "execution_count": 87,
     "metadata": {},
     "output_type": "execute_result"
    }
   ],
   "source": [
    "doc_topic_df.head()"
   ]
  },
  {
   "cell_type": "markdown",
   "id": "e630af13-945e-444a-935d-1291925053f8",
   "metadata": {},
   "source": [
    "# 获取主题-关键词矩阵"
   ]
  },
  {
   "cell_type": "code",
   "execution_count": 88,
   "id": "9a27a06c-53c5-48cd-8a81-7ad299f23517",
   "metadata": {},
   "outputs": [],
   "source": [
    "# 获取主题-关键词矩阵\n",
    "topic_word_matrix = []\n",
    "for topic_id in range(num_topics):\n",
    "    topic_terms = lda_model.get_topic_terms(topic_id, topn=len(dictionary))\n",
    "    topic_word_matrix.append([prob for _, prob in topic_terms])"
   ]
  },
  {
   "cell_type": "code",
   "execution_count": 89,
   "id": "896448bf-04cd-4823-a0e0-cc48ed0033f8",
   "metadata": {},
   "outputs": [],
   "source": [
    "# 将矩阵转换为 DataFrame\n",
    "topic_word_df = pd.DataFrame(topic_word_matrix)\n",
    "topic_word_df.columns = [dictionary[i] for i in range(len(dictionary))]\n",
    "topic_word_df.index = [f\"Topic_{i}\" for i in range(num_topics)]"
   ]
  },
  {
   "cell_type": "code",
   "execution_count": 93,
   "id": "bf360b26-6a90-4b66-b3f6-bc64f6e4707a",
   "metadata": {},
   "outputs": [],
   "source": [
    "# topic_word_df"
   ]
  },
  {
   "cell_type": "markdown",
   "id": "b3cb51bb-3e21-407b-ad6d-50ec20def201",
   "metadata": {},
   "source": [
    "# 确定每一个文档概率最高的主题是什么"
   ]
  },
  {
   "cell_type": "code",
   "execution_count": 76,
   "id": "6bd4aa17-5ce5-4e1a-8b49-09ecc31e1e55",
   "metadata": {},
   "outputs": [],
   "source": [
    "# 计算每个文档的主题概率分布\n",
    "doc_topic_dists = []\n",
    "for doc_bow in corpus:\n",
    "    doc_topics = lda_model.get_document_topics(doc_bow, minimum_probability=0)\n",
    "    doc_topic_dists.append(doc_topics)"
   ]
  },
  {
   "cell_type": "code",
   "execution_count": 77,
   "id": "bf3065d2-2f05-4d7e-b886-57f1140cf457",
   "metadata": {},
   "outputs": [],
   "source": [
    "# 确定每个文档的主要主题\n",
    "main_topics = [max(doc_topics, key=lambda x: x[1])[0] for doc_topics in doc_topic_dists]"
   ]
  },
  {
   "cell_type": "code",
   "execution_count": 78,
   "id": "6b1c4482-c6d7-4333-b1ce-958d60707b0f",
   "metadata": {},
   "outputs": [],
   "source": [
    "# 将主要主题添加到数据框中\n",
    "df['主要主题'] = main_topics"
   ]
  },
  {
   "cell_type": "code",
   "execution_count": 79,
   "id": "a943accd-cd64-4aa8-ba8e-136d4e7b9e24",
   "metadata": {},
   "outputs": [
    {
     "data": {
      "text/html": [
       "<div>\n",
       "<style scoped>\n",
       "    .dataframe tbody tr th:only-of-type {\n",
       "        vertical-align: middle;\n",
       "    }\n",
       "\n",
       "    .dataframe tbody tr th {\n",
       "        vertical-align: top;\n",
       "    }\n",
       "\n",
       "    .dataframe thead th {\n",
       "        text-align: right;\n",
       "    }\n",
       "</style>\n",
       "<table border=\"1\" class=\"dataframe\">\n",
       "  <thead>\n",
       "    <tr style=\"text-align: right;\">\n",
       "      <th></th>\n",
       "      <th>标题</th>\n",
       "      <th>日期</th>\n",
       "      <th>新标题</th>\n",
       "      <th>新标题2</th>\n",
       "      <th>新标题3</th>\n",
       "      <th>主要主题</th>\n",
       "    </tr>\n",
       "  </thead>\n",
       "  <tbody>\n",
       "    <tr>\n",
       "      <th>0</th>\n",
       "      <td>中乌联合考古揭开古丝绸之路千年遗存神秘面纱</td>\n",
       "      <td>2024/6/19</td>\n",
       "      <td>中乌联合考古揭开古丝绸之路千年遗存神秘面纱</td>\n",
       "      <td>中乌 联合 考古 揭开 丝绸之路 千年 遗存 神秘 面纱</td>\n",
       "      <td>[中乌, 联合, 考古, 揭开, 丝绸之路, 千年, 遗存, 神秘, 面纱]</td>\n",
       "      <td>4</td>\n",
       "    </tr>\n",
       "    <tr>\n",
       "      <th>1</th>\n",
       "      <td>中尼舞者“以舞会友”促文化交流</td>\n",
       "      <td>2024/6/10</td>\n",
       "      <td>中尼舞者以舞会友促文化交流</td>\n",
       "      <td>中尼 舞者 舞会 友促 文化交流</td>\n",
       "      <td>[中尼, 舞者, 舞会, 友促, 文化交流]</td>\n",
       "      <td>1</td>\n",
       "    </tr>\n",
       "    <tr>\n",
       "      <th>2</th>\n",
       "      <td>心相近｜这所高校为海外学子打开“中国之窗”</td>\n",
       "      <td>2024/6/4</td>\n",
       "      <td>心相近这所高校为海外学子打开中国之窗</td>\n",
       "      <td>相近 这所 高校 海外 学子 打开 中国 之窗</td>\n",
       "      <td>[相近, 这所, 高校, 海外, 学子, 打开, 中国, 之窗]</td>\n",
       "      <td>1</td>\n",
       "    </tr>\n",
       "    <tr>\n",
       "      <th>3</th>\n",
       "      <td>“茶和天下·雅集”暨中国（广西）文化旅游推介会在科伦坡举行</td>\n",
       "      <td>2024/5/23</td>\n",
       "      <td>茶和天下雅集暨中国广西文化旅游推介会在科伦坡举行</td>\n",
       "      <td>天下 雅集 中国 广西 文化 旅游 推介会 科伦坡</td>\n",
       "      <td>[天下, 雅集, 中国, 广西, 文化, 旅游, 推介会, 科伦坡]</td>\n",
       "      <td>0</td>\n",
       "    </tr>\n",
       "    <tr>\n",
       "      <th>4</th>\n",
       "      <td>中国图书首次正式亮相多哈国际书展</td>\n",
       "      <td>2024/5/14</td>\n",
       "      <td>中国图书首次正式亮相多哈国际书展</td>\n",
       "      <td>中国 图书 首次 正式 亮相 多哈 国际 书展</td>\n",
       "      <td>[中国, 图书, 首次, 正式, 亮相, 多哈, 国际, 书展]</td>\n",
       "      <td>6</td>\n",
       "    </tr>\n",
       "  </tbody>\n",
       "</table>\n",
       "</div>"
      ],
      "text/plain": [
       "                              标题         日期                       新标题  \\\n",
       "0          中乌联合考古揭开古丝绸之路千年遗存神秘面纱  2024/6/19     中乌联合考古揭开古丝绸之路千年遗存神秘面纱   \n",
       "1                中尼舞者“以舞会友”促文化交流  2024/6/10             中尼舞者以舞会友促文化交流   \n",
       "2          心相近｜这所高校为海外学子打开“中国之窗”   2024/6/4        心相近这所高校为海外学子打开中国之窗   \n",
       "3  “茶和天下·雅集”暨中国（广西）文化旅游推介会在科伦坡举行  2024/5/23  茶和天下雅集暨中国广西文化旅游推介会在科伦坡举行   \n",
       "4               中国图书首次正式亮相多哈国际书展  2024/5/14          中国图书首次正式亮相多哈国际书展   \n",
       "\n",
       "                           新标题2                                    新标题3  主要主题  \n",
       "0  中乌 联合 考古 揭开 丝绸之路 千年 遗存 神秘 面纱  [中乌, 联合, 考古, 揭开, 丝绸之路, 千年, 遗存, 神秘, 面纱]     4  \n",
       "1              中尼 舞者 舞会 友促 文化交流                  [中尼, 舞者, 舞会, 友促, 文化交流]     1  \n",
       "2       相近 这所 高校 海外 学子 打开 中国 之窗        [相近, 这所, 高校, 海外, 学子, 打开, 中国, 之窗]     1  \n",
       "3     天下 雅集 中国 广西 文化 旅游 推介会 科伦坡      [天下, 雅集, 中国, 广西, 文化, 旅游, 推介会, 科伦坡]     0  \n",
       "4       中国 图书 首次 正式 亮相 多哈 国际 书展        [中国, 图书, 首次, 正式, 亮相, 多哈, 国际, 书展]     6  "
      ]
     },
     "execution_count": 79,
     "metadata": {},
     "output_type": "execute_result"
    }
   ],
   "source": [
    "df.head()"
   ]
  },
  {
   "cell_type": "markdown",
   "id": "39623d0d-17af-478a-9aba-cea8abfb4c32",
   "metadata": {},
   "source": [
    "# 获取每个主题的前五个代表性文档"
   ]
  },
  {
   "cell_type": "code",
   "execution_count": 82,
   "id": "5e29deeb-80a6-4426-85d3-befe72baa796",
   "metadata": {},
   "outputs": [],
   "source": [
    "# 获取每个主题的前五个代表性文档\n",
    "top_docs_per_topic = {}\n",
    "for topic_idx in range(num_topics):\n",
    "    # 获取当前主题的所有文档概率\n",
    "    topic_probs = [dict(doc_topics).get(topic_idx, 0) for doc_topics in doc_topic_dists]\n",
    "    # 获取概率最高的前五个文档索引\n",
    "    top_doc_indices = np.argsort(topic_probs)[-5:][::-1]\n",
    "    top_docs_per_topic[topic_idx] = top_doc_indices"
   ]
  },
  {
   "cell_type": "code",
   "execution_count": 84,
   "id": "fa66b575-a23c-4293-9e50-b63774c28fd1",
   "metadata": {},
   "outputs": [
    {
     "name": "stdout",
     "output_type": "stream",
     "text": [
      "主题#0的前五个代表性文档:\n",
      "文档索引: 254, 标题: 新华社－伊通社联合图片展在德黑兰开幕\n",
      "文档索引: 266, 标题: 用西方艺术语言诠释东方艺术神韵\n",
      "文档索引: 88, 标题: 韶华岁月献给中欧合作事业\n",
      "文档索引: 241, 标题: 中国艺术名家书画展在曼谷开幕\n",
      "文档索引: 55, 标题: 中非经贸博览会：留学生志愿者带你看非洲\n",
      "\n",
      "主题#1的前五个代表性文档:\n",
      "文档索引: 2, 标题: 心相近｜这所高校为海外学子打开“中国之窗”\n",
      "文档索引: 107, 标题: 全球连线丨第三次中国与克罗地亚警务联巡启动\n",
      "文档索引: 177, 标题: 中国油画家安曼参展助推“一带一路”文化交流\n",
      "文档索引: 14, 标题: 马达加斯加教师：“一带一路”倡议让我延续中国情缘\n",
      "文档索引: 144, 标题: 原创舞蹈诗剧《天下大同》在国家大剧院上演\n",
      "\n",
      "主题#2的前五个代表性文档:\n",
      "文档索引: 231, 标题: “一带一路·唱响未来”国际华人合唱大赛在吉隆坡举行\n",
      "文档索引: 170, 标题: 《“一带一路”税收（英文）》期刊创刊加强税务国际交流合作\n",
      "文档索引: 155, 标题: 中哈合拍“一带一路”纪录片《你好，哈萨克斯坦》在哈播出\n",
      "文档索引: 77, 标题: 通讯：迪拜世博城迎来2023“欢乐春节”大巡游\n",
      "文档索引: 103, 标题: 通讯：中马铁路人才培训合作计划开花结果\n",
      "\n",
      "主题#3的前五个代表性文档:\n",
      "文档索引: 78, 标题: 沙特利雅得世界大道“中国城”首次举办春节活动\n",
      "文档索引: 101, 标题: 外国人眼中的西安:古老与现代交汇、东西方文化交融\n",
      "文档索引: 51, 标题: 中企参建\"地铁学校\"在哥伦比亚首都波哥大\"开课\"\n",
      "文档索引: 204, 标题: “中餐繁荣”活动将经典鲁菜带入比利时\n",
      "文档索引: 57, 标题: 《丝路情长——来自好客山东的旋律》亮相科威特\n",
      "\n",
      "主题#4的前五个代表性文档:\n",
      "文档索引: 31, 标题: 通讯：中企饮用水处理项目让巴西民众摆脱苦咸水\n",
      "文档索引: 6, 标题: 培养更强竞争力——探访卢旺达“鲁班工坊”\n",
      "文档索引: 123, 标题: 全球连线 | 泰国华人潮剧演员的“戏剧人生”\n",
      "文档索引: 113, 标题: 全球连线｜我在中国乐业：西亚阿鲤“东游记”\n",
      "文档索引: 64, 标题: 携手并肩 助力构建中国—中亚命运共同体\n",
      "\n",
      "主题#5的前五个代表性文档:\n",
      "文档索引: 256, 标题: 国家地理“一带一路”世界影像展在天津启幕\n",
      "文档索引: 119, 标题: 全球连线｜味蕾无国界：中国-东盟美食共赏促交流\n",
      "文档索引: 183, 标题: 中国驻墨尔本总领馆举行“一带一路”人文交流专家学者座谈会\n",
      "文档索引: 136, 标题: 全球连线|习近平与世界文化：《马可·波罗游记》与“一带一路”\n",
      "文档索引: 171, 标题: 2019年中国—东盟（贵阳）“一带一路”文化旅游交流周开幕\n",
      "\n",
      "主题#6的前五个代表性文档:\n",
      "文档索引: 104, 标题: 发现最美铁路|中老铁路列车上的一抹青春色彩\n",
      "文档索引: 194, 标题: 中埃两国企业签署12部中国图书阿语版权协议\n",
      "文档索引: 126, 标题: 斯里兰卡中国企业举行大型招聘会吸引众多当地求职者\n",
      "文档索引: 127, 标题: 中国援建中斯友好医院完成首例器官移植手术\n",
      "文档索引: 89, 标题: 记外国嘉宾参观“奋进新时代”主题成就展\n",
      "\n"
     ]
    }
   ],
   "source": [
    "# 打印每个主题的前五个代表性文档\n",
    "for topic_idx, doc_indices in top_docs_per_topic.items():\n",
    "    print(f\"主题#{topic_idx}的前五个代表性文档:\")\n",
    "    for doc_index in doc_indices:\n",
    "        print(f\"文档索引: {doc_index}, 标题: {df['标题'][doc_index]}\")\n",
    "    print()"
   ]
  },
  {
   "cell_type": "markdown",
   "id": "01b336d6-2b86-489f-99cf-10702eec7421",
   "metadata": {},
   "source": [
    "# 使用 PyLDAvis 可视化 gensim 的 LDA 模型"
   ]
  },
  {
   "cell_type": "code",
   "execution_count": 94,
   "id": "43b9b898-d3bc-460e-83a9-dfd27d2d716a",
   "metadata": {},
   "outputs": [],
   "source": [
    "import pyLDAvis\n",
    "import pyLDAvis.gensim_models as gensimvis"
   ]
  },
  {
   "cell_type": "code",
   "execution_count": 96,
   "id": "e6b49f45-0f65-40b3-b014-720b68c6e62b",
   "metadata": {},
   "outputs": [
    {
     "data": {
      "text/html": [
       "\n",
       "<link rel=\"stylesheet\" type=\"text/css\" href=\"https://cdn.jsdelivr.net/gh/bmabey/pyLDAvis@3.4.0/pyLDAvis/js/ldavis.v1.0.0.css\">\n",
       "\n",
       "\n",
       "<div id=\"ldavis_el598823833065549763522963694\" style=\"background-color:white;\"></div>\n",
       "<script type=\"text/javascript\">\n",
       "\n",
       "var ldavis_el598823833065549763522963694_data = {\"mdsDat\": {\"x\": [0.12221011827217004, -0.024669010022569975, -0.023992786482826677, -0.008394616265344646, -0.039001539361739064, -0.015511780258220427, -0.010640385881469391], \"y\": [-0.0018757816560131546, -0.10724934598563429, 0.017790756540912257, 0.020916076241795444, 0.03355814698058796, 0.023204413342981844, 0.013655734535370037], \"topics\": [1, 2, 3, 4, 5, 6, 7], \"cluster\": [1, 1, 1, 1, 1, 1, 1], \"Freq\": [24.393203527780063, 16.74327334098361, 13.581797752575644, 13.290091469768342, 11.697622978406725, 10.99856765676489, 9.295443273720723]}, \"tinfo\": {\"Term\": [\"\\u6d3b\\u52a8\", \"\\u8bba\\u575b\", \"\\u4e1d\\u8def\", \"\\u827a\\u672f\", \"\\u4eae\\u76f8\", \"\\u7535\\u5f71\\u8282\", \"\\u56fd\\u9645\", \"\\u5f00\\u5e55\", \"\\u6587\\u5316\\u4ea4\\u6d41\", \"\\u7535\\u5f71\", \"\\u5408\\u4f5c\", \"\\u6545\\u4e8b\", \"\\u8d70\\u8fdb\", \"\\u901a\\u8baf\", \"\\u6cf0\\u56fd\", \"\\u5021\\u8bae\", \"\\u94c1\\u8def\", \"\\u9a6c\\u6765\\u897f\\u4e9a\", \"\\u4e1d\\u7ef8\\u4e4b\\u8def\", \"\\u56fe\\u4e66\", \"\\u5927\\u578b\", \"\\u5386\\u53f2\", \"\\u6cbf\\u7ebf\", \"\\u9752\\u5e74\", \"\\u8fde\\u7ebf\", \"\\u827a\\u672f\\u8282\", \"\\u542f\\u52a8\", \"\\u4e0a\\u6d77\", \"\\u547d\\u8fd0\", \"\\u4e00\\u8def\", \"\\u7535\\u5f71\", \"\\u6bd4\\u8d5b\", \"\\u7b2c\\u4e09\\u5c4a\", \"\\u6c49\\u8bed\", \"\\u8d70\\u8fdb\", \"\\u63a8\\u4ecb\\u4f1a\", \"\\u5e0c\\u814a\", \"\\u5b54\\u5b50\", \"\\u5b66\\u9662\", \"\\u57c3\\u53ca\", \"\\u585e\\u5c14\\u7ef4\\u4e9a\", \"\\u6cd5\\u56fd\", \"\\u8d5b\\u533a\", \"\\u6587\\u5316\\u8bba\\u575b\", \"\\u4fc4\\u7f57\\u65af\", \"\\u7f8e\\u98df\", \"\\u6d77\\u4e0a\", \"\\u83ab\\u65af\\u79d1\", \"\\u4eba\\u6587\", \"\\u4e2d\\u6587\", \"\\u5927\\u4f7f\", \"\\u65c5\\u6e38\", \"\\u6089\\u5c3c\", \"\\u5149\\u5f71\", \"\\u4e1c\\u76df\", \"\\u8bb0\\u8005\", \"\\u6559\\u5b66\", \"\\u9881\\u5956\\u5178\\u793c\", \"\\u4ea7\\u4e1a\", \"\\u6587\\u521b\", \"\\u4e16\\u754c\", \"\\u4e3b\\u9898\", \"\\u4e00\\u8def\", \"\\u4e00\\u5e26\", \"\\u9996\\u5c4a\", \"\\u7559\\u5b66\\u751f\", \"\\u5168\\u7403\", \"\\u5f00\\u5e55\", \"\\u4e3e\\u529e\", \"\\u4e2d\\u56fd\", \"\\u6587\\u5316\", \"\\u4e1d\\u8def\", \"\\u6d3b\\u52a8\", \"\\u6545\\u4e8b\", \"\\u4eae\\u76f8\", \"\\u827a\\u672f\\u5bb6\", \"\\u6587\\u7269\", \"\\u773c\\u4e2d\", \"\\u610f\\u5927\\u5229\", \"\\u5df4\\u57fa\\u65af\\u5766\", \"\\u7cd6\\u53f2\", \"\\u79d1\\u5a01\\u7279\", \"\\u97f3\\u4e50\\u4f1a\", \"\\u5927\\u5b66\\u751f\", \"\\u843d\\u5e55\", \"\\u897f\\u5b89\", \"\\u53e4\\u57ce\", \"\\u9ece\\u5df4\\u5ae9\", \"\\u53cb\\u8c0a\", \"\\u6b4c\\u624b\", \"\\u4e1d\\u8def\", \"\\u9ad8\\u5cf0\\u8bba\\u575b\", \"\\u63d2\\u4e0a\", \"\\u7fc5\\u8180\", \"\\u6602\\u626c\", \"\\u9996\\u64ad\", \"\\u6559\\u80b2\", \"\\u5370\\u8c61\", \"\\u63a0\\u5f71\", \"\\u60c5\\u957f\", \"\\u7e41\\u8363\", \"\\u7f8e\\u597d\", \"\\u7cfb\\u5217\", \"\\u8001\\u631d\", \"\\u6587\\u5316\", \"\\u4e3e\\u529e\", \"\\u4e2d\\u56fd\", \"\\u4e00\\u8def\", \"\\u4e00\\u5e26\", \"\\u4e16\\u754c\", \"\\u7535\\u5f71\\u8282\", \"\\u6cbf\\u7ebf\", \"\\u4e0a\\u6d77\", \"\\u4f20\\u7edf\", \"\\u53d1\\u5c55\", \"\\u6d77\\u4e1d\", \"\\u4e2d\\u533b\\u836f\", \"\\u6566\\u714c\", \"\\u5171\\u8d62\", \"\\u5f00\\u82b1\\u7ed3\\u679c\", \"\\u4f18\\u79c0\", \"\\u9a6c\\u6765\\u897f\\u4e9a\", \"\\u5171\\u4eab\", \"\\u4e2d\\u5df4\", \"\\u5065\\u5eb7\", \"\\u901a\\u8baf\", \"\\u6587\\u5316\\u5468\", \"\\u9080\\u8bf7\", \"\\u4f19\\u4f34\", \"\\u8bb2\\u5ea7\", \"\\u5b5f\\u52a0\\u62c9\", \"\\u54c8\\u8428\\u514b\\u65af\\u5766\", \"\\u6d82\\u8272\", \"\\u4e9a\\u5386\\u5c71\\u5927\", \"\\u9057\\u5c55\", \"\\u4f60\\u597d\", \"\\u594f\\u54cd\", \"\\u5370\\u5c3c\", \"\\u5473\\u9053\", \"\\u670d\\u52a1\", \"\\u56fd\\u9645\", \"\\u5317\\u4eac\", \"\\u4e00\\u8def\", \"\\u4e00\\u5e26\", \"\\u7eaa\\u5f55\\u7247\", \"\\u534e\\u4eba\", \"\\u6587\\u5316\", \"\\u8bba\\u575b\", \"\\u6cf0\\u56fd\", \"\\u5386\\u53f2\", \"\\u547d\\u8fd0\", \"\\u53d1\\u884c\", \"\\u751f\\u8096\", \"\\u6f14\\u51fa\", \"\\u5df4\\u897f\", \"\\u90ae\\u7968\", \"\\u533b\\u751f\", \"\\u4e2d\\u533b\", \"\\u7814\\u8ba8\\u4f1a\", \"\\u963f\\u62c9\\u4f2f\", \"\\u975e\\u4e2d\", \"\\u4e2d\\u5fc3\", \"\\u6ce2\\u9ed1\", \"\\u54c8\\u5c14\\u6ee8\", \"\\u5434\\u54e5\", \"\\u5987\\u5973\", \"\\u6587\\u5316\\u4ea4\\u6d41\", \"\\u77e5\\u8bc6\", \"\\u7b2c\\u516d\\u5c4a\", \"\\u5609\\u5e74\\u534e\", \"\\u5927\\u57ce\\u5e02\", \"\\u6570\\u5b57\", \"\\u5a92\\u4f53\", \"\\u9047\\u4e0a\", \"\\u57f9\\u517b\", \"\\u5496\\u5561\", \"\\u6709\\u671b\", \"\\u767d\\u4fc4\\u7f57\\u65af\", \"\\u8fde\\u7ebf\", \"\\u80af\\u5c3c\\u4e9a\", \"\\u5168\\u7403\", \"\\u5f71\\u7247\", \"\\u4e3e\\u529e\", \"\\u4e1d\\u7ef8\\u4e4b\\u8def\", \"\\u4e2d\\u56fd\", \"\\u901a\\u8baf\", \"\\u5408\\u4f5c\", \"\\u4e00\\u8def\", \"\\u4e00\\u5e26\", \"\\u56fe\\u4e66\", \"\\u5927\\u578b\", \"\\u9996\\u5c14\", \"\\u6c49\\u5b66\\u5bb6\", \"\\u94c1\\u8def\", \"\\u4e66\\u5c55\", \"\\u4e2d\\u8001\", \"\\u66f4\\u8981\", \"\\u4e2d\\u56fd\\u653f\\u5e9c\", \"\\u5956\\u5b66\\u91d1\", \"\\u4ee5\\u8272\\u5217\", \"\\u5916\\u56fd\", \"\\u53d1\\u73b0\", \"\\u5f00\\u542f\", \"\\u5f00\\u7f57\", \"\\u9752\\u5e74\", \"\\u7f51\\u7ea2\", \"\\u65f6\\u4ee3\", \"\\u4e2d\\u534e\\u6587\\u5316\", \"\\u56db\\u6d77\", \"\\u751f\\u6839\", \"\\u8d8a\\u5357\", \"\\u6d77\\u6d0b\", \"\\u753b\\u5c55\", \"\\u90d1\\u548c\", \"\\u4eba\\u5458\", \"\\u9057\\u8ff9\", \"\\u5728\\u7ebf\", \"\\u4eae\\u773c\", \"\\u4e94\\u56fd\", \"\\u65af\\u91cc\\u5170\\u5361\", \"\\u4f01\\u4e1a\", \"\\u56fd\\u9645\", \"\\u4e3b\\u9898\", \"\\u5b66\\u751f\", \"\\u4e2d\\u56fd\", \"\\u4e2d\\u6587\", \"\\u827a\\u672f\", \"\\u56fe\\u7247\\u5c55\", \"\\u51fa\\u7248\", \"\\u66fc\\u8c37\", \"\\u4eac\\u5267\", \"\\u5c3c\\u6cca\\u5c14\", \"\\u975e\\u6d32\", \"\\u5149\\u534e\", \"\\u56fd\\u7cb9\", \"\\u8054\\u5408\", \"\\u8003\\u53e4\", \"\\u5e08\\u751f\", \"\\u91cd\\u73b0\", \"\\u79d1\\u4f26\\u5761\", \"\\u6d6e\\u58eb\\u5fb7\", \"\\u5341\\u5e74\", \"\\u79cb\\u5b63\", \"\\u4e24\\u5343\\u5e74\", \"\\u4eba\\u7269\", \"\\u53d8\\u8fc1\", \"\\u5e7f\\u897f\", \"\\u4e66\\u753b\\u5c55\", \"\\u540d\\u5bb6\", \"\\u6e10\\u6210\", \"\\u70ed\\u70b9\", \"\\u751f\\u610f\", \"\\u4e2d\\u5357\", \"\\u6b65\\u4f10\", \"\\u8fc8\\u51fa\", \"\\u57f9\\u8bad\\u73ed\", \"\\u5408\\u4f5c\", \"\\u5f00\\u5e55\", \"\\u4e1d\\u7ef8\\u4e4b\\u8def\", \"\\u56fd\\u5bb6\", \"\\u7b2c\\u516b\\u5c4a\", \"\\u4e2d\\u56fd\", \"\\u4e00\\u8def\\u4e0a\", \"\\u6587\\u5316\", \"\\u5021\\u8bae\", \"\\u827a\\u672f\\u8282\", \"\\u9ad8\\u6821\", \"\\u52a9\\u63a8\", \"\\u821e\\u8e48\", \"\\u5efa\\u8bbe\\u8005\", \"\\u9999\\u6e2f\", \"\\u706b\\u8f66\", \"\\u9a6c\\u8fbe\\u52a0\\u65af\\u52a0\", \"\\u60c5\\u7ed3\", \"\\u6ce2\\u5170\\u4eba\", \"\\u997a\\u5b50\", \"\\u5f00\\u666e\\u6566\", \"\\u6380\\u8d77\", \"\\u72c2\\u6b22\\u8282\", \"\\u6559\\u5e08\", \"\\u63a8\\u5e7f\", \"\\u4e4c\\u5179\\u522b\\u514b\\u65af\\u5766\", \"\\u6293\\u996d\", \"\\u6492\\u9a6c\\u5c14\\u7f55\", \"\\u7236\\u4eb2\", \"\\u4e9a\\u6d32\", \"\\u53e4\\u5821\", \"\\u5e74\\u5473\", \"\\u6587\\u827a\\u590d\\u5174\", \"\\u4e4b\\u6865\", \"\\u5f00\\u95e8\", \"\\u642d\\u5efa\", \"\\u8282\\u5e86\", \"\\u62cd\\u6444\", \"\\u542f\\u52a8\", \"\\u6587\\u5316\\u4ea4\\u6d41\", \"\\u4e00\\u8def\\u4e0a\", \"\\u4e0a\\u6f14\", \"\\u4e2d\\u56fd\", \"\\u4e00\\u5e26\"], \"Freq\": [7.0, 4.0, 8.0, 3.0, 5.0, 3.0, 5.0, 5.0, 4.0, 6.0, 4.0, 4.0, 6.0, 4.0, 3.0, 2.0, 3.0, 4.0, 4.0, 2.0, 2.0, 2.0, 2.0, 3.0, 4.0, 2.0, 3.0, 2.0, 2.0, 14.0, 5.1747909667619725, 4.006140531232711, 3.8618834361177106, 3.613896081402258, 4.98935359771988, 2.947686253015266, 2.9119848922122373, 2.846948372904685, 2.846948372904685, 2.8288777124074067, 2.7958414700650818, 2.53655797488526, 2.5002127117526585, 3.6651900215055506, 2.445361812701893, 2.442151186949525, 2.7796541859542, 2.1747052382064735, 2.1766997966511235, 3.7537095785828183, 2.025553748507584, 2.6653133002173615, 1.853237162714334, 1.801713272973991, 1.773041630787874, 1.7582340444992934, 1.7270862716785873, 1.6904386713700341, 1.656817043570902, 1.656817043570902, 3.6092010776440864, 3.232965543827161, 7.220186703178344, 7.057907711626702, 2.3694136304569526, 2.787808837267727, 3.14718197564539, 2.782084586736369, 3.5989805639927996, 4.035133257666981, 3.49290442798195, 2.8812015494713616, 6.215830093616028, 3.1301485572552523, 3.970926863485073, 2.1493503684706723, 2.0484544606386663, 1.8868840290469864, 1.7918286239225574, 1.7677921310547022, 1.7525932272663847, 1.7093891866318942, 1.6682097821974526, 1.5754792128213237, 1.5734780808475501, 1.5359937490488922, 1.450020049683228, 1.443169906572291, 1.3908517302972128, 1.3754993052334763, 5.193355192622079, 1.3317616591581647, 1.3070181056100132, 1.3070181056100132, 1.2995993982406935, 1.2956407212444037, 1.2870786373994356, 1.269417294006459, 1.269417294006459, 1.2254800851491954, 1.1991919469085304, 1.1921464807020263, 1.8770519731785196, 1.9729028029731661, 3.8111570341391974, 2.6608143818576306, 2.760746913934198, 2.254919303264628, 2.190196102148559, 1.393724601296136, 2.865032899793208, 2.024112688441777, 1.9448145473415037, 1.8149955915468294, 1.6275669566029956, 1.5965497203833645, 1.5816155000062013, 1.5594383172951625, 1.4718484553117528, 1.434268966340156, 1.3968178721558582, 2.23621822227982, 1.1692349742022767, 1.1653904915626623, 1.1571477634273113, 2.295107987804604, 1.4834027794507114, 1.0924351012236622, 1.0590975877764186, 1.0575659007132772, 1.0562404417436444, 1.397194368148689, 1.0361678957668885, 1.0153740944859178, 1.0153740944859178, 1.0029659570786018, 0.9907306216782518, 0.990783656931088, 0.990783656931088, 0.934337495205927, 2.341939986471811, 1.4810117885526506, 2.6063227129451683, 2.512774560531626, 1.104385711529434, 1.0472452043098022, 1.0169854249321582, 4.0168353128351635, 2.2712626346977824, 1.99605137045703, 1.894077097536794, 1.7625867123762664, 1.7625867123762664, 1.4493346658104687, 1.403227600098581, 1.371618637308629, 1.3697534450674627, 1.3681330327399412, 1.347742854125301, 1.336595626451518, 1.2876954955793019, 1.2855255387664433, 1.2695147125093857, 1.149529927930462, 1.126339245113255, 1.0116835306176486, 2.1105580679478027, 0.9957594931867028, 0.9957594931867028, 0.9670668711141683, 0.9670668711141683, 0.9427351218736572, 0.931980687438051, 0.9226668884758781, 0.8875625795143075, 0.8506236610407717, 0.8506236610407717, 1.2572278944127429, 2.0371632964260673, 1.152526326911966, 1.82441908681931, 1.1647054560162096, 1.7286409456832577, 1.2994713813622245, 1.4834012283798204, 1.104941135315366, 1.1069882888912776, 1.1656600150234007, 1.142225615012868, 1.7577115939227277, 1.7601257088540454, 1.3736577944556874, 1.346676619974042, 2.0122514739106254, 1.217093066561544, 1.4391625394945022, 1.1689958694804237, 1.1638179109823532, 1.1638179109823532, 1.1689284181031883, 1.1123379597775662, 1.0241698637813696, 1.0038882012072354, 0.9848203516296081, 1.7992579007749914, 0.93258232593244, 0.9056105052627379, 0.8737645171206346, 0.8737645171206346, 0.8737645171206346, 1.0900463708793082, 0.8280409537513663, 0.8280409537513663, 0.8280409537513663, 0.7931581985962541, 0.7931581985962541, 0.7419725806739491, 0.7395069678113215, 0.7311921045468271, 0.9961826348596022, 1.195250148842832, 1.690507365185062, 1.238852007835254, 0.8668745512088338, 1.2473708361657339, 0.8370112074393533, 2.464932705935186, 1.517610861324889, 1.4355202687112285, 1.4060800844895418, 1.4019487648482227, 1.3352492116845567, 1.3362742972638892, 1.1754319203291377, 1.1242816157244215, 1.1234946744307739, 1.113230430961151, 1.0642016333085138, 1.0021780925430022, 0.9822972955198492, 0.9471054919436963, 0.9216542489372956, 0.9096948520315735, 0.849788616246748, 0.849788616246748, 0.849788616246748, 0.842489596496788, 0.8363694740231928, 0.8363694740231928, 0.788100549150812, 0.788100549150812, 0.788100549150812, 0.7876985768409375, 0.7876985768409375, 0.7876985768409375, 0.7790796006121563, 1.992563498952288, 1.999426393159773, 1.5808475991797633, 1.321379676759844, 0.9655473580654507, 1.3231731367824835, 0.8482429748160233, 0.9915479844014039, 1.5600878355903107, 1.297525622075652, 1.2507286046651869, 1.1495892187198233, 1.1271304824606556, 1.1029132757803952, 1.017806511826175, 0.9464173367814874, 0.8389657258556574, 0.8251055895129662, 0.8251055895129662, 0.8251055895129662, 0.8213910974192665, 0.8213910974192665, 0.8213910974192665, 0.7966369015093452, 0.7653058676549715, 0.7313960136381609, 0.7313960136381609, 0.7313960136381609, 0.7313960136381609, 0.7152547880116742, 0.7048047232304572, 0.7048047232304572, 0.7048047232304572, 0.7030149518376574, 0.7030149518376574, 0.7030149518376574, 0.7030149518376574, 0.6597297960879522, 1.228846252262341, 1.1988533968896957, 0.909301817284933, 0.8863860372858475, 1.22273314771139, 0.8944289830132809], \"Total\": [7.0, 4.0, 8.0, 3.0, 5.0, 3.0, 5.0, 5.0, 4.0, 6.0, 4.0, 4.0, 6.0, 4.0, 3.0, 2.0, 3.0, 4.0, 4.0, 2.0, 2.0, 2.0, 2.0, 3.0, 4.0, 2.0, 3.0, 2.0, 2.0, 14.0, 6.090298310395155, 4.912011567565338, 4.770458006806018, 4.523481804654725, 6.317583268600928, 3.8580206508434194, 3.81788177837716, 3.7533560145933396, 3.7533560145933396, 3.7450054937147392, 3.7043542849603646, 3.4506894003662723, 3.406085244153516, 4.996084846450077, 3.35689370441316, 3.352589228420898, 3.9191542613381243, 3.0807367866038535, 3.0942671233947374, 5.352658056542336, 2.9315324695107248, 3.8657698540795105, 2.764842896901609, 2.709256324491817, 2.6789124196497482, 2.666474625893046, 2.634840032457653, 2.597820374718241, 2.562695122968215, 2.562695122968215, 5.741476514409043, 5.236735574527637, 14.372378195098577, 14.540500435165642, 3.9795659819573257, 5.004759307714692, 6.54964074948609, 5.551172156777104, 9.589101196057431, 12.977672505487618, 10.527991498554979, 8.80351327868781, 7.168205203185973, 4.083394591222225, 5.441632666945259, 3.1007439496121822, 2.996086145651973, 2.8355527360722075, 2.7438024323987347, 2.72174591745011, 2.6986891434364932, 2.6568765423490968, 2.618230674835581, 2.5217879770664173, 2.525702461490436, 2.4820822105165496, 2.396809885288756, 2.3900132225972412, 2.3416019432189925, 2.321588585430405, 8.80351327868781, 2.2778544530929508, 2.2531113774106464, 2.2531113774106464, 2.246259027142136, 2.241729909752603, 2.2425735683554198, 2.215510330586907, 2.215510330586907, 2.171658356161805, 2.14528083485171, 2.138239582750138, 3.529489176560926, 3.951937390219762, 10.527991498554979, 9.589101196057431, 12.977672505487618, 14.372378195098577, 14.540500435165642, 5.741476514409043, 3.8378304408772084, 2.992478372212222, 2.909457029055519, 2.7795776274747204, 2.5924091998949614, 2.564834918174522, 2.5478296709945925, 2.5241579644391554, 2.437762307261165, 2.401563207561012, 2.3613625736430897, 4.0413201625184145, 2.1337637283930224, 2.1299342249629634, 2.1216783994824087, 4.216561346623621, 2.762800462287888, 2.0652850725252097, 2.023963215502829, 2.0229556601064944, 2.0213658336335127, 2.6891496229857994, 2.001123280912013, 1.9804431922068384, 1.9804431922068384, 1.9674856038103483, 1.9552205431140015, 1.9559036667525147, 1.9559036667525147, 1.905961873199466, 5.183902115887136, 3.525406788526149, 14.372378195098577, 14.540500435165642, 3.063622333487865, 2.670927534017517, 10.527991498554979, 4.990801711096122, 3.238862618614723, 2.966017137016615, 2.864386783770315, 2.7296919733702882, 2.7296919733702882, 2.4165623361512605, 2.370227481607495, 2.3386756104759376, 2.337058897337401, 2.340511284518255, 2.3202617910452923, 2.303680943515681, 2.2546796842670047, 2.2632650962991376, 2.23659067846691, 2.1173605640515722, 2.094676884082741, 1.9789715523461298, 4.154084296366402, 1.9627450481382767, 1.9627450481382767, 1.9344391363554476, 1.9344391363554476, 1.9099475204552543, 1.8990127202508822, 1.889863869786817, 1.854578733643761, 1.8176090007653138, 1.8176090007653138, 2.7533146477371764, 4.839588860722183, 2.56737903612658, 6.54964074948609, 2.9151097553561636, 9.589101196057431, 4.500315386507874, 12.977672505487618, 4.216561346623621, 4.788003367102782, 14.372378195098577, 14.540500435165642, 2.7360564402669123, 2.7476263796109603, 2.353608396239047, 2.325642081921777, 3.49167878987928, 2.1954526423418796, 2.6367269104223072, 2.1476736790863487, 2.141974922467717, 2.141974922467717, 2.154978659475711, 2.09520329638709, 2.0024972696119163, 1.9821649197426832, 1.962987121279098, 3.6620969468042635, 1.9206623568658825, 1.9058885306627242, 1.8519103158895271, 1.8519103158895271, 1.8519103158895271, 2.323862792523258, 1.8062748204290553, 1.8062748204290553, 1.8062748204290553, 1.7720627531602093, 1.7720627531602093, 1.7217121356932579, 1.7176496700322517, 1.7098263306781503, 2.3454761193329494, 2.845751491476167, 5.183902115887136, 5.236735574527637, 2.50862240518015, 12.977672505487618, 5.352658056542336, 3.4580688275510783, 2.5101906789162536, 2.428146031984322, 2.394980942133896, 2.3906020648104884, 2.323856583188218, 2.3269827369864053, 2.164047780276914, 2.1130004159680986, 2.113240821476131, 2.1081343480197665, 2.0529862730888766, 1.9907889901784523, 1.9710421826149482, 1.9357168234031636, 1.9102609301639377, 1.8983587669284676, 1.8384000498795303, 1.8384000498795303, 1.8384000498795303, 1.831241248818946, 1.8249799354973104, 1.8249799354973104, 1.7767116047246307, 1.7767116047246307, 1.7767116047246307, 1.77677004936791, 1.77677004936791, 1.77677004936791, 1.7678773848675329, 4.788003367102782, 5.551172156777104, 4.500315386507874, 3.9695424987755117, 2.6506489601637298, 12.977672505487618, 2.620314566920671, 10.527991498554979, 2.5594494015154394, 2.3016165783605, 2.2503507083496888, 2.1521167100236482, 2.1261990666688373, 2.101945128935717, 2.0168232321839166, 1.9454986626787467, 1.838001890393659, 1.8241225135427295, 1.8241225135427295, 1.8241225135427295, 1.8204076440550625, 1.8204076440550625, 1.8204076440550625, 1.7960845087202428, 1.7654358474372347, 1.7304124786865618, 1.7304124786865618, 1.7304124786865618, 1.7304124786865618, 1.7145700432550421, 1.703820402773504, 1.703820402773504, 1.703820402773504, 1.7020309016579112, 1.7020309016579112, 1.7020309016579112, 1.7020309016579112, 1.6593738691754336, 3.5696230433892957, 4.154084296366402, 2.620314566920671, 2.7628924523628755, 12.977672505487618, 14.540500435165642], \"Category\": [\"Default\", \"Default\", \"Default\", \"Default\", \"Default\", \"Default\", \"Default\", \"Default\", \"Default\", \"Default\", \"Default\", \"Default\", \"Default\", \"Default\", \"Default\", \"Default\", \"Default\", \"Default\", \"Default\", \"Default\", \"Default\", \"Default\", \"Default\", \"Default\", \"Default\", \"Default\", \"Default\", \"Default\", \"Default\", \"Default\", \"Topic1\", \"Topic1\", \"Topic1\", \"Topic1\", \"Topic1\", \"Topic1\", \"Topic1\", \"Topic1\", \"Topic1\", \"Topic1\", \"Topic1\", \"Topic1\", \"Topic1\", \"Topic1\", \"Topic1\", \"Topic1\", \"Topic1\", \"Topic1\", \"Topic1\", \"Topic1\", \"Topic1\", \"Topic1\", \"Topic1\", \"Topic1\", \"Topic1\", \"Topic1\", \"Topic1\", \"Topic1\", \"Topic1\", \"Topic1\", \"Topic1\", \"Topic1\", \"Topic1\", \"Topic1\", \"Topic1\", \"Topic1\", \"Topic1\", \"Topic1\", \"Topic1\", \"Topic1\", \"Topic1\", \"Topic1\", \"Topic2\", \"Topic2\", \"Topic2\", \"Topic2\", \"Topic2\", \"Topic2\", \"Topic2\", \"Topic2\", \"Topic2\", \"Topic2\", \"Topic2\", \"Topic2\", \"Topic2\", \"Topic2\", \"Topic2\", \"Topic2\", \"Topic2\", \"Topic2\", \"Topic2\", \"Topic2\", \"Topic2\", \"Topic2\", \"Topic2\", \"Topic2\", \"Topic2\", \"Topic2\", \"Topic2\", \"Topic2\", \"Topic2\", \"Topic2\", \"Topic2\", \"Topic2\", \"Topic2\", \"Topic2\", \"Topic2\", \"Topic2\", \"Topic2\", \"Topic2\", \"Topic3\", \"Topic3\", \"Topic3\", \"Topic3\", \"Topic3\", \"Topic3\", \"Topic3\", \"Topic3\", \"Topic3\", \"Topic3\", \"Topic3\", \"Topic3\", \"Topic3\", \"Topic3\", \"Topic3\", \"Topic3\", \"Topic3\", \"Topic3\", \"Topic3\", \"Topic3\", \"Topic3\", \"Topic3\", \"Topic3\", \"Topic3\", \"Topic3\", \"Topic3\", \"Topic3\", \"Topic3\", \"Topic3\", \"Topic3\", \"Topic3\", \"Topic3\", \"Topic3\", \"Topic3\", \"Topic3\", \"Topic3\", \"Topic3\", \"Topic4\", \"Topic4\", \"Topic4\", \"Topic4\", \"Topic4\", \"Topic4\", \"Topic4\", \"Topic4\", \"Topic4\", \"Topic4\", \"Topic4\", \"Topic4\", \"Topic4\", \"Topic4\", \"Topic4\", \"Topic4\", \"Topic4\", \"Topic4\", \"Topic4\", \"Topic4\", \"Topic4\", \"Topic4\", \"Topic4\", \"Topic4\", \"Topic4\", \"Topic4\", \"Topic4\", \"Topic4\", \"Topic4\", \"Topic4\", \"Topic4\", \"Topic4\", \"Topic4\", \"Topic4\", \"Topic4\", \"Topic4\", \"Topic4\", \"Topic4\", \"Topic4\", \"Topic4\", \"Topic4\", \"Topic4\", \"Topic5\", \"Topic5\", \"Topic5\", \"Topic5\", \"Topic5\", \"Topic5\", \"Topic5\", \"Topic5\", \"Topic5\", \"Topic5\", \"Topic5\", \"Topic5\", \"Topic5\", \"Topic5\", \"Topic5\", \"Topic5\", \"Topic5\", \"Topic5\", \"Topic5\", \"Topic5\", \"Topic5\", \"Topic5\", \"Topic5\", \"Topic5\", \"Topic5\", \"Topic5\", \"Topic5\", \"Topic5\", \"Topic5\", \"Topic5\", \"Topic5\", \"Topic5\", \"Topic5\", \"Topic5\", \"Topic5\", \"Topic5\", \"Topic5\", \"Topic6\", \"Topic6\", \"Topic6\", \"Topic6\", \"Topic6\", \"Topic6\", \"Topic6\", \"Topic6\", \"Topic6\", \"Topic6\", \"Topic6\", \"Topic6\", \"Topic6\", \"Topic6\", \"Topic6\", \"Topic6\", \"Topic6\", \"Topic6\", \"Topic6\", \"Topic6\", \"Topic6\", \"Topic6\", \"Topic6\", \"Topic6\", \"Topic6\", \"Topic6\", \"Topic6\", \"Topic6\", \"Topic6\", \"Topic6\", \"Topic6\", \"Topic6\", \"Topic6\", \"Topic6\", \"Topic6\", \"Topic6\", \"Topic6\", \"Topic6\", \"Topic7\", \"Topic7\", \"Topic7\", \"Topic7\", \"Topic7\", \"Topic7\", \"Topic7\", \"Topic7\", \"Topic7\", \"Topic7\", \"Topic7\", \"Topic7\", \"Topic7\", \"Topic7\", \"Topic7\", \"Topic7\", \"Topic7\", \"Topic7\", \"Topic7\", \"Topic7\", \"Topic7\", \"Topic7\", \"Topic7\", \"Topic7\", \"Topic7\", \"Topic7\", \"Topic7\", \"Topic7\", \"Topic7\", \"Topic7\", \"Topic7\", \"Topic7\", \"Topic7\", \"Topic7\", \"Topic7\", \"Topic7\"], \"logprob\": [30.0, 29.0, 28.0, 27.0, 26.0, 25.0, 24.0, 23.0, 22.0, 21.0, 20.0, 19.0, 18.0, 17.0, 16.0, 15.0, 14.0, 13.0, 12.0, 11.0, 10.0, 9.0, 8.0, 7.0, 6.0, 5.0, 4.0, 3.0, 2.0, 1.0, -4.4991, -4.7551, -4.7918, -4.8582, -4.5356, -5.0619, -5.0741, -5.0967, -5.0967, -5.1031, -5.1148, -5.2121, -5.2266, -4.8441, -5.2488, -5.2501, -5.1206, -5.3661, -5.3651, -4.8202, -5.4371, -5.1626, -5.526, -5.5542, -5.5702, -5.5786, -5.5965, -5.618, -5.638, -5.638, -4.8595, -4.9695, -4.1661, -4.1888, -5.2803, -5.1177, -4.9964, -5.1197, -4.8623, -4.7479, -4.8922, -5.0847, -3.9395, -4.6256, -4.3876, -5.0015, -5.0496, -5.1317, -5.1834, -5.1969, -5.2055, -5.2305, -5.2549, -5.3121, -5.3133, -5.3375, -5.3951, -5.3998, -5.4367, -5.4478, -4.1193, -5.4801, -5.4989, -5.4989, -5.5046, -5.5076, -5.5143, -5.5281, -5.5281, -5.5633, -5.585, -5.5909, -5.1369, -5.0871, -4.4287, -4.788, -4.7511, -4.9535, -4.9826, -5.4347, -4.5048, -4.8522, -4.8922, -4.9613, -5.0703, -5.0895, -5.0989, -5.113, -5.1709, -5.1967, -5.2232, -4.7526, -5.401, -5.4043, -5.4114, -4.7266, -5.163, -5.469, -5.5, -5.5014, -5.5027, -5.2229, -5.5218, -5.5421, -5.5421, -5.5544, -5.5667, -5.5666, -5.5666, -5.6253, -4.7064, -5.1646, -4.5994, -4.636, -5.4581, -5.5112, -5.5405, -4.1452, -4.7153, -4.8445, -4.8969, -4.9689, -4.9689, -5.1646, -5.1969, -5.2197, -5.221, -5.2222, -5.2372, -5.2455, -5.2828, -5.2845, -5.297, -5.3963, -5.4167, -5.524, -4.7887, -5.5399, -5.5399, -5.5691, -5.5691, -5.5946, -5.6061, -5.6161, -5.6549, -5.6974, -5.6974, -5.3068, -4.8241, -5.3937, -4.9344, -5.3832, -4.9883, -5.2737, -5.1413, -5.4359, -5.434, -5.3824, -5.4027, -4.844, -4.8426, -5.0905, -5.1104, -4.7088, -5.2116, -5.044, -5.2519, -5.2563, -5.2563, -5.2519, -5.3016, -5.3841, -5.4041, -5.4233, -4.8207, -5.4778, -5.5072, -5.543, -5.543, -5.543, -5.3218, -5.5967, -5.5967, -5.5967, -5.6398, -5.6398, -5.7065, -5.7098, -5.7211, -5.4119, -5.2297, -4.883, -5.1938, -5.5509, -5.187, -5.5859, -4.4442, -4.9293, -4.9849, -5.0056, -5.0085, -5.0573, -5.0565, -5.1848, -5.2293, -5.23, -5.2391, -5.2842, -5.3442, -5.3643, -5.4008, -5.428, -5.4411, -5.5092, -5.5092, -5.5092, -5.5178, -5.5251, -5.5251, -5.5845, -5.5845, -5.5845, -5.585, -5.585, -5.585, -5.596, -4.657, -4.6535, -4.8884, -5.0677, -5.3815, -5.0664, -5.511, -5.3549, -4.7334, -4.9177, -4.9544, -5.0388, -5.0585, -5.0802, -5.1605, -5.2332, -5.3538, -5.3704, -5.3704, -5.3704, -5.3749, -5.3749, -5.3749, -5.4055, -5.4456, -5.491, -5.491, -5.491, -5.491, -5.5133, -5.528, -5.528, -5.528, -5.5305, -5.5305, -5.5305, -5.5305, -5.5941, -4.9721, -4.9968, -5.2732, -5.2988, -4.9771, -5.2897], \"loglift\": [30.0, 29.0, 28.0, 27.0, 26.0, 25.0, 24.0, 23.0, 22.0, 21.0, 20.0, 19.0, 18.0, 17.0, 16.0, 15.0, 14.0, 13.0, 12.0, 11.0, 10.0, 9.0, 8.0, 7.0, 6.0, 5.0, 4.0, 3.0, 2.0, 1.0, 1.248, 1.207, 1.1996, 1.1864, 1.1748, 1.1417, 1.14, 1.1345, 1.1345, 1.1303, 1.1295, 1.1031, 1.1017, 1.1011, 1.094, 1.094, 1.0673, 1.0626, 1.0591, 1.056, 1.0412, 1.039, 1.0108, 1.0029, 0.9982, 0.9944, 0.9885, 0.9812, 0.9747, 0.9747, 0.9466, 0.9286, 0.7224, 0.6881, 0.8923, 0.8257, 0.678, 0.7201, 0.4309, 0.2427, 0.3076, 0.2939, 1.6446, 1.5213, 1.4721, 1.4207, 1.407, 1.3799, 1.3611, 1.3556, 1.3555, 1.3462, 1.3364, 1.3168, 1.3139, 1.3073, 1.2846, 1.2827, 1.2663, 1.2637, 1.2594, 1.2504, 1.2426, 1.2426, 1.24, 1.2389, 1.2319, 1.2302, 1.2302, 1.215, 1.2056, 1.2029, 1.1557, 1.0925, 0.7711, 0.5052, 0.2394, -0.065, -0.1058, 0.3714, 1.7041, 1.6055, 1.5936, 1.5702, 1.5309, 1.5224, 1.5196, 1.5149, 1.4919, 1.481, 1.4714, 1.4047, 1.3949, 1.3934, 1.3902, 1.3882, 1.3745, 1.3596, 1.3488, 1.3478, 1.3474, 1.3417, 1.3383, 1.3284, 1.3284, 1.3226, 1.3166, 1.3163, 1.3163, 1.2835, 1.2019, 1.1292, 0.2891, 0.2409, 0.9761, 1.0602, -0.3408, 1.801, 1.6633, 1.6221, 1.6045, 1.5807, 1.5807, 1.5069, 1.4939, 1.4846, 1.4839, 1.4812, 1.4749, 1.4738, 1.458, 1.4525, 1.4518, 1.4073, 1.3977, 1.3472, 1.341, 1.3396, 1.3396, 1.3248, 1.3248, 1.3121, 1.3064, 1.3012, 1.2812, 1.2588, 1.2588, 1.2343, 1.1529, 1.2172, 0.74, 1.1007, 0.3049, 0.776, -0.1507, 0.6789, 0.5537, -0.4939, -0.5258, 1.7033, 1.7004, 1.6073, 1.5994, 1.5947, 1.5559, 1.5403, 1.5375, 1.5358, 1.5358, 1.5341, 1.5126, 1.4753, 1.4655, 1.456, 1.4351, 1.4233, 1.4017, 1.3946, 1.3946, 1.3946, 1.3888, 1.3658, 1.3658, 1.3658, 1.3419, 1.3419, 1.304, 1.3031, 1.2963, 1.2895, 1.2783, 1.0253, 0.7043, 1.0832, -0.1964, 0.2903, 1.8689, 1.7042, 1.6818, 1.6748, 1.6737, 1.6533, 1.6527, 1.5971, 1.5764, 1.5756, 1.5689, 1.5503, 1.521, 1.511, 1.4926, 1.4786, 1.4718, 1.4357, 1.4357, 1.4357, 1.431, 1.4272, 1.4272, 1.3945, 1.3945, 1.3945, 1.394, 1.394, 1.394, 1.388, 1.3307, 1.1863, 1.1612, 1.1074, 1.1975, -0.0758, 1.0795, -0.1551, 1.8806, 1.8025, 1.7883, 1.7486, 1.741, 1.7307, 1.6918, 1.6551, 1.5914, 1.5823, 1.5823, 1.5823, 1.5798, 1.5798, 1.5798, 1.5627, 1.5398, 1.5145, 1.5145, 1.5145, 1.5145, 1.5014, 1.4929, 1.4929, 1.4929, 1.4914, 1.4914, 1.4914, 1.4914, 1.4533, 1.3093, 1.1329, 1.3173, 1.2388, 0.0135, -0.4129]}, \"token.table\": {\"Topic\": [1, 2, 3, 4, 6, 7, 1, 2, 3, 4, 7, 6, 7, 3, 1, 3, 7, 1, 2, 1, 1, 4, 6, 1, 2, 6, 4, 3, 5, 6, 1, 2, 3, 4, 5, 6, 7, 5, 3, 4, 1, 5, 5, 1, 5, 1, 2, 3, 4, 7, 7, 5, 6, 5, 3, 7, 1, 6, 2, 4, 5, 5, 1, 6, 5, 5, 3, 3, 3, 3, 1, 7, 3, 6, 1, 1, 2, 4, 3, 3, 6, 7, 1, 3, 4, 6, 3, 4, 3, 2, 4, 2, 3, 5, 4, 6, 2, 7, 3, 4, 6, 6, 1, 7, 4, 3, 4, 4, 4, 3, 4, 5, 1, 6, 6, 1, 3, 5, 5, 6, 5, 1, 4, 6, 1, 5, 1, 5, 4, 2, 3, 5, 4, 4, 1, 3, 3, 5, 1, 6, 2, 4, 6, 1, 7, 6, 7, 5, 1, 6, 7, 5, 3, 7, 1, 4, 1, 7, 2, 2, 7, 7, 7, 2, 1, 7, 2, 7, 7, 2, 1, 7, 2, 3, 4, 1, 1, 2, 3, 4, 6, 4, 7, 3, 1, 4, 2, 7, 5, 1, 5, 2, 5, 6, 4, 3, 2, 6, 1, 5, 1, 3, 1, 7, 4, 4, 2, 6, 1, 3, 5, 3, 6, 4, 7, 6, 7, 7, 6, 5, 4, 1, 3, 5, 1, 4, 6, 2, 4, 2, 4, 4, 6, 6, 2, 1, 3, 6, 4, 2, 2, 3, 2, 2, 3, 5, 2, 1, 2, 2, 5, 6, 6, 6, 1, 4, 7, 6, 2, 7, 7, 1, 2, 2, 1, 3, 4, 1, 1, 7, 5, 6, 1, 4, 7, 3, 4, 4, 3, 5, 3, 4, 5, 6, 3, 5, 4, 2, 5, 4, 6, 2, 1, 7, 5, 1, 4, 2, 7, 3, 5, 7, 2, 7, 2], \"Freq\": [0.48141396722981894, 0.13754684777994827, 0.2063202716699224, 0.06877342388997414, 0.06877342388997414, 0.06877342388997414, 0.4870453522011559, 0.13915581491461598, 0.20873372237192397, 0.06957790745730799, 0.06957790745730799, 0.38163356897075734, 0.38163356897075734, 0.6874134864432931, 0.3619395315748834, 0.3619395315748834, 0.3619395315748834, 0.696684901516437, 0.17417122537910926, 0.746571625608234, 0.22220664867134424, 0.22220664867134424, 0.4444132973426885, 0.3407730419698031, 0.5679550699496719, 0.5439512472084244, 0.42725707268095015, 0.7849818309162178, 0.5399829524248158, 0.5628190324098227, 0.3082216782946709, 0.23116625872100316, 0.07705541957366772, 0.07705541957366772, 0.07705541957366772, 0.07705541957366772, 0.07705541957366772, 0.46685887379480817, 0.46949806631582186, 0.4418395360027366, 0.7472922719415941, 0.18682306798539852, 0.37925808548744877, 0.5728759753676517, 0.1909586584558839, 0.41714024267932476, 0.3128551820094936, 0.10428506066983119, 0.20857012133966238, 0.5875333984981834, 0.5778968958655637, 0.45548693727836664, 0.5479512297911912, 0.5848547200717049, 0.5049374826478534, 0.5832365985477853, 0.7804283787310294, 0.4183046667280753, 0.7350735054752343, 0.18376837636880858, 0.5821908957611964, 0.5643141013018017, 0.6463566073137826, 0.5439512472084244, 0.46404171828007423, 0.35140102816260793, 0.4234843099326372, 0.4940801257356657, 0.7195337810432098, 0.5082629311560609, 0.5957888977451649, 0.7814180654697874, 0.4713249662361429, 0.46209700595059827, 0.73820995891747, 0.45804038950310233, 0.15268012983436746, 0.3053602596687349, 0.46865544984829166, 0.41021226598728716, 0.4118368445833478, 0.46465881489717703, 0.28365520916752573, 0.28365520916752573, 0.4278882321448102, 0.5234886942456497, 0.37440177139356323, 0.37440177139356323, 0.5112726240042028, 0.4513632756273774, 0.6743049374325973, 0.4270580671902344, 0.7714831439731951, 0.4993764611693078, 0.7326834014647615, 0.5439512472084244, 0.4172212431773766, 0.5869163195675936, 0.20885532513839886, 0.20885532513839886, 0.4177106502767977, 0.5479512297911912, 0.5602832499929837, 0.28014162499649187, 0.47740059939502316, 0.5112726240042028, 0.6982297262827941, 0.5501733318766273, 0.4722861174322141, 0.371864767751259, 0.5169457033856519, 0.5399829524248158, 0.5038363994382078, 0.2519181997191039, 0.4732606735156921, 0.19290487699127148, 0.38580975398254297, 0.38580975398254297, 0.7309790728603875, 0.7967522215736524, 0.5808171873036975, 0.801066915665388, 0.5392060104319552, 0.5656500889482955, 0.8098577428676207, 0.47728065420876914, 0.6822370281758474, 0.7279010038778206, 0.5169457033856519, 0.7930880859883349, 0.5114512547046688, 0.46685887379480817, 0.5053129737082225, 0.5265894163509806, 0.7992846903772962, 0.4947150007984684, 0.3986251569527012, 0.3986251569527012, 0.7992846903772962, 0.43031915447555236, 0.7348224487735124, 0.4219004326630274, 0.4870953172499408, 0.7857760334515096, 0.5869163195675936, 0.5460776949213804, 0.4757498120354514, 0.5044988890883085, 0.5404264027980962, 0.36028426853206413, 0.5493275109372989, 0.5094276927035528, 0.4163954531163823, 0.5875333984981834, 0.3430402571164328, 0.3430402571164328, 0.7233684062994242, 0.5482087922142053, 0.4604775871686387, 0.728915455567814, 0.5778968958655637, 0.6026369455226592, 0.5493275109372989, 0.4513632756273774, 0.7776008143824105, 0.566432363686074, 0.4438307000824942, 0.5875333984981834, 0.5778968958655637, 0.7346828558887942, 0.7590593642736236, 0.5567666750338636, 0.4459162518058862, 0.7923434381589433, 0.5235745952651308, 0.7804283787310294, 0.28495463739800375, 0.37993951653067165, 0.09498487913266791, 0.09498487913266791, 0.09498487913266791, 0.4814538794384625, 0.24072693971923126, 0.3619515826966003, 0.800626915462047, 0.20015672886551175, 0.6675375482452236, 0.5869163195675936, 0.42635266748501316, 0.7760420597294814, 0.5246896572971534, 0.4451846327234474, 0.4656200845304462, 0.4175398569597858, 0.5501733318766273, 0.5246694669297544, 0.4307395402767315, 0.5628190324098227, 0.8143303298413482, 0.4299887793454689, 0.8842745859801944, 0.6683423407740382, 0.8693914901994848, 0.5482087922142053, 0.4471090797380317, 0.6175007203162601, 0.837029609215602, 0.5166044887918628, 0.7654712726147463, 0.7797772815037415, 0.5536256103943606, 0.49971933740346547, 0.562837546251626, 0.4138109681841068, 0.5140070354112222, 0.562837546251626, 0.5778968958655637, 0.5493275109372989, 0.562837546251626, 0.5399829524248158, 0.7326834014647615, 0.8209778479103081, 0.7816916474596239, 0.5536256103943606, 0.5994294261815122, 0.19980980872717075, 0.19980980872717075, 0.36319859076835054, 0.36319859076835054, 0.7053298549369917, 0.5094905224438244, 0.43098584989821076, 0.526770817730093, 0.5073458137122753, 0.7527636185276736, 0.8384939128052685, 0.3772661016335525, 0.3772661016335525, 0.5094905224438244, 0.7411005468578026, 0.5666542380358751, 0.28332711901793756, 0.46613943673678687, 0.3264109903721463, 0.3264109903721463, 0.5206537194969499, 0.4676744402579204, 0.5965538465152259, 0.4438307000824942, 0.5060808921086634, 0.2530404460543317, 0.2530404460543317, 0.4743530700210496, 0.4732068346576254, 0.38950228459787767, 0.38950228459787767, 0.47032284778805866, 0.5783574878746275, 0.645006499246784, 0.434477231960297, 0.5875333984981834, 0.6491953511564883, 0.7918589107363759, 0.8057750833256152, 0.7500540153575125, 0.49432620779605074, 0.8014744386872238, 0.8807765469608977, 0.7914418832990363, 0.15828837665980725, 0.4303180046676494, 0.5628190324098227, 0.4132582451852226, 0.4132582451852226, 0.2066291225926113, 0.47432014753004476, 0.23716007376502238, 0.5291386411407523, 0.5049374826478534, 0.5643141013018017, 0.4841946583080209, 0.42759243544532993, 0.5536256103943606, 0.5023134068620507, 0.286395187008188, 0.572790374016376, 0.4340878899982935, 0.2730675933832533, 0.5461351867665066, 0.44352198096161033, 0.4297410479697264, 0.7638746345852798, 0.76987616983215, 0.5482087922142053, 0.42487951759432535, 0.5025673676646296, 0.2512836838323148, 0.44608406911533777, 0.49582927449578723, 0.49488778903220265, 0.24744389451610133, 0.5440690813358317, 0.4390096121559325, 0.44437517951739947, 0.4184077270138674], \"Term\": [\"\\u4e00\\u5e26\", \"\\u4e00\\u5e26\", \"\\u4e00\\u5e26\", \"\\u4e00\\u5e26\", \"\\u4e00\\u5e26\", \"\\u4e00\\u5e26\", \"\\u4e00\\u8def\", \"\\u4e00\\u8def\", \"\\u4e00\\u8def\", \"\\u4e00\\u8def\", \"\\u4e00\\u8def\", \"\\u4e00\\u8def\\u4e0a\", \"\\u4e00\\u8def\\u4e0a\", \"\\u4e0a\\u6d77\", \"\\u4e0a\\u6f14\", \"\\u4e0a\\u6f14\", \"\\u4e0a\\u6f14\", \"\\u4e16\\u754c\", \"\\u4e16\\u754c\", \"\\u4e1c\\u76df\", \"\\u4e1d\\u7ef8\\u4e4b\\u8def\", \"\\u4e1d\\u7ef8\\u4e4b\\u8def\", \"\\u4e1d\\u7ef8\\u4e4b\\u8def\", \"\\u4e1d\\u8def\", \"\\u4e1d\\u8def\", \"\\u4e24\\u5343\\u5e74\", \"\\u4e2d\\u533b\", \"\\u4e2d\\u533b\\u836f\", \"\\u4e2d\\u534e\\u6587\\u5316\", \"\\u4e2d\\u5357\", \"\\u4e2d\\u56fd\", \"\\u4e2d\\u56fd\", \"\\u4e2d\\u56fd\", \"\\u4e2d\\u56fd\", \"\\u4e2d\\u56fd\", \"\\u4e2d\\u56fd\", \"\\u4e2d\\u56fd\", \"\\u4e2d\\u56fd\\u653f\\u5e9c\", \"\\u4e2d\\u5df4\", \"\\u4e2d\\u5fc3\", \"\\u4e2d\\u6587\", \"\\u4e2d\\u6587\", \"\\u4e2d\\u8001\", \"\\u4e3b\\u9898\", \"\\u4e3b\\u9898\", \"\\u4e3e\\u529e\", \"\\u4e3e\\u529e\", \"\\u4e3e\\u529e\", \"\\u4e3e\\u529e\", \"\\u4e4b\\u6865\", \"\\u4e4c\\u5179\\u522b\\u514b\\u65af\\u5766\", \"\\u4e66\\u5c55\", \"\\u4e66\\u753b\\u5c55\", \"\\u4e94\\u56fd\", \"\\u4e9a\\u5386\\u5c71\\u5927\", \"\\u4e9a\\u6d32\", \"\\u4ea7\\u4e1a\", \"\\u4eac\\u5267\", \"\\u4eae\\u76f8\", \"\\u4eae\\u76f8\", \"\\u4eae\\u773c\", \"\\u4eba\\u5458\", \"\\u4eba\\u6587\", \"\\u4eba\\u7269\", \"\\u4ee5\\u8272\\u5217\", \"\\u4f01\\u4e1a\", \"\\u4f18\\u79c0\", \"\\u4f19\\u4f34\", \"\\u4f20\\u7edf\", \"\\u4f60\\u597d\", \"\\u4fc4\\u7f57\\u65af\", \"\\u5021\\u8bae\", \"\\u5065\\u5eb7\", \"\\u5149\\u534e\", \"\\u5149\\u5f71\", \"\\u5168\\u7403\", \"\\u5168\\u7403\", \"\\u5168\\u7403\", \"\\u5171\\u4eab\", \"\\u5171\\u8d62\", \"\\u51fa\\u7248\", \"\\u52a9\\u63a8\", \"\\u5317\\u4eac\", \"\\u5317\\u4eac\", \"\\u533b\\u751f\", \"\\u5341\\u5e74\", \"\\u534e\\u4eba\", \"\\u534e\\u4eba\", \"\\u5370\\u5c3c\", \"\\u5370\\u8c61\", \"\\u5386\\u53f2\", \"\\u53cb\\u8c0a\", \"\\u53d1\\u5c55\", \"\\u53d1\\u73b0\", \"\\u53d1\\u884c\", \"\\u53d8\\u8fc1\", \"\\u53e4\\u57ce\", \"\\u53e4\\u5821\", \"\\u5408\\u4f5c\", \"\\u5408\\u4f5c\", \"\\u5408\\u4f5c\", \"\\u540d\\u5bb6\", \"\\u542f\\u52a8\", \"\\u542f\\u52a8\", \"\\u5434\\u54e5\", \"\\u5473\\u9053\", \"\\u547d\\u8fd0\", \"\\u5496\\u5561\", \"\\u54c8\\u5c14\\u6ee8\", \"\\u54c8\\u8428\\u514b\\u65af\\u5766\", \"\\u5609\\u5e74\\u534e\", \"\\u56db\\u6d77\", \"\\u56fd\\u5bb6\", \"\\u56fd\\u5bb6\", \"\\u56fd\\u7cb9\", \"\\u56fd\\u9645\", \"\\u56fd\\u9645\", \"\\u56fd\\u9645\", \"\\u56fe\\u4e66\", \"\\u56fe\\u7247\\u5c55\", \"\\u5728\\u7ebf\", \"\\u57c3\\u53ca\", \"\\u57f9\\u517b\", \"\\u57f9\\u8bad\\u73ed\", \"\\u585e\\u5c14\\u7ef4\\u4e9a\", \"\\u5916\\u56fd\", \"\\u5927\\u4f7f\", \"\\u5927\\u578b\", \"\\u5927\\u57ce\\u5e02\", \"\\u5927\\u5b66\\u751f\", \"\\u594f\\u54cd\", \"\\u5956\\u5b66\\u91d1\", \"\\u5987\\u5973\", \"\\u5a92\\u4f53\", \"\\u5b54\\u5b50\", \"\\u5b5f\\u52a0\\u62c9\", \"\\u5b66\\u751f\", \"\\u5b66\\u751f\", \"\\u5b66\\u9662\", \"\\u5c3c\\u6cca\\u5c14\", \"\\u5df4\\u57fa\\u65af\\u5766\", \"\\u5df4\\u897f\", \"\\u5e08\\u751f\", \"\\u5e0c\\u814a\", \"\\u5e74\\u5473\", \"\\u5e7f\\u897f\", \"\\u5efa\\u8bbe\\u8005\", \"\\u5f00\\u542f\", \"\\u5f00\\u5e55\", \"\\u5f00\\u5e55\", \"\\u5f00\\u666e\\u6566\", \"\\u5f00\\u7f57\", \"\\u5f00\\u82b1\\u7ed3\\u679c\", \"\\u5f00\\u95e8\", \"\\u5f71\\u7247\", \"\\u5f71\\u7247\", \"\\u6089\\u5c3c\", \"\\u60c5\\u7ed3\", \"\\u60c5\\u957f\", \"\\u610f\\u5927\\u5229\", \"\\u6293\\u996d\", \"\\u62cd\\u6444\", \"\\u6380\\u8d77\", \"\\u63a0\\u5f71\", \"\\u63a8\\u4ecb\\u4f1a\", \"\\u63a8\\u5e7f\", \"\\u63d2\\u4e0a\", \"\\u642d\\u5efa\", \"\\u6492\\u9a6c\\u5c14\\u7f55\", \"\\u6545\\u4e8b\", \"\\u6559\\u5b66\", \"\\u6559\\u5e08\", \"\\u6559\\u80b2\", \"\\u6566\\u714c\", \"\\u6570\\u5b57\", \"\\u6587\\u521b\", \"\\u6587\\u5316\", \"\\u6587\\u5316\", \"\\u6587\\u5316\", \"\\u6587\\u5316\", \"\\u6587\\u5316\", \"\\u6587\\u5316\\u4ea4\\u6d41\", \"\\u6587\\u5316\\u4ea4\\u6d41\", \"\\u6587\\u5316\\u5468\", \"\\u6587\\u5316\\u8bba\\u575b\", \"\\u6587\\u5316\\u8bba\\u575b\", \"\\u6587\\u7269\", \"\\u6587\\u827a\\u590d\\u5174\", \"\\u65af\\u91cc\\u5170\\u5361\", \"\\u65c5\\u6e38\", \"\\u65f6\\u4ee3\", \"\\u6602\\u626c\", \"\\u66f4\\u8981\", \"\\u66fc\\u8c37\", \"\\u6709\\u671b\", \"\\u670d\\u52a1\", \"\\u6b4c\\u624b\", \"\\u6b65\\u4f10\", \"\\u6bd4\\u8d5b\", \"\\u6c49\\u5b66\\u5bb6\", \"\\u6c49\\u8bed\", \"\\u6cbf\\u7ebf\", \"\\u6cd5\\u56fd\", \"\\u6ce2\\u5170\\u4eba\", \"\\u6ce2\\u9ed1\", \"\\u6cf0\\u56fd\", \"\\u6d3b\\u52a8\", \"\\u6d6e\\u58eb\\u5fb7\", \"\\u6d77\\u4e0a\", \"\\u6d77\\u4e1d\", \"\\u6d77\\u6d0b\", \"\\u6d82\\u8272\", \"\\u6e10\\u6210\", \"\\u6f14\\u51fa\", \"\\u706b\\u8f66\", \"\\u70ed\\u70b9\", \"\\u7236\\u4eb2\", \"\\u72c2\\u6b22\\u8282\", \"\\u751f\\u610f\", \"\\u751f\\u6839\", \"\\u751f\\u8096\", \"\\u7535\\u5f71\", \"\\u7535\\u5f71\\u8282\", \"\\u753b\\u5c55\", \"\\u7559\\u5b66\\u751f\", \"\\u7559\\u5b66\\u751f\", \"\\u7559\\u5b66\\u751f\", \"\\u767d\\u4fc4\\u7f57\\u65af\", \"\\u767d\\u4fc4\\u7f57\\u65af\", \"\\u773c\\u4e2d\", \"\\u77e5\\u8bc6\", \"\\u7814\\u8ba8\\u4f1a\", \"\\u79cb\\u5b63\", \"\\u79d1\\u4f26\\u5761\", \"\\u79d1\\u5a01\\u7279\", \"\\u7b2c\\u4e09\\u5c4a\", \"\\u7b2c\\u516b\\u5c4a\", \"\\u7b2c\\u516b\\u5c4a\", \"\\u7b2c\\u516d\\u5c4a\", \"\\u7cd6\\u53f2\", \"\\u7cfb\\u5217\", \"\\u7cfb\\u5217\", \"\\u7e41\\u8363\", \"\\u7eaa\\u5f55\\u7247\", \"\\u7eaa\\u5f55\\u7247\", \"\\u7f51\\u7ea2\", \"\\u7f8e\\u597d\", \"\\u7f8e\\u98df\", \"\\u7fc5\\u8180\", \"\\u8001\\u631d\", \"\\u8001\\u631d\", \"\\u8001\\u631d\", \"\\u8003\\u53e4\", \"\\u8054\\u5408\", \"\\u80af\\u5c3c\\u4e9a\", \"\\u80af\\u5c3c\\u4e9a\", \"\\u821e\\u8e48\", \"\\u827a\\u672f\", \"\\u827a\\u672f\\u5bb6\", \"\\u827a\\u672f\\u8282\", \"\\u8282\\u5e86\", \"\\u83ab\\u65af\\u79d1\", \"\\u843d\\u5e55\", \"\\u897f\\u5b89\", \"\\u8bb0\\u8005\", \"\\u8bb2\\u5ea7\", \"\\u8bba\\u575b\", \"\\u8d5b\\u533a\", \"\\u8d70\\u8fdb\", \"\\u8d70\\u8fdb\", \"\\u8d8a\\u5357\", \"\\u8fc8\\u51fa\", \"\\u8fde\\u7ebf\", \"\\u8fde\\u7ebf\", \"\\u8fde\\u7ebf\", \"\\u901a\\u8baf\", \"\\u901a\\u8baf\", \"\\u9047\\u4e0a\", \"\\u9057\\u5c55\", \"\\u9057\\u8ff9\", \"\\u9080\\u8bf7\", \"\\u90ae\\u7968\", \"\\u90d1\\u548c\", \"\\u91cd\\u73b0\", \"\\u94c1\\u8def\", \"\\u94c1\\u8def\", \"\\u963f\\u62c9\\u4f2f\", \"\\u9752\\u5e74\", \"\\u9752\\u5e74\", \"\\u975e\\u4e2d\", \"\\u975e\\u6d32\", \"\\u97f3\\u4e50\\u4f1a\", \"\\u9881\\u5956\\u5178\\u793c\", \"\\u997a\\u5b50\", \"\\u9996\\u5c14\", \"\\u9996\\u5c4a\", \"\\u9996\\u5c4a\", \"\\u9996\\u64ad\", \"\\u9999\\u6e2f\", \"\\u9a6c\\u6765\\u897f\\u4e9a\", \"\\u9a6c\\u6765\\u897f\\u4e9a\", \"\\u9a6c\\u8fbe\\u52a0\\u65af\\u52a0\", \"\\u9ad8\\u5cf0\\u8bba\\u575b\", \"\\u9ad8\\u6821\", \"\\u9ece\\u5df4\\u5ae9\"]}, \"R\": 30, \"lambda.step\": 0.01, \"plot.opts\": {\"xlab\": \"PC1\", \"ylab\": \"PC2\"}, \"topic.order\": [6, 4, 3, 5, 7, 1, 2]};\n",
       "\n",
       "function LDAvis_load_lib(url, callback){\n",
       "  var s = document.createElement('script');\n",
       "  s.src = url;\n",
       "  s.async = true;\n",
       "  s.onreadystatechange = s.onload = callback;\n",
       "  s.onerror = function(){console.warn(\"failed to load library \" + url);};\n",
       "  document.getElementsByTagName(\"head\")[0].appendChild(s);\n",
       "}\n",
       "\n",
       "if(typeof(LDAvis) !== \"undefined\"){\n",
       "   // already loaded: just create the visualization\n",
       "   !function(LDAvis){\n",
       "       new LDAvis(\"#\" + \"ldavis_el598823833065549763522963694\", ldavis_el598823833065549763522963694_data);\n",
       "   }(LDAvis);\n",
       "}else if(typeof define === \"function\" && define.amd){\n",
       "   // require.js is available: use it to load d3/LDAvis\n",
       "   require.config({paths: {d3: \"https://d3js.org/d3.v5\"}});\n",
       "   require([\"d3\"], function(d3){\n",
       "      window.d3 = d3;\n",
       "      LDAvis_load_lib(\"https://cdn.jsdelivr.net/gh/bmabey/pyLDAvis@3.4.0/pyLDAvis/js/ldavis.v3.0.0.js\", function(){\n",
       "        new LDAvis(\"#\" + \"ldavis_el598823833065549763522963694\", ldavis_el598823833065549763522963694_data);\n",
       "      });\n",
       "    });\n",
       "}else{\n",
       "    // require.js not available: dynamically load d3 & LDAvis\n",
       "    LDAvis_load_lib(\"https://d3js.org/d3.v5.js\", function(){\n",
       "         LDAvis_load_lib(\"https://cdn.jsdelivr.net/gh/bmabey/pyLDAvis@3.4.0/pyLDAvis/js/ldavis.v3.0.0.js\", function(){\n",
       "                 new LDAvis(\"#\" + \"ldavis_el598823833065549763522963694\", ldavis_el598823833065549763522963694_data);\n",
       "            })\n",
       "         });\n",
       "}\n",
       "</script>"
      ],
      "text/plain": [
       "<IPython.core.display.HTML object>"
      ]
     },
     "execution_count": 96,
     "metadata": {},
     "output_type": "execute_result"
    }
   ],
   "source": [
    "# 可视化\n",
    "vis = gensimvis.prepare(lda_model, corpus, dictionary)\n",
    "# 在 Jupyter Notebook 中显示\n",
    "pyLDAvis.display(vis)"
   ]
  },
  {
   "cell_type": "code",
   "execution_count": null,
   "id": "859cbbea-fe15-4e92-a6f3-18b148629bb5",
   "metadata": {},
   "outputs": [],
   "source": []
  },
  {
   "cell_type": "code",
   "execution_count": null,
   "id": "478d2de1-692d-426e-97a2-dee87d82084e",
   "metadata": {},
   "outputs": [],
   "source": []
  },
  {
   "cell_type": "code",
   "execution_count": null,
   "id": "e9da2f03-f9c7-4935-98e2-687070874d63",
   "metadata": {},
   "outputs": [],
   "source": []
  }
 ],
 "metadata": {
  "kernelspec": {
   "display_name": "Python 3 (ipykernel)",
   "language": "python",
   "name": "python3"
  },
  "language_info": {
   "codemirror_mode": {
    "name": "ipython",
    "version": 3
   },
   "file_extension": ".py",
   "mimetype": "text/x-python",
   "name": "python",
   "nbconvert_exporter": "python",
   "pygments_lexer": "ipython3",
   "version": "3.11.7"
  }
 },
 "nbformat": 4,
 "nbformat_minor": 5
}
