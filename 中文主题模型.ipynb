{
 "cells": [
  {
   "cell_type": "code",
   "execution_count": 74,
   "id": "d6254d65",
   "metadata": {
    "ExecuteTime": {
     "end_time": "2024-01-25T07:49:41.143378Z",
     "start_time": "2024-01-25T07:49:37.587543Z"
    }
   },
   "outputs": [],
   "source": [
    "import pandas as pd\n",
    "import jieba\n",
    "import re\n",
    "from sklearn.feature_extraction.text import CountVectorizer\n",
    "from sklearn.decomposition import LatentDirichletAllocation\n",
    "from sklearn.feature_extraction.text import TfidfVectorizer\n",
    "import matplotlib.pyplot as plt"
   ]
  },
  {
   "cell_type": "code",
   "execution_count": 49,
   "id": "a5e49f50",
   "metadata": {
    "ExecuteTime": {
     "end_time": "2024-01-25T07:14:38.757855Z",
     "start_time": "2024-01-25T07:14:38.688689Z"
    }
   },
   "outputs": [],
   "source": [
    "# 读取文件\n",
    "with open('/Users/shiwei/Desktop/《神印王座》.txt', 'r', encoding='utf-8') as f:\n",
    "    text = [line.strip('\\n') for line in f.readlines()]"
   ]
  },
  {
   "cell_type": "code",
   "execution_count": 50,
   "id": "93baab5f",
   "metadata": {
    "ExecuteTime": {
     "end_time": "2024-01-25T07:14:39.870669Z",
     "start_time": "2024-01-25T07:14:39.852053Z"
    }
   },
   "outputs": [
    {
     "data": {
      "text/plain": [
       "['    《神印王座》来自: http://www.xdizhu.net/txt/2592.html',\n",
       " '',\n",
       " '===六大圣殿之骑士圣殿===',\n",
       " '',\n",
       " '在正式上传之前，我每天为大家介绍一座圣殿，即是预热，也让大家对设定多了解一些。同时，在这里感谢大家的慷慨打赏，尤其是芙蓉、小狼和枫秀三位，由衷感谢。',\n",
       " '',\n",
       " '    骑士圣殿，圣殿联盟六大圣殿之首。主要分为守护骑士和惩戒骑士两大类。',\n",
       " '',\n",
       " '    守护骑士擅长于各种辅助、治疗，擅长防御，在团队中能起到中流砥柱的作用。',\n",
       " '',\n",
       " '    惩戒骑士则擅长于个体战斗，个人战斗力极强。',\n",
       " '',\n",
       " '    骑士称号，由低到高：',\n",
       " '',\n",
       " '    骑士侍从，准骑士，骑士拥有坐骑，大骑士，大地骑士天空骑士，辉耀骑士，圣殿骑士，圣骑士，神印骑士',\n",
       " '',\n",
       " '    问号并不是错误，而是一些暂时还不能为大家揭示的秘密。',\n",
       " '',\n",
       " '    我们的主角就是一位骑士哦。',\n",
       " '',\n",
       " '    下面对应说一下等级相对应的灵力数量，以后其他职业也同骑士职业。',\n",
       " '',\n",
       " '    一阶职业侍从骑士共十级，第十级进阶对应灵力：',\n",
       " '',\n",
       " '    10、20、30、40、50、60、70、80、90、100',\n",
       " '',\n",
       " '    二阶职业准骑士对应灵力：',\n",
       " '',\n",
       " '    101－110、120、130、140、150、160、170、180、190、200',\n",
       " '',\n",
       " '    三阶职业骑士对应灵力：',\n",
       " '',\n",
       " '    201－210、240、270、300、330、360、390、420、450、500',\n",
       " '',\n",
       " '    四阶职业大骑士对应灵力：',\n",
       " '',\n",
       " '    501－550、700、850、1000、1150、1300、1450、1600、1750、2000',\n",
       " '',\n",
       " '    五阶职业大地骑士对应灵力：',\n",
       " '',\n",
       " '    2001－2100、2300、2500、2700、2900、3100、3300、3500、3700、4000',\n",
       " '',\n",
       " '    六阶职业辉耀骑士对应灵力：',\n",
       " '',\n",
       " '    4001－4200、4800、5400、6000、6600、7200、7800、8400、9000、10000',\n",
       " '',\n",
       " '    七阶职业圣殿骑士对应灵力：',\n",
       " '',\n",
       " '    10001－11000、13000、15000、17000、19000、21000、23000、25000、27000、30000',\n",
       " '',\n",
       " '    八阶职业圣骑士对应灵力：',\n",
       " '',\n",
       " '    30001－33000、40000、47000、54000、61000、68000、75000、82000、89000、100000',\n",
       " '',\n",
       " '    九阶职业神印骑士对应灵力：',\n",
       " '',\n",
       " '    10万以上。',\n",
       " '',\n",
       " '    举个例子大家就明白了。比如，一名骑士的灵力突破了20，那么，就意味着他成为了一名二级侍从骑士，也就相当于一阶职业二级。',\n",
       " '',\n",
       " '    对于数字大家不用纠结，只是以后大家看书时喜欢数字流的朋友可以进行对照。完全不看这些数字看书也同样能看懂。',\n",
       " '',\n",
       " '    其他职业的九阶职业对应灵力与骑士职业一样，以后介绍其他圣殿时就不一一赘述了。',\n",
       " '',\n",
       " '    好了，骑士圣殿就暂时介绍这么多，更多有关于骑士的神秘内容将在书中为大家一一展开。',\n",
       " '',\n",
       " '    新书期间最需要大家的支持，麻烦大家先行收藏、推荐票也砸几张吧。谢谢。:',\n",
       " '',\n",
       " '===六大圣殿之刺客圣殿===',\n",
       " '',\n",
       " '感谢书友们的慷慨打赏和推荐、收藏。昨天公布的灵力数据略有差错，有一个地方9000写成了9万，现已更改。每一阶最后突破的时候，灵力都需要比前面高一些，这是故意设定的，毕竟涉及到突破下一阶。',\n",
       " '',\n",
       " '    刺客圣殿，六大圣殿中它与灵魂圣殿的人数是最少的，也是最神秘的。他们行走于阴暗之中，暴起突击，有着最强的攻击力。刺客前期称号与战士类似，但从五阶之后就会截然不同。却为侠之大者，因此，刺客的最高称号就是侠者。',\n",
       " '',\n",
       " '    猜猜主角在刺客圣殿的伙伴会是怎样的呢在所有伙伴中，她对主角的帮助可是最大的。',\n",
       " '',\n",
       " '    刺客等级由低到高：预备战师，战士，战师，大战师，刺客，潜行者隐身，王刺，帝刺，侠者。',\n",
       " '',\n",
       " '    －－－－－－－－－－－－－－－－－－－－－－－－－－－－－－－－－－－－－－－－－－－－－－',\n",
       " '',\n",
       " '    再求收藏、推荐票。谢谢大家。:',\n",
       " '',\n",
       " '===六大圣殿之战士圣殿===',\n",
       " '',\n",
       " '感谢枫秀、狂野老夫等兄弟姐妹们的打赏，谢谢大家的收藏与推荐。',\n",
       " '',\n",
       " '    战士圣殿是六大圣殿中排名最后的一个，但它也是人数最多的一个。战士相比于骑士，缺少了坐骑，同等级情况下，修为要逊色于骑士。但不可否认，战士圣殿的重要性绝不低于任何其他五大圣殿。',\n",
       " '',\n",
       " '    天赋惊才绝艳者毕竟是少数，而战士圣殿有着最低的准入门槛，几乎只要肯努力，所有人都有成为战士的可能。在与魔族的战争中，战士永远都是身先士卒战斗在第一线，无论是伤亡还是杀敌数字名列前茅的勇者。',\n",
       " '',\n",
       " '    战士等阶，每阶九级：预备战士，战士，战师，大战师，战尊，战宗，战王、战帝、战神。',\n",
       " '',\n",
       " '    求收藏、推荐票。:',\n",
       " '',\n",
       " '===六大圣殿之魔法圣殿===',\n",
       " '',\n",
       " '魔法师，强大的攻击者，他们身体脆弱，但攻击力却极为强大，任何一个团队都不可或缺的成员。魔法圣殿的地位仅次于骑士圣殿。',\n",
       " '',\n",
       " '    魔法师等级由低到高：魔法侍从，魔法学徒，魔法师，大魔法师，魔导士，大魔导士，大魔导师，圣魔导师，法神。:',\n",
       " '',\n",
       " '===六大圣殿之牧师圣殿===',\n",
       " '',\n",
       " '牧师在六大圣殿中，人数是较少的一个职业。但他的重要性毋庸置疑。一名优秀的牧师，能够凭借其优秀的治疗力挽狂澜于即倒，能够挽救无数生命。',\n",
       " '',\n",
       " '    牧师职业称号由低到高：牧师，神官，祭祀，大祭祀，主教，大主教，红衣主教，枢机主教，圣者教皇同级:',\n",
       " '',\n",
       " '===六大圣殿之灵魂圣殿===',\n",
       " '',\n",
       " '明天上午开始更新本书，还请大家多多支持，收藏、投票。',\n",
       " '',\n",
       " '    灵魂圣殿，六大圣殿中人数最少的一个，灵魂圣殿的召唤师能够召唤多只召唤兽为自己战斗，每提升一阶，可以多召唤一只召唤兽。',\n",
       " '',\n",
       " '    召唤师等级由低到高：灵修，灵士，召唤师，大召唤师，控兽使，幻兽师，灵引师，灵帝，通灵者:',\n",
       " '',\n",
       " '===第一章 侍从骑士考核（一）===',\n",
       " '',\n",
       " '奥丁镇位于圣殿联盟南部边境，三千余户，在皓月城所属中算是较大的一座城镇。',\n",
       " '',\n",
       " '    朝阳初升，用光明与温暖柔和地抚触大地，也仿佛是在唤醒着生命。此时，奥丁镇中心地带，一座相对较大，占地面积约上千平米的两层建筑中，正进行着一场考核。',\n",
       " '',\n",
       " '    “告诉我，你们为什么要成为骑士。”一个浑厚有力，带着几分金属般铿锵的声音响起。',\n",
       " '',\n",
       " '    “守护人类、守护善良、守护圣殿、守护亲人。”回答的声音整齐而稚嫩，很显然，他们已经不是第一次回答这个问题了。',\n",
       " '',\n",
       " '    这座二层建筑是奥丁镇的骑士圣殿子殿，简称奥丁子殿，专门负责在奥丁镇上挑选那些有可能成为骑士的孩子进行培养，今天站在这里的三十多个孩子，都将进行骑士最初级的称号骑士侍从的考核。只有成为一级骑士侍从，他们才能继续在这里学习、修炼。',\n",
       " '',\n",
       " '    浑厚声音的主人，是一名身材高大魁梧的中年壮汉。他叫巴尔扎，是奥丁子殿的骑士侍从总教官，据说，当年他只差一点，就能成为一名真正的骑士了。',\n",
       " '',\n",
       " '    “告诉我，骑士的准则是什么”巴尔扎目光严厉的注视着眼前这些普遍在八到十岁都住在奥丁镇上的孩子们。',\n",
       " '',\n",
       " '    回答依旧整齐划一，“谦卑、诚实、怜悯、英勇、公正、牺牲、荣誉、执着、仁爱、正义。”',\n",
       " '',\n",
       " '    巴尔扎略带满意的点了点头，“很好。你们在这里已经修炼了一年，今天是接受考核的时候了。骑士侍从一级到十级，相对应的灵力是十到一百。今天你们的任务，就是达到灵力十以上，成为一名一级骑士侍从。所有成功通过考核的人，将继续留在这里修炼三年，然后前往皓月城参加准骑士的考核。只有当你们成为一名像我这样的准骑士时，才真正算是骑士圣殿的一份子。现在开始，蒋虎。”',\n",
       " '',\n",
       " '    “是。”一名身材较为高大的少年走了出来，同时取下了自己背后的木剑。',\n",
       " '',\n",
       " '    所有少年的配备都一样，每人一柄长三尺、宽三寸、厚两寸的木剑。而骑士侍从考核也很简单，巴尔扎面前有一个看似木墩的东西，木墩后连接着一个石槽，石槽内有石珠。击打木墩，石珠就会振动，按照振动时弹起的高度评测出灵力多少。可以算是评测灵力最原始的工具了。不过，在灵力一百以内，还算准确。',\n",
       " '',\n",
       " '    灵力是圣魔大陆评定所有职业强弱的通用数值，无论是骑士、魔法师还是其他任何职业，强弱都是用灵力来进行评定的。一般来说，十点灵力，相当于是一名正常成年男子的力量。',\n",
       " '',\n",
       " '    “啊”蒋虎大喝一声，双手握着木剑，抡圆了狠狠的砸在木墩上。',\n",
       " '',\n",
       " '    “砰。”石珠跳动而起。',\n",
       " '',\n",
       " '    巴尔扎满意的点了点头，手上拿着名册进行记录，同时说道：“蒋虎，灵力十三，通过。下一个，”',\n",
       " '',\n",
       " '    这种考核进行的速度很快，一会儿的工夫，已经是一半人完成了，通过的差不多有一半左右。',\n",
       " '',\n",
       " '    “龙皓晨。”叫出这个名字的时候，巴尔扎下意识的抬起头，目光锁定在一个身材有些瘦弱的少年身上。',\n",
       " '',\n",
       " '    这名少年和其他人比起来明显有些营养不良，身形瘦弱，可是，他却有着一张令人惊叹的面庞。',\n",
       " '',\n",
       " '    自然成型的柔顺眉毛，大大的眼睛，长长的睫毛，挺直的鼻梁，白皙的肌肤、薄厚适中的嘴唇。哪怕他看上去只有八、九岁而已，可却漂亮的足以令女人也要疯狂嫉妒。尤其是他虽然是黑发，却有着一双澄澈碧蓝的眼眸。如果换上一身女装，那也绝对是倾国倾城之色。',\n",
       " '',\n",
       " '    龙皓晨走到巴尔扎面前，没有像其他人那样先取下木剑，而是右手握拳放在心脏的位置，弯腰躬身，行礼道：“教官。”',\n",
       " '',\n",
       " '    巴尔扎原本严肃的目光明显变得柔和了几分，点了点头，道：“开始吧。”',\n",
       " '',\n",
       " '    “是。”',\n",
       " '',\n",
       " '    摘下木剑，龙皓晨深吸口气，猛然将巨剑抡起，全力以赴的砸向木墩。',\n",
       " '',\n",
       " '    噗的一声，石珠弹跳。但是，它却明显没有超过十的刻度。',\n",
       " '',\n",
       " '    巴尔扎一下就皱起了眉头，“灵力九，未通过。”从木剑反弹的程度他能看出，龙皓晨确实已经全力以赴了，可是，他却依旧没能通过考核，成为一名侍从骑士。',\n",
       " '',\n",
       " '    龙皓晨俊秀的面庞一下就变得通红，看着巴尔扎，有些激动的道：“教官，我、我”',\n",
       " '',\n",
       " '    巴尔扎略微叹了口气，道：“下去吧。”',\n",
       " '',\n",
       " '    龙皓晨急切的道：“教官，再给我一次机会吧。我一定能通过的。”',\n",
       " '',\n",
       " '    巴尔扎眉头微皱，道：“但是，这对其他没有通过的人不公平。”',\n",
       " '',\n",
       " '    龙皓晨顿时沉默了，可在他眼中，却仿佛多了一种特质。巴尔扎注意到了他的眼神，在这一刻，这位侍从骑士教官不禁愣了一下，那是什么执着骑士十大守则中的执着么骑士的十大守则也是骑士的十大精神，哪怕是一些真正的骑士身上，都未必能看到其中一种闪耀，可眼前这孩子',\n",
       " '',\n",
       " '    也就在这一刻，龙皓晨已经转过身，面对所有在场的少年们，噗通一声跪倒在地，用极为恳切的声音向这些一起训练了一年的伙伴们道：“请求你们，再给我一次机会。”一边说着，他竟然拜了下去。',\n",
       " '',\n",
       " '    巴尔扎呆住了，少年们也都呆住了，对于他们这些普遍只有八、九岁，最大不过十一岁的孩子们来说，他们根本不明白龙皓晨为何如此执着。在绝大多数少年们看来，成不成为侍从骑士根本没什么关系。',\n",
       " '',\n",
       " '    巴尔扎眼中渐渐多了些什么，如果换了别的孩子，或许他会以为这个孩子急功近利或者是怯懦什么的，但对龙皓晨却不会。因为，这个俊秀的少年虽然看起来瘦弱，但在过去一年的训练中，他却是最刻苦的一个。不但很好的完成了每天必须的训练，每天清晨他都会提前来一个时辰，再晚走一个时辰。',\n",
       " '',\n",
       " '    巴尔扎身为一名十级准骑士，在这奥丁镇他已经当了十年教官，但龙皓晨却是他所见过的最勤奋的学员。这个少年从来都不需要督促，不但每天训练的刻苦，而且待人非常温和，对每个人都很好，当这些和他一起训练的小伙伴们请他帮忙的时候他从不拒绝。',\n",
       " '',\n",
       " '    这也是为什么轮到龙皓晨考核的时候，巴尔扎的眼神会变得柔和的原因。而龙皓晨没能通过考核也让他吃了一惊。如此勤奋的孩子依旧没有通过考核，唯一的解释就是他的资质实在是太差了。:',\n",
       " '',\n",
       " '===第一章 侍从骑士考核（二）===',\n",
       " '',\n",
       " '“教官，就让他重新考核一次吧。”开口的是第一个通过考核也是这群孩子里年纪最大的蒋虎。',\n",
       " '',\n",
       " '    “是啊教官，再给皓晨一次机会吧。”',\n",
       " '',\n",
       " '    “教官，皓晨每天训练都很努力，让他再试试吧。”',\n",
       " '',\n",
       " '    一时间，为龙皓晨求情的声音几乎从每一名少年口中响起。这是带人为善积蓄而来的人缘，更何况他们只是一群孩子，还远远涉及不到利益关系。',\n",
       " '',\n",
       " '    巴尔扎沉声道：“安静。”宽阔的厅堂内顿时静了下来。',\n",
       " '',\n",
       " '    巴尔扎道：“好，我就给他一次机会，但是，为了公平起见，龙皓晨，你要先在一对一的对决中战胜蒋虎，才能获得这次机会。你们所有失败的人也是一样，谁能战胜蒋虎，我都给他重新考核的机会，仅限于三天内。”',\n",
       " '',\n",
       " '    龙皓晨大喜，先是再次向伙伴们谢过之后，然后才转向巴尔扎，“谢谢您教官。”',\n",
       " '',\n",
       " '    看着他那宛如绝色少女一般的面庞上充满阳光和纯净的笑容时，哪怕巴尔扎是个男人都不禁微微一怔。没有理会龙皓晨，他反而是看向蒋虎，淡淡的道：“全力以赴，否则的话，我取消你侍从骑士的称号，明白了么”',\n",
       " '',\n",
       " '    “是。”蒋虎答应一声，抽出了背后的木剑，其他少年向四周散开，让出一片空地。',\n",
       " '',\n",
       " '    “皓晨，小心了，我不会手下留情的。”蒋虎木剑收在身前，向龙皓晨行了一个骑士礼。',\n",
       " '',\n",
       " '    龙皓晨同样还礼，“蒋大哥，请。”',\n",
       " '',\n",
       " '    蒋虎低喝一声，一个进步前冲，手中木剑直奔龙皓晨劈去，目标是他的左肩。',\n",
       " '',\n",
       " '    龙皓晨显得很安静，看上去，他的动作像是慢了一拍似的，直到蒋虎手中木剑劈出一半的距离他才动了。手中木剑上撩，正好扫中蒋虎剑刃最下方的位置。',\n",
       " '',\n",
       " '    “咄”的一声轻响，蒋虎在灵力明显大于龙皓晨的情况下，他这一剑竟然被荡开了。',\n",
       " '',\n",
       " '    看到这一剑，巴尔扎教官眼底顿时闪过一丝惊讶。',\n",
       " '',\n",
       " '    蒋虎木剑虽然被荡开，但他的反应很快，借势身体一个旋转，以腰背之力带动手臂，手中木剑盘旋一周，横斩而出。',\n",
       " '',\n",
       " '    蒋虎的应变很精彩，以他这个年纪能够做到这种程度已经相当不错了。但是，龙皓晨的应对却更令人吃惊。',\n",
       " '',\n",
       " '    在一剑荡开蒋虎的攻击时，他就已经向前进步了，两人之间的距离本就贴近，他这一进步，人就已经来到了蒋虎身边。而这个时候，正是蒋虎身体旋转的时刻。',\n",
       " '',\n",
       " '    他怎么进攻巴尔扎心中也出现了疑问，木剑长三尺，而龙皓晨已经贴身，是绝对施展不开的。',\n",
       " '',\n",
       " '    但是，在这个时候，龙皓晨的攻击已经用出了。他用的是剑柄。',\n",
       " '',\n",
       " '    身子向下一矮，同时剑柄上顶，正好顶在蒋虎肋下，这一击龙皓晨甚至没有发力，但蒋虎的身体却已经跌退了出去，他横扫的木剑也正好从龙皓晨头顶掠过。',\n",
       " '',\n",
       " '    “停。”巴尔扎喝道。',\n",
       " '',\n",
       " '    巴尔扎眼中闪过一道精光，沉声道：“失去平衡、招式用老，蒋虎，你输了。如果龙皓晨的剑柄用力大一点，你就已经躺在地上了。”',\n",
       " '',\n",
       " '    蒋虎有些尴尬的挠了挠头，“皓晨，你真狡猾。”',\n",
       " '',\n",
       " '    龙皓晨收剑而立，有些歉然的看向好不容易才站稳的蒋虎。',\n",
       " '',\n",
       " '    巴尔扎向龙皓晨点了点头，道：“你可以进行第二次考核尝试了。”',\n",
       " '',\n",
       " '    重新回到木桩前，龙皓晨脸上神色明显变得凝重起来，这样的神色出现在他这样的少年脸上实在是给人一种异常的感受。',\n",
       " '',\n",
       " '    双手紧握木剑，龙皓晨眼中的执着明显变得强盛起来，似乎在他身上，有着一层若隐若现的光晕产生。尤其是他的眼神，那澄澈的碧蓝色双眸中，目光是那样的坚定。',\n",
       " '',\n",
       " '    骤然间，龙皓晨猛的一个旋身，带着他那份远超同龄人的执着挥出了手中的木剑。',\n",
       " '',\n",
       " '    砰，石珠弹跳，而龙皓晨自身也因为反震力向后跌退一步，手中木剑险些掉落，能够清楚的看到，他双手虎口的位置已经渗出了丝丝鲜血。',\n",
       " '',\n",
       " '    “灵力十一，通过。”巴尔扎带着震惊的声音响起。从灵力九到灵力十一，听上去只是数字上二的差距。可是，在前一次考核中，龙皓晨分明已经用了全力啊此时能够产生这么大的增幅，意味着他将自己的潜力激发到了极限。',\n",
       " '',\n",
       " '    在短暂的惊讶之后，巴尔扎回复了正常，让龙皓晨自己去医务室包扎一下，然后继续接下来的考核。',\n",
       " '',\n",
       " '    “考核结束，所有未通过的，明天就不用再来了。通过者，明天将分配新的教官。现在解散，领取培元液后就可以回家了。”',\n",
       " '',\n",
       " '    “谢谢教官。”少年们异口同声的大喊着。',\n",
       " '',\n",
       " '    “龙皓晨，你留一下。”',\n",
       " '',\n",
       " '    少年们在欢呼声中离开，无论是否通过考核的都是一样。在这个年纪，他们很容易找到快乐与幸福感。',\n",
       " '',\n",
       " '    奥丁子殿宽阔的大厅内只剩下龙皓晨和巴尔扎教官两人。',\n",
       " '',\n",
       " '    “皓晨，告诉我，为什么在和蒋虎的战斗中你选择那样的攻击方式”巴尔扎严肃的问道。',\n",
       " '',\n",
       " '    龙皓晨毫不犹豫的回答道：“因为我的力量不如蒋虎大哥，只能寻找他的破绽。您教导过我们，砍劈时，力量最大的是剑尖位置，越靠近剑柄，力量就越小。然后在他二次攻击的时候，我观察到他腰部是重心所在，所以我贴身近前，让他的力量就无法完全发挥，破掉重心，他就没办法持续攻击了。”',\n",
       " '',\n",
       " '    巴尔扎眼中满是惊讶，“也就是说，这一切都是你通过观察得知的”他从没教过这些孩子们实战，因为在他们这个年纪，最重要的是打基础，还不到练习实战的时候。可龙皓晨在战斗中的冷静和对时机的准确把握，实在是令他震撼。',\n",
       " '',\n",
       " '    “好了，你也回家吧。”巴尔扎摆了摆手，他隐约感觉到，这个孩子有着一种其他少年所没有的潜质。',\n",
       " '',\n",
       " '    “教官，我这周的培元液”漂亮的小脸上流露出几分腼腆，龙皓晨试探着问道。',\n",
       " '',\n",
       " '    “哦，去领吧。”',\n",
       " '',\n",
       " '    “教官再见。”龙皓晨兴高采烈的走了。',\n",
       " '',\n",
       " '    目送着他雀跃而去的背影，巴尔扎脸上不禁浮现出一丝笑容，“这孩子，天性纯良又肯努力，似乎还很有战斗天赋。真是不可多得的好苗子啊”',\n",
       " '',\n",
       " '    “你知道为什么他能轻易找到对手的破绽吗”正在这时，一个清朗悦耳的声音在巴尔扎身边响起。因为这声音来的毫无预兆，顿时吓了巴尔扎一跳。',\n",
       " '',\n",
       " '    不知道什么时候，在巴尔扎身边已经多了一名中年人，看上去三十多岁的样子，一身简单朴素的长袍，可是，他却有着一双璀璨如星辰般的眼眸。在他眼眸深处，正流露着怅然和回忆的光芒，甚至，还有着一丝痛苦。:',\n",
       " '',\n",
       " '===第一章 侍从骑士考核（三）===',\n",
       " '',\n",
       " '“大人，我不知道。”巴尔扎看到是这个中年人，赶忙向他行礼。这个中年人是几天前刚刚来到奥丁子殿的，他也无法肯定这中年人的身份和修为，只知道是来自皓月城骑士分殿的大人物。',\n",
       " '',\n",
       " '    中年人收回目光，淡淡的道：“因为，他有着异于常人的精神力。否则，你认为他为什么能激发出那样的潜力”',\n",
       " '',\n",
       " '    龙皓晨很开心，珍而重之的握着手中的小玻璃瓶，兴高采烈的朝着家的方向跑去。',\n",
       " '',\n",
       " '    对于其他孩子来说，这瓶子里的液体只是难喝的药水，可对他来说，却是加入骑士圣殿的原因。',\n",
       " '',\n",
       " '    一边走着，他一边自言自语着道：“蒋虎大哥说的没错，这培元液真是好东西，妈妈自从每周喝一瓶之后身体就好多了呢。妈妈，对不起，你虽然教过我男人膝下有黄金，可是，如果我今天不能通过考核，就没办法再带回培元液给你喝了。我不要失去你，为了妈妈，我什么都愿意做。”',\n",
       " '',\n",
       " '    如果巴尔扎听到龙皓晨这番话，一定会吃惊的瞪大了眼睛。',\n",
       " '',\n",
       " '    培元液是骑士圣殿下发的一种药剂，对十五岁以下的孩子有固本培元的效果，用来辅助他们修炼，打好身体的基础。龙皓晨今天险些没能通过考核，那是因为，他从来就没有喝过培元液啊全都留给了他的母亲。而在一年前，他还只是一个十分瘦弱的小男孩儿，一年后的今天，他却通过自己一年以来的不懈努力，在那份让母亲能喝到培元液的执着支撑下硬是突破了灵力十点的关口。',\n",
       " '',\n",
       " '    对于一个只有九岁的孩子来说，这中间的难度甚至还要超越准骑士考核成为骑士的关卡。这是何等的天赋和努力才能做到的啊',\n",
       " '',\n",
       " '    阳光洒落在龙皓晨身上，闪耀着金子般的光泽，一如他那颗金子般的心。',\n",
       " '',\n",
       " '    龙皓晨的家位于奥丁镇西侧偏僻的角落，甚至还要过一条小河才能到达。很快，他就从河上的独木桥走了过去。不过，他并没有直接回家，而是延着一条小路直接走进了奥丁镇西边的一片森林之中。',\n",
       " '',\n",
       " '    他每次将培元液给母亲喝之前，都要先去采一些野菜，然后将药液混合在味道浓重的野菜汤之中，这样母亲就喝不出其中的味道了。他可不想让妈妈知道这些，龙皓晨还清楚的记得，巴尔扎教官教导过他们，男子汉就应该承担一切。',\n",
       " '',\n",
       " '    走进树林，他很快就忙碌起来，这些年，龙皓晨和母亲相依为命，哪怕是在奥丁镇，他们家都是最穷苦的，穷人的孩子早当家，在很多同龄孩子每天还只知道玩耍的时候，他却能帮妈妈分担一些了。母子虽然只是依靠他妈妈白玥每日给人裁剪一些衣服的微薄收入过活，但他一直都觉得自己很快乐。',\n",
       " '',\n",
       " '    一会儿的工夫，地面上就堆积了不少野菜，这些龙皓晨太熟悉了，虽然只是野菜，但味道却并不差。从小到大，他可是没少吃这些东西。',\n",
       " '',\n",
       " '    正在龙皓晨准备收拾一下自己采摘的野菜回家之时，突然间，噗的一声轻响却吓了他一跳。这片森林可并不太平，偶尔也会有一些野兽出没。',\n",
       " '',\n",
       " '    龙皓晨抬头朝着声音发出的方向看去，隐约看到有一个娇小的身影似乎跌倒了似的。在好奇心的催使下他小心翼翼的走了过去，只是走了几步就看清那跌倒树林中的根本不是什么野兽，竟是一个小女孩儿。',\n",
       " '',\n",
       " '    小女孩儿看上去只有七、八岁的样子，身形十分纤弱，有着一头淡紫色的短发。身上的布衣有多处破损，至少有六、七处地方都有血迹渗出。虽是摔倒在地，但她还保持着清醒，正挣扎着想要爬起来，但看那样子却十分困难似的。',\n",
       " '',\n",
       " '    龙"
      ]
     },
     "execution_count": 50,
     "metadata": {},
     "output_type": "execute_result"
    },
    {
     "data": {
      "text/html": [
       "<b>limit_output extension: Maximum message size of 10000 exceeded with 34305 characters</b>"
      ]
     },
     "metadata": {},
     "output_type": "display_data"
    }
   ],
   "source": [
    "text"
   ]
  },
  {
   "cell_type": "code",
   "execution_count": 51,
   "id": "5162f74b",
   "metadata": {
    "ExecuteTime": {
     "end_time": "2024-01-25T07:15:10.026746Z",
     "start_time": "2024-01-25T07:15:09.885093Z"
    }
   },
   "outputs": [],
   "source": [
    "# 清洗数据，只保留汉字\n",
    "text = [re.sub(r'[^\\u4e00-\\u9fa5]', '', line) for line in text]"
   ]
  },
  {
   "cell_type": "code",
   "execution_count": 61,
   "id": "e96a6c85",
   "metadata": {
    "ExecuteTime": {
     "end_time": "2024-01-25T07:26:34.988279Z",
     "start_time": "2024-01-25T07:26:34.982147Z"
    }
   },
   "outputs": [],
   "source": [
    "with open('/Users/shiwei/Desktop/stopwords_full.txt', 'r', encoding='utf-8') as f:    # \n",
    "    stopword_list = [word.strip('\\n') for word in f.readlines()]"
   ]
  },
  {
   "cell_type": "code",
   "execution_count": 69,
   "id": "1e004440",
   "metadata": {
    "ExecuteTime": {
     "end_time": "2024-01-25T07:37:16.303835Z",
     "start_time": "2024-01-25T07:36:24.187604Z"
    }
   },
   "outputs": [],
   "source": [
    "seg_list = []\n",
    "for line in text:\n",
    "    seg_line = [word for word in jieba.cut(line, cut_all = False) if word not in stopword_list and len(word) > 1]\n",
    "    # seg_line = jieba.cut(line, cut_all = False)  # 使用精确模式进行分词，此为默认形式\n",
    "    if len(seg_line) > 19:\n",
    "        line = ' '.join(seg_line) \n",
    "        seg_list.append(line)"
   ]
  },
  {
   "cell_type": "code",
   "execution_count": 77,
   "id": "c747fb41",
   "metadata": {
    "ExecuteTime": {
     "end_time": "2024-01-25T07:51:39.437664Z",
     "start_time": "2024-01-25T07:51:39.432902Z"
    }
   },
   "outputs": [],
   "source": [
    "df = pd.DataFrame(seg_list)"
   ]
  },
  {
   "cell_type": "code",
   "execution_count": 79,
   "id": "eb6e0c00",
   "metadata": {
    "ExecuteTime": {
     "end_time": "2024-01-25T07:51:47.859706Z",
     "start_time": "2024-01-25T07:51:47.856620Z"
    }
   },
   "outputs": [],
   "source": [
    "documents = df[0]"
   ]
  },
  {
   "cell_type": "code",
   "execution_count": 81,
   "id": "cadee559",
   "metadata": {
    "ExecuteTime": {
     "end_time": "2024-01-25T07:52:07.091863Z",
     "start_time": "2024-01-25T07:52:06.831031Z"
    }
   },
   "outputs": [],
   "source": [
    "# 创建CountVectorizer来将文本数据转换为特征矩阵\n",
    "Tfidf_vector_china = TfidfVectorizer(max_df = 0.80, min_df = 5)\n",
    "Tfidf_china = Tfidf_vector_china.fit_transform(documents)"
   ]
  },
  {
   "cell_type": "code",
   "execution_count": 85,
   "id": "60364e63",
   "metadata": {
    "ExecuteTime": {
     "end_time": "2024-01-25T07:54:45.229322Z",
     "start_time": "2024-01-25T07:54:45.226016Z"
    }
   },
   "outputs": [],
   "source": [
    "# 设置主题数量范围\n",
    "num_topics_range_china = range(2, 21)  # 可以根据需求调整范围\n",
    "\n",
    "# 初始化存储困惑度的列表\n",
    "perplexity_scores_china = []"
   ]
  },
  {
   "cell_type": "code",
   "execution_count": 86,
   "id": "7859995c",
   "metadata": {
    "ExecuteTime": {
     "end_time": "2024-01-25T07:57:17.911964Z",
     "start_time": "2024-01-25T07:54:46.230921Z"
    }
   },
   "outputs": [
    {
     "name": "stdout",
     "output_type": "stream",
     "text": [
      "4526.873380483856\n",
      "5388.310573474512\n",
      "6470.150646527673\n",
      "7355.636334377498\n",
      "8483.396120279122\n",
      "9438.6574480278\n",
      "11096.304424786347\n",
      "12186.476648737922\n",
      "12641.590748969676\n",
      "14366.625445190763\n",
      "14494.470170693285\n",
      "16884.210582671643\n",
      "15916.30029107029\n",
      "19028.97800418665\n",
      "20081.002642528787\n",
      "23513.955948092855\n",
      "24089.46509455094\n",
      "28837.057216532703\n",
      "27703.062144266736\n"
     ]
    }
   ],
   "source": [
    "# 计算困惑度随主题数量的变化\n",
    "for num_topics_china in num_topics_range_china:\n",
    "    lda_china = LatentDirichletAllocation(n_components=num_topics_china, max_iter=5, learning_method='online', random_state=42)\n",
    "    lda_china.fit(Tfidf_china)\n",
    "    \n",
    "    # 计算困惑度\n",
    "    perplexity_china = lda_china.perplexity(Tfidf_china)\n",
    "    print(perplexity_china)\n",
    "    perplexity_scores_china.append(perplexity_china)"
   ]
  },
  {
   "cell_type": "code",
   "execution_count": 87,
   "id": "d695f907",
   "metadata": {
    "ExecuteTime": {
     "end_time": "2024-01-25T07:57:33.222078Z",
     "start_time": "2024-01-25T07:57:33.034972Z"
    }
   },
   "outputs": [
    {
     "data": {
      "image/png": "[encoded data removed]",
      "text/plain": [
       "<Figure size 800x600 with 1 Axes>"
      ]
     },
     "metadata": {},
     "output_type": "display_data"
    }
   ],
   "source": [
    "# 绘制困惑度随主题数量变化的折线图\n",
    "plt.figure(figsize=(8, 6))\n",
    "plt.plot(num_topics_range_china, perplexity_scores_china, marker='o', linestyle='-', color='b')\n",
    "plt.xlabel(\"Number of Topics\")\n",
    "plt.ylabel(\"Perplexity\")\n",
    "plt.title(\"Computing Perplexity\")\n",
    "plt.grid(True)\n",
    "plt.show()"
   ]
  },
  {
   "cell_type": "code",
   "execution_count": 90,
   "id": "fb7ec1f9",
   "metadata": {
    "ExecuteTime": {
     "end_time": "2024-01-25T07:58:50.982153Z",
     "start_time": "2024-01-25T07:58:43.600265Z"
    }
   },
   "outputs": [
    {
     "data": {
      "text/html": [
       "<style>#sk-container-id-2 {color: black;}#sk-container-id-2 pre{padding: 0;}#sk-container-id-2 div.sk-toggleable {background-color: white;}#sk-container-id-2 label.sk-toggleable__label {cursor: pointer;display: block;width: 100%;margin-bottom: 0;padding: 0.3em;box-sizing: border-box;text-align: center;}#sk-container-id-2 label.sk-toggleable__label-arrow:before {content: \"▸\";float: left;margin-right: 0.25em;color: #696969;}#sk-container-id-2 label.sk-toggleable__label-arrow:hover:before {color: black;}#sk-container-id-2 div.sk-estimator:hover label.sk-toggleable__label-arrow:before {color: black;}#sk-container-id-2 div.sk-toggleable__content {max-height: 0;max-width: 0;overflow: hidden;text-align: left;background-color: #f0f8ff;}#sk-container-id-2 div.sk-toggleable__content pre {margin: 0.2em;color: black;border-radius: 0.25em;background-color: #f0f8ff;}#sk-container-id-2 input.sk-toggleable__control:checked~div.sk-toggleable__content {max-height: 200px;max-width: 100%;overflow: auto;}#sk-container-id-2 input.sk-toggleable__control:checked~label.sk-toggleable__label-arrow:before {content: \"▾\";}#sk-container-id-2 div.sk-estimator input.sk-toggleable__control:checked~label.sk-toggleable__label {background-color: #d4ebff;}#sk-container-id-2 div.sk-label input.sk-toggleable__control:checked~label.sk-toggleable__label {background-color: #d4ebff;}#sk-container-id-2 input.sk-hidden--visually {border: 0;clip: rect(1px 1px 1px 1px);clip: rect(1px, 1px, 1px, 1px);height: 1px;margin: -1px;overflow: hidden;padding: 0;position: absolute;width: 1px;}#sk-container-id-2 div.sk-estimator {font-family: monospace;background-color: #f0f8ff;border: 1px dotted black;border-radius: 0.25em;box-sizing: border-box;margin-bottom: 0.5em;}#sk-container-id-2 div.sk-estimator:hover {background-color: #d4ebff;}#sk-container-id-2 div.sk-parallel-item::after {content: \"\";width: 100%;border-bottom: 1px solid gray;flex-grow: 1;}#sk-container-id-2 div.sk-label:hover label.sk-toggleable__label {background-color: #d4ebff;}#sk-container-id-2 div.sk-serial::before {content: \"\";position: absolute;border-left: 1px solid gray;box-sizing: border-box;top: 0;bottom: 0;left: 50%;z-index: 0;}#sk-container-id-2 div.sk-serial {display: flex;flex-direction: column;align-items: center;background-color: white;padding-right: 0.2em;padding-left: 0.2em;position: relative;}#sk-container-id-2 div.sk-item {position: relative;z-index: 1;}#sk-container-id-2 div.sk-parallel {display: flex;align-items: stretch;justify-content: center;background-color: white;position: relative;}#sk-container-id-2 div.sk-item::before, #sk-container-id-2 div.sk-parallel-item::before {content: \"\";position: absolute;border-left: 1px solid gray;box-sizing: border-box;top: 0;bottom: 0;left: 50%;z-index: -1;}#sk-container-id-2 div.sk-parallel-item {display: flex;flex-direction: column;z-index: 1;position: relative;background-color: white;}#sk-container-id-2 div.sk-parallel-item:first-child::after {align-self: flex-end;width: 50%;}#sk-container-id-2 div.sk-parallel-item:last-child::after {align-self: flex-start;width: 50%;}#sk-container-id-2 div.sk-parallel-item:only-child::after {width: 0;}#sk-container-id-2 div.sk-dashed-wrapped {border: 1px dashed gray;margin: 0 0.4em 0.5em 0.4em;box-sizing: border-box;padding-bottom: 0.4em;background-color: white;}#sk-container-id-2 div.sk-label label {font-family: monospace;font-weight: bold;display: inline-block;line-height: 1.2em;}#sk-container-id-2 div.sk-label-container {text-align: center;}#sk-container-id-2 div.sk-container {/* jupyter's `normalize.less` sets `[hidden] { display: none; }` but bootstrap.min.css set `[hidden] { display: none !important; }` so we also need the `!important` here to be able to override the default hidden behavior on the sphinx rendered scikit-learn.org. See: https://github.com/scikit-learn/scikit-learn/issues/21755 */display: inline-block !important;position: relative;}#sk-container-id-2 div.sk-text-repr-fallback {display: none;}</style><div id=\"sk-container-id-2\" class=\"sk-top-container\"><div class=\"sk-text-repr-fallback\"><pre>LatentDirichletAllocation(learning_method=&#x27;online&#x27;, max_iter=5, n_components=20,\n",
       "                          random_state=42)</pre><b>In a Jupyter environment, please rerun this cell to show the HTML representation or trust the notebook. <br />On GitHub, the HTML representation is unable to render, please try loading this page with nbviewer.org.</b></div><div class=\"sk-container\" hidden><div class=\"sk-item\"><div class=\"sk-estimator sk-toggleable\"><input class=\"sk-toggleable__control sk-hidden--visually\" id=\"sk-estimator-id-2\" type=\"checkbox\" checked><label for=\"sk-estimator-id-2\" class=\"sk-toggleable__label sk-toggleable__label-arrow\">LatentDirichletAllocation</label><div class=\"sk-toggleable__content\"><pre>LatentDirichletAllocation(learning_method=&#x27;online&#x27;, max_iter=5, n_components=20,\n",
       "                          random_state=42)</pre></div></div></div></div></div>"
      ],
      "text/plain": [
       "LatentDirichletAllocation(learning_method='online', max_iter=5, n_components=20,\n",
       "                          random_state=42)"
      ]
     },
     "execution_count": 90,
     "metadata": {},
     "output_type": "execute_result"
    }
   ],
   "source": [
    "# 训练LDA模型\n",
    "num_topics = 20  # 设置主题数量\n",
    "lda_china = LatentDirichletAllocation(n_components=num_topics, max_iter=5, learning_method='online', random_state=42)\n",
    "lda_china.fit(Tfidf_china)"
   ]
  },
  {
   "cell_type": "code",
   "execution_count": 91,
   "id": "db3e6447",
   "metadata": {
    "ExecuteTime": {
     "end_time": "2024-01-25T07:58:53.155190Z",
     "start_time": "2024-01-25T07:58:53.131855Z"
    }
   },
   "outputs": [
    {
     "name": "stdout",
     "output_type": "stream",
     "text": [
      "china主题 1:\n",
      "粉红色, 安静, 棺材, 万兽, 直线, 沉凝, 丁香, 醉人, 动向, 每一处, 闪开, 整齐, 翻身, 十二只, 问道, 幻象, 美感, 出局, 飞行速度, 交相\n",
      "\n",
      "china主题 2:\n",
      "日月, 蜗盾, 之王, 神蜗, 身长, 之头, 森林, 迟滞, 冲向, 汇聚, 蜥蜴, 魔龙, 彪悍, 神华, 岩浆, 四肢, 刺中, 书友, 银白色, 前肢\n",
      "\n",
      "china主题 3:\n",
      "唐门, 这番话, 反抗, 伤痕, 首府, 统治者, 丈夫, 里克, 局势, 行省, 走上, 伏击, 后续, 纵横交错, 正午, 随便, 繁衍生息, 时光, 寻找机会, 形象\n",
      "\n",
      "china主题 4:\n",
      "积分, 英俊, 长发, 创世神, 相貌, 女子, 眼眶, 温柔, 答案, 身材, 小看, 长裙, 撕开, 或者说, 头盔, 亲眼看到, 送到, 女性, 后撤, 唤醒\n",
      "\n",
      "china主题 5:\n",
      "王座, 之神印, 神印, 神器, 大军, 魔神, 剑意, 瓦沙克, 驱魔关, 军团, 杀戮, 封印, 七十二, 称号, 复活, 预言, 我会, 闭关, 龙星宇, 天印\n",
      "\n",
      "china主题 6:\n",
      "辉煌, 君主, 圣盾, 散开, 制造, 直到现在, 六千多, 踪迹, 稍微, 七天, 安洛先, 惨烈, 价值, 利益, 感谢, 教廷, 完整, 令其, 作品, 更大\n",
      "\n",
      "china主题 7:\n",
      "两天, 到达, 大得多, 执政, 公正, 内陆, 风光, 一刺, 南方, 百里, 驱魔城, 领导, 横档, 咬紧牙关, 繁华, 水火土, 延着, 仁爱, 谦卑, 诚实\n",
      "\n",
      "china主题 8:\n",
      "君王, 天堂, 僵尸, 奇美, 白玥, 四头, 憎恶, 泪水, 紧紧, 不愿, 洁白, 羽翼, 上前, 消亡, 升华, 背影, 抱住, 弧线, 禁制, 铁钩\n",
      "\n",
      "china主题 9:\n",
      "响起, 梦幻, 轰击, 破碎, 一瞬, 身体, 之光, 骷髅, 攻击, 风暴, 浓浓的, 说道, 冲击, 轰鸣, 双刀, 虚幻, 龙皓晨, 一声, 剧烈, 压迫\n",
      "\n",
      "china主题 10:\n",
      "一群, 声响, 扶手, 黑衣人, 帮不了, 芙洛, 系尔, 帝都, 适合, 惩戒, 几分, 淡淡的, 骑士, 中带, 羞涩, 冷峻, 偷偷, 一名, 开会, 少年\n",
      "\n",
      "china主题 11:\n",
      "男人, 统治, 自觉, 笑容, 身材高大, 山顶, 人手, 一片片, 发呆, 第一第二, 百倍, 土地, 会合, 所及, 狂放, 占领, 刚毅, 一块块, 长满, 植被\n",
      "\n",
      "china主题 12:\n",
      "混合, 马车, 浓重, 固化, 背着, 护卫, 囚车, 不出, 远离, 微眯, 撤回, 抽出, 长得, 顾不得, 一辆, 嘻嘻, 灰黑色, 哽咽, 震动, 死不休\n",
      "\n",
      "china主题 13:\n",
      "龙皓晨, 灵力, 领域, 永恒, 骑士, 强大, 皓月, 修为, 魔法, 采儿, 提升, 技能, 光明, 力量, 灵魂, 能力, 实力, 魔兽, 亡灵, 属性\n",
      "\n",
      "china主题 14:\n",
      "魔神, 圣殿, 魔族, 猎魔, 龙皓晨, 骑士, 人类, 联盟, 强者, 刺客, 采儿, 实力, 联邦, 创造, 基纳, 晨曦, 萨米, 战士, 格里芬, 魔法\n",
      "\n",
      "china主题 15:\n",
      "东南, 要塞, 危机, 城内, 之树, 伊斯顿, 神光, 恭敬, 商量, 之主, 情感, 下降, 那场, 圆舞曲, 照亮, 事务, 军事, 总长, 预感, 派遣\n",
      "\n",
      "china主题 16:\n",
      "基座, 精金, 战铠, 秘银, 战死, 放过, 休整, 手段, 商团, 代理, 轻叹, 怀疑, 游离, 见识, 担任, 主席台, 见面, 自言自语, 大哥, 吩咐\n",
      "\n",
      "china主题 17:\n",
      "悲伤, 瑰丽, 大猩猩, 激动, 脆弱, 上风, 极快, 沉静, 坐下, 一尺, 那光, 操控, 行进, 满是, 警惕, 一副, 闭上, 擅长于, 赶忙, 对视\n",
      "\n",
      "china主题 18:\n",
      "金色, 身体, 光芒, 龙皓晨, 身上, 瞬间, 空中, 气息, 一道, 之中, 像是, 金光, 化为, 变得, 净化, 背后, 白色, 黑色, 手中, 而出\n",
      "\n",
      "china主题 19:\n",
      "神器, 伊莱克斯, 天灾, 幽暗, 沼泽, 圣珠, 灵圣, 长眠, 高空, 投入, 扩张, 绝不能, 父母, 这句, 不朽, 说完, 信仰, 交替, 放大, 瞬闪\n",
      "\n",
      "china主题 20:\n",
      "北方, 清醒, 洒落, 人间, 攻击速度, 飞入, 遗书, 下手, 十分困难, 松开, 摔倒, 玄奥, 再现, 善意, 一时之间, 六根, 大龙, 但星, 小镇, 重临\n",
      "\n"
     ]
    }
   ],
   "source": [
    "# 打印每个主题的关键词\n",
    "feature_names = Tfidf_vector_china.get_feature_names_out()\n",
    "n_top_words = 20  # 每个主题的前N个关键词\n",
    "for topic_idx, topic in enumerate(lda_china.components_):\n",
    "    top_features_idx = topic.argsort()[:-n_top_words - 1:-1]\n",
    "    top_features = [feature_names[i] for i in top_features_idx]\n",
    "    print(f\"china主题 {topic_idx + 1}:\")\n",
    "    print(\", \".join(top_features))\n",
    "    print()"
   ]
  },
  {
   "cell_type": "code",
   "execution_count": null,
   "id": "caef23b1",
   "metadata": {},
   "outputs": [],
   "source": []
  }
 ],
 "metadata": {
  "kernelspec": {
   "display_name": "Python 3 (ipykernel)",
   "language": "python",
   "name": "python3"
  },
  "language_info": {
   "codemirror_mode": {
    "name": "ipython",
    "version": 3
   },
   "file_extension": ".py",
   "mimetype": "text/x-python",
   "name": "python",
   "nbconvert_exporter": "python",
   "pygments_lexer": "ipython3",
   "version": "3.11.5"
  }
 },
 "nbformat": 4,
 "nbformat_minor": 5
}
