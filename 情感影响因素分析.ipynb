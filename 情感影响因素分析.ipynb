{
 "cells": [
  {
   "cell_type": "code",
   "execution_count": 18,
   "id": "c2405ab6",
   "metadata": {
    "ExecuteTime": {
     "end_time": "2023-12-20T16:28:29.863265Z",
     "start_time": "2023-12-20T16:28:29.859447Z"
    }
   },
   "outputs": [],
   "source": [
    "import pandas as pd\n",
    "from sklearn.preprocessing import Normalizer\n",
    "from sklearn.preprocessing import StandardScaler\n",
    "from sklearn.preprocessing import MinMaxScaler\n",
    "from sklearn.model_selection import train_test_split\n",
    "from sklearn.linear_model import LinearRegression\n",
    "import matplotlib.pyplot as plt"
   ]
  },
  {
   "cell_type": "code",
   "execution_count": 19,
   "id": "a3fda54b",
   "metadata": {
    "ExecuteTime": {
     "end_time": "2023-12-20T16:28:30.407611Z",
     "start_time": "2023-12-20T16:28:30.399576Z"
    }
   },
   "outputs": [],
   "source": [
    "df = pd.read_csv('/Users/shiwei/Desktop/研究论文/一带一路回音室/1551用户发帖数.csv')"
   ]
  },
  {
   "cell_type": "code",
   "execution_count": 20,
   "id": "ac102b84",
   "metadata": {
    "ExecuteTime": {
     "end_time": "2023-12-20T16:28:30.941568Z",
     "start_time": "2023-12-20T16:28:30.931273Z"
    }
   },
   "outputs": [
    {
     "data": {
      "text/html": [
       "<div>\n",
       "<style scoped>\n",
       "    .dataframe tbody tr th:only-of-type {\n",
       "        vertical-align: middle;\n",
       "    }\n",
       "\n",
       "    .dataframe tbody tr th {\n",
       "        vertical-align: top;\n",
       "    }\n",
       "\n",
       "    .dataframe thead th {\n",
       "        text-align: right;\n",
       "    }\n",
       "</style>\n",
       "<table border=\"1\" class=\"dataframe\">\n",
       "  <thead>\n",
       "    <tr style=\"text-align: right;\">\n",
       "      <th></th>\n",
       "      <th>username</th>\n",
       "      <th>textcount</th>\n",
       "      <th>indegree</th>\n",
       "      <th>outdegree</th>\n",
       "      <th>betweenesscentrality</th>\n",
       "      <th>age</th>\n",
       "      <th>followers_count</th>\n",
       "      <th>following_count</th>\n",
       "      <th>tweet_count</th>\n",
       "      <th>compound</th>\n",
       "    </tr>\n",
       "  </thead>\n",
       "  <tbody>\n",
       "    <tr>\n",
       "      <th>0</th>\n",
       "      <td>760462590</td>\n",
       "      <td>2342</td>\n",
       "      <td>0</td>\n",
       "      <td>347</td>\n",
       "      <td>0.000000</td>\n",
       "      <td>3108</td>\n",
       "      <td>5</td>\n",
       "      <td>507</td>\n",
       "      <td>2448</td>\n",
       "      <td>0.387547</td>\n",
       "    </tr>\n",
       "    <tr>\n",
       "      <th>1</th>\n",
       "      <td>_JakubJanda</td>\n",
       "      <td>65</td>\n",
       "      <td>1</td>\n",
       "      <td>5</td>\n",
       "      <td>18.442750</td>\n",
       "      <td>3989</td>\n",
       "      <td>67742</td>\n",
       "      <td>44351</td>\n",
       "      <td>106290</td>\n",
       "      <td>0.086272</td>\n",
       "    </tr>\n",
       "    <tr>\n",
       "      <th>2</th>\n",
       "      <td>_rjardon</td>\n",
       "      <td>70</td>\n",
       "      <td>0</td>\n",
       "      <td>4</td>\n",
       "      <td>0.000000</td>\n",
       "      <td>3807</td>\n",
       "      <td>11571</td>\n",
       "      <td>10224</td>\n",
       "      <td>625228</td>\n",
       "      <td>0.098417</td>\n",
       "    </tr>\n",
       "    <tr>\n",
       "      <th>3</th>\n",
       "      <td>_XploreBD</td>\n",
       "      <td>126</td>\n",
       "      <td>1</td>\n",
       "      <td>17</td>\n",
       "      <td>1.642891</td>\n",
       "      <td>5155</td>\n",
       "      <td>6064</td>\n",
       "      <td>463</td>\n",
       "      <td>28397</td>\n",
       "      <td>0.134112</td>\n",
       "    </tr>\n",
       "    <tr>\n",
       "      <th>4</th>\n",
       "      <td>18AKGOYAL</td>\n",
       "      <td>83</td>\n",
       "      <td>0</td>\n",
       "      <td>9</td>\n",
       "      <td>0.000000</td>\n",
       "      <td>4588</td>\n",
       "      <td>791</td>\n",
       "      <td>4989</td>\n",
       "      <td>637560</td>\n",
       "      <td>0.057465</td>\n",
       "    </tr>\n",
       "    <tr>\n",
       "      <th>...</th>\n",
       "      <td>...</td>\n",
       "      <td>...</td>\n",
       "      <td>...</td>\n",
       "      <td>...</td>\n",
       "      <td>...</td>\n",
       "      <td>...</td>\n",
       "      <td>...</td>\n",
       "      <td>...</td>\n",
       "      <td>...</td>\n",
       "      <td>...</td>\n",
       "    </tr>\n",
       "    <tr>\n",
       "      <th>1546</th>\n",
       "      <td>ZSOpinion</td>\n",
       "      <td>210</td>\n",
       "      <td>0</td>\n",
       "      <td>36</td>\n",
       "      <td>0.000000</td>\n",
       "      <td>2478</td>\n",
       "      <td>14</td>\n",
       "      <td>1702</td>\n",
       "      <td>22113</td>\n",
       "      <td>0.147796</td>\n",
       "    </tr>\n",
       "    <tr>\n",
       "      <th>1547</th>\n",
       "      <td>zulfiqarspeaks</td>\n",
       "      <td>66</td>\n",
       "      <td>0</td>\n",
       "      <td>10</td>\n",
       "      <td>0.000000</td>\n",
       "      <td>3461</td>\n",
       "      <td>633</td>\n",
       "      <td>26</td>\n",
       "      <td>35817</td>\n",
       "      <td>0.429921</td>\n",
       "    </tr>\n",
       "    <tr>\n",
       "      <th>1548</th>\n",
       "      <td>zuoluogu</td>\n",
       "      <td>65</td>\n",
       "      <td>3</td>\n",
       "      <td>3</td>\n",
       "      <td>14.985395</td>\n",
       "      <td>3399</td>\n",
       "      <td>372</td>\n",
       "      <td>822</td>\n",
       "      <td>18834</td>\n",
       "      <td>0.141383</td>\n",
       "    </tr>\n",
       "    <tr>\n",
       "      <th>1549</th>\n",
       "      <td>zupazwojtusia</td>\n",
       "      <td>51</td>\n",
       "      <td>0</td>\n",
       "      <td>4</td>\n",
       "      <td>0.000000</td>\n",
       "      <td>2615</td>\n",
       "      <td>194</td>\n",
       "      <td>379</td>\n",
       "      <td>38421</td>\n",
       "      <td>-0.058176</td>\n",
       "    </tr>\n",
       "    <tr>\n",
       "      <th>1550</th>\n",
       "      <td>zx999</td>\n",
       "      <td>58</td>\n",
       "      <td>0</td>\n",
       "      <td>9</td>\n",
       "      <td>0.000000</td>\n",
       "      <td>5054</td>\n",
       "      <td>2203</td>\n",
       "      <td>2067</td>\n",
       "      <td>8610</td>\n",
       "      <td>0.110369</td>\n",
       "    </tr>\n",
       "  </tbody>\n",
       "</table>\n",
       "<p>1551 rows × 10 columns</p>\n",
       "</div>"
      ],
      "text/plain": [
       "            username  textcount  indegree  outdegree  betweenesscentrality  \\\n",
       "0          760462590       2342         0        347              0.000000   \n",
       "1        _JakubJanda         65         1          5             18.442750   \n",
       "2           _rjardon         70         0          4              0.000000   \n",
       "3          _XploreBD        126         1         17              1.642891   \n",
       "4          18AKGOYAL         83         0          9              0.000000   \n",
       "...              ...        ...       ...        ...                   ...   \n",
       "1546       ZSOpinion        210         0         36              0.000000   \n",
       "1547  zulfiqarspeaks         66         0         10              0.000000   \n",
       "1548        zuoluogu         65         3          3             14.985395   \n",
       "1549   zupazwojtusia         51         0          4              0.000000   \n",
       "1550           zx999         58         0          9              0.000000   \n",
       "\n",
       "       age  followers_count  following_count  tweet_count  compound  \n",
       "0     3108                5              507         2448  0.387547  \n",
       "1     3989            67742            44351       106290  0.086272  \n",
       "2     3807            11571            10224       625228  0.098417  \n",
       "3     5155             6064              463        28397  0.134112  \n",
       "4     4588              791             4989       637560  0.057465  \n",
       "...    ...              ...              ...          ...       ...  \n",
       "1546  2478               14             1702        22113  0.147796  \n",
       "1547  3461              633               26        35817  0.429921  \n",
       "1548  3399              372              822        18834  0.141383  \n",
       "1549  2615              194              379        38421 -0.058176  \n",
       "1550  5054             2203             2067         8610  0.110369  \n",
       "\n",
       "[1551 rows x 10 columns]"
      ]
     },
     "execution_count": 20,
     "metadata": {},
     "output_type": "execute_result"
    }
   ],
   "source": [
    "df"
   ]
  },
  {
   "cell_type": "code",
   "execution_count": 21,
   "id": "edf8bc87",
   "metadata": {
    "ExecuteTime": {
     "end_time": "2023-12-20T16:28:32.327798Z",
     "start_time": "2023-12-20T16:28:32.317768Z"
    }
   },
   "outputs": [],
   "source": [
    "scaler = MinMaxScaler()\n",
    "df[['textcount']] = scaler.fit_transform(df[['textcount']])"
   ]
  },
  {
   "cell_type": "code",
   "execution_count": 22,
   "id": "4c7510f8",
   "metadata": {
    "ExecuteTime": {
     "end_time": "2023-12-20T16:28:33.291615Z",
     "start_time": "2023-12-20T16:28:33.253749Z"
    }
   },
   "outputs": [],
   "source": [
    "df[['textcount']] = scaler.fit_transform(df[['textcount']])\n",
    "df[['indegree']] = scaler.fit_transform(df[['indegree']])\n",
    "df[['outdegree']] = scaler.fit_transform(df[['outdegree']])\n",
    "df[['betweenesscentrality'\n",
    "    ]] = scaler.fit_transform(df[['betweenesscentrality']])\n",
    "df[['age']] = scaler.fit_transform(df[['age']])\n",
    "df[['followers_count']] = scaler.fit_transform(df[['followers_count']])\n",
    "df[['following_count']] = scaler.fit_transform(df[['following_count']])\n",
    "df[['tweet_count']] = scaler.fit_transform(df[['tweet_count']])"
   ]
  },
  {
   "cell_type": "code",
   "execution_count": 23,
   "id": "c0227a93",
   "metadata": {
    "ExecuteTime": {
     "end_time": "2023-12-20T16:28:34.073517Z",
     "start_time": "2023-12-20T16:28:34.055308Z"
    }
   },
   "outputs": [
    {
     "data": {
      "text/html": [
       "<div>\n",
       "<style scoped>\n",
       "    .dataframe tbody tr th:only-of-type {\n",
       "        vertical-align: middle;\n",
       "    }\n",
       "\n",
       "    .dataframe tbody tr th {\n",
       "        vertical-align: top;\n",
       "    }\n",
       "\n",
       "    .dataframe thead th {\n",
       "        text-align: right;\n",
       "    }\n",
       "</style>\n",
       "<table border=\"1\" class=\"dataframe\">\n",
       "  <thead>\n",
       "    <tr style=\"text-align: right;\">\n",
       "      <th></th>\n",
       "      <th>username</th>\n",
       "      <th>textcount</th>\n",
       "      <th>indegree</th>\n",
       "      <th>outdegree</th>\n",
       "      <th>betweenesscentrality</th>\n",
       "      <th>age</th>\n",
       "      <th>followers_count</th>\n",
       "      <th>following_count</th>\n",
       "      <th>tweet_count</th>\n",
       "      <th>compound</th>\n",
       "    </tr>\n",
       "  </thead>\n",
       "  <tbody>\n",
       "    <tr>\n",
       "      <th>0</th>\n",
       "      <td>760462590</td>\n",
       "      <td>0.202188</td>\n",
       "      <td>0.000000</td>\n",
       "      <td>1.000000</td>\n",
       "      <td>0.000000</td>\n",
       "      <td>0.521793</td>\n",
       "      <td>1.837346e-07</td>\n",
       "      <td>0.002961</td>\n",
       "      <td>0.000788</td>\n",
       "      <td>0.387547</td>\n",
       "    </tr>\n",
       "    <tr>\n",
       "      <th>1</th>\n",
       "      <td>_JakubJanda</td>\n",
       "      <td>0.001323</td>\n",
       "      <td>0.001996</td>\n",
       "      <td>0.014409</td>\n",
       "      <td>0.000050</td>\n",
       "      <td>0.676626</td>\n",
       "      <td>2.489310e-03</td>\n",
       "      <td>0.259047</td>\n",
       "      <td>0.036555</td>\n",
       "      <td>0.086272</td>\n",
       "    </tr>\n",
       "    <tr>\n",
       "      <th>2</th>\n",
       "      <td>_rjardon</td>\n",
       "      <td>0.001764</td>\n",
       "      <td>0.000000</td>\n",
       "      <td>0.011527</td>\n",
       "      <td>0.000000</td>\n",
       "      <td>0.644640</td>\n",
       "      <td>4.251986e-04</td>\n",
       "      <td>0.059717</td>\n",
       "      <td>0.215298</td>\n",
       "      <td>0.098417</td>\n",
       "    </tr>\n",
       "    <tr>\n",
       "      <th>3</th>\n",
       "      <td>_XploreBD</td>\n",
       "      <td>0.006704</td>\n",
       "      <td>0.001996</td>\n",
       "      <td>0.048991</td>\n",
       "      <td>0.000004</td>\n",
       "      <td>0.881547</td>\n",
       "      <td>2.228333e-04</td>\n",
       "      <td>0.002704</td>\n",
       "      <td>0.009726</td>\n",
       "      <td>0.134112</td>\n",
       "    </tr>\n",
       "    <tr>\n",
       "      <th>4</th>\n",
       "      <td>18AKGOYAL</td>\n",
       "      <td>0.002911</td>\n",
       "      <td>0.000000</td>\n",
       "      <td>0.025937</td>\n",
       "      <td>0.000000</td>\n",
       "      <td>0.781898</td>\n",
       "      <td>2.906681e-05</td>\n",
       "      <td>0.029140</td>\n",
       "      <td>0.219545</td>\n",
       "      <td>0.057465</td>\n",
       "    </tr>\n",
       "    <tr>\n",
       "      <th>...</th>\n",
       "      <td>...</td>\n",
       "      <td>...</td>\n",
       "      <td>...</td>\n",
       "      <td>...</td>\n",
       "      <td>...</td>\n",
       "      <td>...</td>\n",
       "      <td>...</td>\n",
       "      <td>...</td>\n",
       "      <td>...</td>\n",
       "      <td>...</td>\n",
       "    </tr>\n",
       "    <tr>\n",
       "      <th>1546</th>\n",
       "      <td>ZSOpinion</td>\n",
       "      <td>0.014114</td>\n",
       "      <td>0.000000</td>\n",
       "      <td>0.103746</td>\n",
       "      <td>0.000000</td>\n",
       "      <td>0.411072</td>\n",
       "      <td>5.144568e-07</td>\n",
       "      <td>0.009941</td>\n",
       "      <td>0.007561</td>\n",
       "      <td>0.147796</td>\n",
       "    </tr>\n",
       "    <tr>\n",
       "      <th>1547</th>\n",
       "      <td>zulfiqarspeaks</td>\n",
       "      <td>0.001411</td>\n",
       "      <td>0.000000</td>\n",
       "      <td>0.028818</td>\n",
       "      <td>0.000000</td>\n",
       "      <td>0.583831</td>\n",
       "      <td>2.326080e-05</td>\n",
       "      <td>0.000152</td>\n",
       "      <td>0.012281</td>\n",
       "      <td>0.429921</td>\n",
       "    </tr>\n",
       "    <tr>\n",
       "      <th>1548</th>\n",
       "      <td>zuoluogu</td>\n",
       "      <td>0.001323</td>\n",
       "      <td>0.005988</td>\n",
       "      <td>0.008646</td>\n",
       "      <td>0.000041</td>\n",
       "      <td>0.572935</td>\n",
       "      <td>1.366985e-05</td>\n",
       "      <td>0.004801</td>\n",
       "      <td>0.006432</td>\n",
       "      <td>0.141383</td>\n",
       "    </tr>\n",
       "    <tr>\n",
       "      <th>1549</th>\n",
       "      <td>zupazwojtusia</td>\n",
       "      <td>0.000088</td>\n",
       "      <td>0.000000</td>\n",
       "      <td>0.011527</td>\n",
       "      <td>0.000000</td>\n",
       "      <td>0.435149</td>\n",
       "      <td>7.128902e-06</td>\n",
       "      <td>0.002214</td>\n",
       "      <td>0.013178</td>\n",
       "      <td>-0.058176</td>\n",
       "    </tr>\n",
       "    <tr>\n",
       "      <th>1550</th>\n",
       "      <td>zx999</td>\n",
       "      <td>0.000706</td>\n",
       "      <td>0.000000</td>\n",
       "      <td>0.025937</td>\n",
       "      <td>0.000000</td>\n",
       "      <td>0.863796</td>\n",
       "      <td>8.095346e-05</td>\n",
       "      <td>0.012073</td>\n",
       "      <td>0.002910</td>\n",
       "      <td>0.110369</td>\n",
       "    </tr>\n",
       "  </tbody>\n",
       "</table>\n",
       "<p>1551 rows × 10 columns</p>\n",
       "</div>"
      ],
      "text/plain": [
       "            username  textcount  indegree  outdegree  betweenesscentrality  \\\n",
       "0          760462590   0.202188  0.000000   1.000000              0.000000   \n",
       "1        _JakubJanda   0.001323  0.001996   0.014409              0.000050   \n",
       "2           _rjardon   0.001764  0.000000   0.011527              0.000000   \n",
       "3          _XploreBD   0.006704  0.001996   0.048991              0.000004   \n",
       "4          18AKGOYAL   0.002911  0.000000   0.025937              0.000000   \n",
       "...              ...        ...       ...        ...                   ...   \n",
       "1546       ZSOpinion   0.014114  0.000000   0.103746              0.000000   \n",
       "1547  zulfiqarspeaks   0.001411  0.000000   0.028818              0.000000   \n",
       "1548        zuoluogu   0.001323  0.005988   0.008646              0.000041   \n",
       "1549   zupazwojtusia   0.000088  0.000000   0.011527              0.000000   \n",
       "1550           zx999   0.000706  0.000000   0.025937              0.000000   \n",
       "\n",
       "           age  followers_count  following_count  tweet_count  compound  \n",
       "0     0.521793     1.837346e-07         0.002961     0.000788  0.387547  \n",
       "1     0.676626     2.489310e-03         0.259047     0.036555  0.086272  \n",
       "2     0.644640     4.251986e-04         0.059717     0.215298  0.098417  \n",
       "3     0.881547     2.228333e-04         0.002704     0.009726  0.134112  \n",
       "4     0.781898     2.906681e-05         0.029140     0.219545  0.057465  \n",
       "...        ...              ...              ...          ...       ...  \n",
       "1546  0.411072     5.144568e-07         0.009941     0.007561  0.147796  \n",
       "1547  0.583831     2.326080e-05         0.000152     0.012281  0.429921  \n",
       "1548  0.572935     1.366985e-05         0.004801     0.006432  0.141383  \n",
       "1549  0.435149     7.128902e-06         0.002214     0.013178 -0.058176  \n",
       "1550  0.863796     8.095346e-05         0.012073     0.002910  0.110369  \n",
       "\n",
       "[1551 rows x 10 columns]"
      ]
     },
     "execution_count": 23,
     "metadata": {},
     "output_type": "execute_result"
    }
   ],
   "source": [
    "df"
   ]
  },
  {
   "cell_type": "code",
   "execution_count": 30,
   "id": "474595ea",
   "metadata": {
    "ExecuteTime": {
     "end_time": "2023-12-20T16:33:50.090953Z",
     "start_time": "2023-12-20T16:33:50.087037Z"
    }
   },
   "outputs": [],
   "source": [
    "# 创建线性回归模型\n",
    "model = LinearRegression()"
   ]
  },
  {
   "cell_type": "code",
   "execution_count": 31,
   "id": "cc8cb70d",
   "metadata": {
    "ExecuteTime": {
     "end_time": "2023-12-20T16:33:50.762807Z",
     "start_time": "2023-12-20T16:33:50.755070Z"
    }
   },
   "outputs": [
    {
     "data": {
      "text/html": [
       "<style>#sk-container-id-4 {color: black;}#sk-container-id-4 pre{padding: 0;}#sk-container-id-4 div.sk-toggleable {background-color: white;}#sk-container-id-4 label.sk-toggleable__label {cursor: pointer;display: block;width: 100%;margin-bottom: 0;padding: 0.3em;box-sizing: border-box;text-align: center;}#sk-container-id-4 label.sk-toggleable__label-arrow:before {content: \"▸\";float: left;margin-right: 0.25em;color: #696969;}#sk-container-id-4 label.sk-toggleable__label-arrow:hover:before {color: black;}#sk-container-id-4 div.sk-estimator:hover label.sk-toggleable__label-arrow:before {color: black;}#sk-container-id-4 div.sk-toggleable__content {max-height: 0;max-width: 0;overflow: hidden;text-align: left;background-color: #f0f8ff;}#sk-container-id-4 div.sk-toggleable__content pre {margin: 0.2em;color: black;border-radius: 0.25em;background-color: #f0f8ff;}#sk-container-id-4 input.sk-toggleable__control:checked~div.sk-toggleable__content {max-height: 200px;max-width: 100%;overflow: auto;}#sk-container-id-4 input.sk-toggleable__control:checked~label.sk-toggleable__label-arrow:before {content: \"▾\";}#sk-container-id-4 div.sk-estimator input.sk-toggleable__control:checked~label.sk-toggleable__label {background-color: #d4ebff;}#sk-container-id-4 div.sk-label input.sk-toggleable__control:checked~label.sk-toggleable__label {background-color: #d4ebff;}#sk-container-id-4 input.sk-hidden--visually {border: 0;clip: rect(1px 1px 1px 1px);clip: rect(1px, 1px, 1px, 1px);height: 1px;margin: -1px;overflow: hidden;padding: 0;position: absolute;width: 1px;}#sk-container-id-4 div.sk-estimator {font-family: monospace;background-color: #f0f8ff;border: 1px dotted black;border-radius: 0.25em;box-sizing: border-box;margin-bottom: 0.5em;}#sk-container-id-4 div.sk-estimator:hover {background-color: #d4ebff;}#sk-container-id-4 div.sk-parallel-item::after {content: \"\";width: 100%;border-bottom: 1px solid gray;flex-grow: 1;}#sk-container-id-4 div.sk-label:hover label.sk-toggleable__label {background-color: #d4ebff;}#sk-container-id-4 div.sk-serial::before {content: \"\";position: absolute;border-left: 1px solid gray;box-sizing: border-box;top: 0;bottom: 0;left: 50%;z-index: 0;}#sk-container-id-4 div.sk-serial {display: flex;flex-direction: column;align-items: center;background-color: white;padding-right: 0.2em;padding-left: 0.2em;position: relative;}#sk-container-id-4 div.sk-item {position: relative;z-index: 1;}#sk-container-id-4 div.sk-parallel {display: flex;align-items: stretch;justify-content: center;background-color: white;position: relative;}#sk-container-id-4 div.sk-item::before, #sk-container-id-4 div.sk-parallel-item::before {content: \"\";position: absolute;border-left: 1px solid gray;box-sizing: border-box;top: 0;bottom: 0;left: 50%;z-index: -1;}#sk-container-id-4 div.sk-parallel-item {display: flex;flex-direction: column;z-index: 1;position: relative;background-color: white;}#sk-container-id-4 div.sk-parallel-item:first-child::after {align-self: flex-end;width: 50%;}#sk-container-id-4 div.sk-parallel-item:last-child::after {align-self: flex-start;width: 50%;}#sk-container-id-4 div.sk-parallel-item:only-child::after {width: 0;}#sk-container-id-4 div.sk-dashed-wrapped {border: 1px dashed gray;margin: 0 0.4em 0.5em 0.4em;box-sizing: border-box;padding-bottom: 0.4em;background-color: white;}#sk-container-id-4 div.sk-label label {font-family: monospace;font-weight: bold;display: inline-block;line-height: 1.2em;}#sk-container-id-4 div.sk-label-container {text-align: center;}#sk-container-id-4 div.sk-container {/* jupyter's `normalize.less` sets `[hidden] { display: none; }` but bootstrap.min.css set `[hidden] { display: none !important; }` so we also need the `!important` here to be able to override the default hidden behavior on the sphinx rendered scikit-learn.org. See: https://github.com/scikit-learn/scikit-learn/issues/21755 */display: inline-block !important;position: relative;}#sk-container-id-4 div.sk-text-repr-fallback {display: none;}</style><div id=\"sk-container-id-4\" class=\"sk-top-container\"><div class=\"sk-text-repr-fallback\"><pre>LinearRegression()</pre><b>In a Jupyter environment, please rerun this cell to show the HTML representation or trust the notebook. <br />On GitHub, the HTML representation is unable to render, please try loading this page with nbviewer.org.</b></div><div class=\"sk-container\" hidden><div class=\"sk-item\"><div class=\"sk-estimator sk-toggleable\"><input class=\"sk-toggleable__control sk-hidden--visually\" id=\"sk-estimator-id-4\" type=\"checkbox\" checked><label for=\"sk-estimator-id-4\" class=\"sk-toggleable__label sk-toggleable__label-arrow\">LinearRegression</label><div class=\"sk-toggleable__content\"><pre>LinearRegression()</pre></div></div></div></div></div>"
      ],
      "text/plain": [
       "LinearRegression()"
      ]
     },
     "execution_count": 31,
     "metadata": {},
     "output_type": "execute_result"
    }
   ],
   "source": [
    "# 进行回归分析并拟合\n",
    "model.fit(df[['textcount']], df[['compound']])"
   ]
  },
  {
   "cell_type": "code",
   "execution_count": 33,
   "id": "1aa2579d",
   "metadata": {
    "ExecuteTime": {
     "end_time": "2023-12-20T16:35:27.482214Z",
     "start_time": "2023-12-20T16:35:27.310489Z"
    }
   },
   "outputs": [
    {
     "data": {
      "image/png": "[encoded data removed]",
      "text/plain": [
       "<Figure size 640x480 with 1 Axes>"
      ]
     },
     "metadata": {},
     "output_type": "display_data"
    },
    {
     "name": "stdout",
     "output_type": "stream",
     "text": [
      "Regression Equation: y = 0.10 + 0.33 * x\n"
     ]
    }
   ],
   "source": [
    "# 绘制散点图和回归线\n",
    "plt.scatter(df[['textcount']], df[['compound']], color='black')\n",
    "plt.plot(df[['textcount']],\n",
    "         model.predict(df[['textcount']]),\n",
    "         color='blue',\n",
    "         linewidth=3)\n",
    "plt.title('Scatterplot with Regression Line')\n",
    "plt.xlabel('textcount')\n",
    "plt.ylabel('compound')\n",
    "plt.show()\n",
    "\n",
    "# 输出回归方程的系数\n",
    "print('Regression Equation: y = {:.2f} + {:.2f} * x'.format(\n",
    "    model.intercept_[0], model.coef_[0][0]))"
   ]
  },
  {
   "cell_type": "markdown",
   "id": "11024ccd",
   "metadata": {},
   "source": [
    "# 多元回归"
   ]
  },
  {
   "cell_type": "code",
   "execution_count": 34,
   "id": "e223e661",
   "metadata": {
    "ExecuteTime": {
     "end_time": "2023-12-20T16:36:00.330751Z",
     "start_time": "2023-12-20T16:36:00.324586Z"
    }
   },
   "outputs": [],
   "source": [
    "# 定义自变量和因变量\n",
    "X = df[['textcount', 'indegree', 'outdegree', 'betweenesscentrality', 'age', 'followers_count', 'following_count', 'tweet_count']]\n",
    "y = df['compound']"
   ]
  },
  {
   "cell_type": "code",
   "execution_count": 50,
   "id": "63561236",
   "metadata": {
    "ExecuteTime": {
     "end_time": "2023-12-20T16:51:20.667958Z",
     "start_time": "2023-12-20T16:51:20.650325Z"
    }
   },
   "outputs": [
    {
     "data": {
      "text/html": [
       "<div>\n",
       "<style scoped>\n",
       "    .dataframe tbody tr th:only-of-type {\n",
       "        vertical-align: middle;\n",
       "    }\n",
       "\n",
       "    .dataframe tbody tr th {\n",
       "        vertical-align: top;\n",
       "    }\n",
       "\n",
       "    .dataframe thead th {\n",
       "        text-align: right;\n",
       "    }\n",
       "</style>\n",
       "<table border=\"1\" class=\"dataframe\">\n",
       "  <thead>\n",
       "    <tr style=\"text-align: right;\">\n",
       "      <th></th>\n",
       "      <th>textcount</th>\n",
       "      <th>indegree</th>\n",
       "      <th>outdegree</th>\n",
       "      <th>betweenesscentrality</th>\n",
       "      <th>age</th>\n",
       "      <th>followers_count</th>\n",
       "      <th>following_count</th>\n",
       "      <th>tweet_count</th>\n",
       "      <th>compound</th>\n",
       "    </tr>\n",
       "  </thead>\n",
       "  <tbody>\n",
       "    <tr>\n",
       "      <th>textcount</th>\n",
       "      <td>1.000000</td>\n",
       "      <td>0.235056</td>\n",
       "      <td>0.715456</td>\n",
       "      <td>0.788424</td>\n",
       "      <td>-0.047443</td>\n",
       "      <td>0.011338</td>\n",
       "      <td>0.053406</td>\n",
       "      <td>0.038520</td>\n",
       "      <td>0.086616</td>\n",
       "    </tr>\n",
       "    <tr>\n",
       "      <th>indegree</th>\n",
       "      <td>0.235056</td>\n",
       "      <td>1.000000</td>\n",
       "      <td>0.107285</td>\n",
       "      <td>0.333453</td>\n",
       "      <td>0.162663</td>\n",
       "      <td>0.430469</td>\n",
       "      <td>0.054962</td>\n",
       "      <td>0.020120</td>\n",
       "      <td>0.055233</td>\n",
       "    </tr>\n",
       "    <tr>\n",
       "      <th>outdegree</th>\n",
       "      <td>0.715456</td>\n",
       "      <td>0.107285</td>\n",
       "      <td>1.000000</td>\n",
       "      <td>0.586651</td>\n",
       "      <td>-0.020300</td>\n",
       "      <td>-0.064081</td>\n",
       "      <td>0.063027</td>\n",
       "      <td>-0.049268</td>\n",
       "      <td>0.105233</td>\n",
       "    </tr>\n",
       "    <tr>\n",
       "      <th>betweenesscentrality</th>\n",
       "      <td>0.788424</td>\n",
       "      <td>0.333453</td>\n",
       "      <td>0.586651</td>\n",
       "      <td>1.000000</td>\n",
       "      <td>-0.017471</td>\n",
       "      <td>-0.002303</td>\n",
       "      <td>0.095679</td>\n",
       "      <td>-0.037600</td>\n",
       "      <td>0.041240</td>\n",
       "    </tr>\n",
       "    <tr>\n",
       "      <th>age</th>\n",
       "      <td>-0.047443</td>\n",
       "      <td>0.162663</td>\n",
       "      <td>-0.020300</td>\n",
       "      <td>-0.017471</td>\n",
       "      <td>1.000000</td>\n",
       "      <td>0.152300</td>\n",
       "      <td>0.123673</td>\n",
       "      <td>0.198581</td>\n",
       "      <td>0.022160</td>\n",
       "    </tr>\n",
       "    <tr>\n",
       "      <th>followers_count</th>\n",
       "      <td>0.011338</td>\n",
       "      <td>0.430469</td>\n",
       "      <td>-0.064081</td>\n",
       "      <td>-0.002303</td>\n",
       "      <td>0.152300</td>\n",
       "      <td>1.000000</td>\n",
       "      <td>-0.011752</td>\n",
       "      <td>0.215601</td>\n",
       "      <td>-0.016281</td>\n",
       "    </tr>\n",
       "    <tr>\n",
       "      <th>following_count</th>\n",
       "      <td>0.053406</td>\n",
       "      <td>0.054962</td>\n",
       "      <td>0.063027</td>\n",
       "      <td>0.095679</td>\n",
       "      <td>0.123673</td>\n",
       "      <td>-0.011752</td>\n",
       "      <td>1.000000</td>\n",
       "      <td>0.194373</td>\n",
       "      <td>0.016663</td>\n",
       "    </tr>\n",
       "    <tr>\n",
       "      <th>tweet_count</th>\n",
       "      <td>0.038520</td>\n",
       "      <td>0.020120</td>\n",
       "      <td>-0.049268</td>\n",
       "      <td>-0.037600</td>\n",
       "      <td>0.198581</td>\n",
       "      <td>0.215601</td>\n",
       "      <td>0.194373</td>\n",
       "      <td>1.000000</td>\n",
       "      <td>-0.114826</td>\n",
       "    </tr>\n",
       "    <tr>\n",
       "      <th>compound</th>\n",
       "      <td>0.086616</td>\n",
       "      <td>0.055233</td>\n",
       "      <td>0.105233</td>\n",
       "      <td>0.041240</td>\n",
       "      <td>0.022160</td>\n",
       "      <td>-0.016281</td>\n",
       "      <td>0.016663</td>\n",
       "      <td>-0.114826</td>\n",
       "      <td>1.000000</td>\n",
       "    </tr>\n",
       "  </tbody>\n",
       "</table>\n",
       "</div>"
      ],
      "text/plain": [
       "                      textcount  indegree  outdegree  betweenesscentrality  \\\n",
       "textcount              1.000000  0.235056   0.715456              0.788424   \n",
       "indegree               0.235056  1.000000   0.107285              0.333453   \n",
       "outdegree              0.715456  0.107285   1.000000              0.586651   \n",
       "betweenesscentrality   0.788424  0.333453   0.586651              1.000000   \n",
       "age                   -0.047443  0.162663  -0.020300             -0.017471   \n",
       "followers_count        0.011338  0.430469  -0.064081             -0.002303   \n",
       "following_count        0.053406  0.054962   0.063027              0.095679   \n",
       "tweet_count            0.038520  0.020120  -0.049268             -0.037600   \n",
       "compound               0.086616  0.055233   0.105233              0.041240   \n",
       "\n",
       "                           age  followers_count  following_count  tweet_count  \\\n",
       "textcount            -0.047443         0.011338         0.053406     0.038520   \n",
       "indegree              0.162663         0.430469         0.054962     0.020120   \n",
       "outdegree            -0.020300        -0.064081         0.063027    -0.049268   \n",
       "betweenesscentrality -0.017471        -0.002303         0.095679    -0.037600   \n",
       "age                   1.000000         0.152300         0.123673     0.198581   \n",
       "followers_count       0.152300         1.000000        -0.011752     0.215601   \n",
       "following_count       0.123673        -0.011752         1.000000     0.194373   \n",
       "tweet_count           0.198581         0.215601         0.194373     1.000000   \n",
       "compound              0.022160        -0.016281         0.016663    -0.114826   \n",
       "\n",
       "                      compound  \n",
       "textcount             0.086616  \n",
       "indegree              0.055233  \n",
       "outdegree             0.105233  \n",
       "betweenesscentrality  0.041240  \n",
       "age                   0.022160  \n",
       "followers_count      -0.016281  \n",
       "following_count       0.016663  \n",
       "tweet_count          -0.114826  \n",
       "compound              1.000000  "
      ]
     },
     "execution_count": 50,
     "metadata": {},
     "output_type": "execute_result"
    }
   ],
   "source": [
    "# 计算变量之间的相关性\n",
    "# 假设 df 是你的数据框\n",
    "correlation_matrix = df[[\n",
    "    'textcount', 'indegree', 'outdegree', 'betweenesscentrality', 'age',\n",
    "    'followers_count', 'following_count', 'tweet_count', 'compound'\n",
    "]].corr()\n",
    "\n",
    "# 打印相关性矩阵\n",
    "correlation_matrix"
   ]
  },
  {
   "cell_type": "code",
   "execution_count": 35,
   "id": "6effb4b6",
   "metadata": {
    "ExecuteTime": {
     "end_time": "2023-12-20T16:36:02.531674Z",
     "start_time": "2023-12-20T16:36:02.527376Z"
    }
   },
   "outputs": [],
   "source": [
    "# 创建线性回归模型\n",
    "model = LinearRegression()"
   ]
  },
  {
   "cell_type": "code",
   "execution_count": 36,
   "id": "73b66596",
   "metadata": {
    "ExecuteTime": {
     "end_time": "2023-12-20T16:36:05.207184Z",
     "start_time": "2023-12-20T16:36:05.196348Z"
    }
   },
   "outputs": [
    {
     "data": {
      "text/html": [
       "<style>#sk-container-id-5 {color: black;}#sk-container-id-5 pre{padding: 0;}#sk-container-id-5 div.sk-toggleable {background-color: white;}#sk-container-id-5 label.sk-toggleable__label {cursor: pointer;display: block;width: 100%;margin-bottom: 0;padding: 0.3em;box-sizing: border-box;text-align: center;}#sk-container-id-5 label.sk-toggleable__label-arrow:before {content: \"▸\";float: left;margin-right: 0.25em;color: #696969;}#sk-container-id-5 label.sk-toggleable__label-arrow:hover:before {color: black;}#sk-container-id-5 div.sk-estimator:hover label.sk-toggleable__label-arrow:before {color: black;}#sk-container-id-5 div.sk-toggleable__content {max-height: 0;max-width: 0;overflow: hidden;text-align: left;background-color: #f0f8ff;}#sk-container-id-5 div.sk-toggleable__content pre {margin: 0.2em;color: black;border-radius: 0.25em;background-color: #f0f8ff;}#sk-container-id-5 input.sk-toggleable__control:checked~div.sk-toggleable__content {max-height: 200px;max-width: 100%;overflow: auto;}#sk-container-id-5 input.sk-toggleable__control:checked~label.sk-toggleable__label-arrow:before {content: \"▾\";}#sk-container-id-5 div.sk-estimator input.sk-toggleable__control:checked~label.sk-toggleable__label {background-color: #d4ebff;}#sk-container-id-5 div.sk-label input.sk-toggleable__control:checked~label.sk-toggleable__label {background-color: #d4ebff;}#sk-container-id-5 input.sk-hidden--visually {border: 0;clip: rect(1px 1px 1px 1px);clip: rect(1px, 1px, 1px, 1px);height: 1px;margin: -1px;overflow: hidden;padding: 0;position: absolute;width: 1px;}#sk-container-id-5 div.sk-estimator {font-family: monospace;background-color: #f0f8ff;border: 1px dotted black;border-radius: 0.25em;box-sizing: border-box;margin-bottom: 0.5em;}#sk-container-id-5 div.sk-estimator:hover {background-color: #d4ebff;}#sk-container-id-5 div.sk-parallel-item::after {content: \"\";width: 100%;border-bottom: 1px solid gray;flex-grow: 1;}#sk-container-id-5 div.sk-label:hover label.sk-toggleable__label {background-color: #d4ebff;}#sk-container-id-5 div.sk-serial::before {content: \"\";position: absolute;border-left: 1px solid gray;box-sizing: border-box;top: 0;bottom: 0;left: 50%;z-index: 0;}#sk-container-id-5 div.sk-serial {display: flex;flex-direction: column;align-items: center;background-color: white;padding-right: 0.2em;padding-left: 0.2em;position: relative;}#sk-container-id-5 div.sk-item {position: relative;z-index: 1;}#sk-container-id-5 div.sk-parallel {display: flex;align-items: stretch;justify-content: center;background-color: white;position: relative;}#sk-container-id-5 div.sk-item::before, #sk-container-id-5 div.sk-parallel-item::before {content: \"\";position: absolute;border-left: 1px solid gray;box-sizing: border-box;top: 0;bottom: 0;left: 50%;z-index: -1;}#sk-container-id-5 div.sk-parallel-item {display: flex;flex-direction: column;z-index: 1;position: relative;background-color: white;}#sk-container-id-5 div.sk-parallel-item:first-child::after {align-self: flex-end;width: 50%;}#sk-container-id-5 div.sk-parallel-item:last-child::after {align-self: flex-start;width: 50%;}#sk-container-id-5 div.sk-parallel-item:only-child::after {width: 0;}#sk-container-id-5 div.sk-dashed-wrapped {border: 1px dashed gray;margin: 0 0.4em 0.5em 0.4em;box-sizing: border-box;padding-bottom: 0.4em;background-color: white;}#sk-container-id-5 div.sk-label label {font-family: monospace;font-weight: bold;display: inline-block;line-height: 1.2em;}#sk-container-id-5 div.sk-label-container {text-align: center;}#sk-container-id-5 div.sk-container {/* jupyter's `normalize.less` sets `[hidden] { display: none; }` but bootstrap.min.css set `[hidden] { display: none !important; }` so we also need the `!important` here to be able to override the default hidden behavior on the sphinx rendered scikit-learn.org. See: https://github.com/scikit-learn/scikit-learn/issues/21755 */display: inline-block !important;position: relative;}#sk-container-id-5 div.sk-text-repr-fallback {display: none;}</style><div id=\"sk-container-id-5\" class=\"sk-top-container\"><div class=\"sk-text-repr-fallback\"><pre>LinearRegression()</pre><b>In a Jupyter environment, please rerun this cell to show the HTML representation or trust the notebook. <br />On GitHub, the HTML representation is unable to render, please try loading this page with nbviewer.org.</b></div><div class=\"sk-container\" hidden><div class=\"sk-item\"><div class=\"sk-estimator sk-toggleable\"><input class=\"sk-toggleable__control sk-hidden--visually\" id=\"sk-estimator-id-5\" type=\"checkbox\" checked><label for=\"sk-estimator-id-5\" class=\"sk-toggleable__label sk-toggleable__label-arrow\">LinearRegression</label><div class=\"sk-toggleable__content\"><pre>LinearRegression()</pre></div></div></div></div></div>"
      ],
      "text/plain": [
       "LinearRegression()"
      ]
     },
     "execution_count": 36,
     "metadata": {},
     "output_type": "execute_result"
    }
   ],
   "source": [
    "# 进行多元回归分析并拟合\n",
    "model.fit(X, y)"
   ]
  },
  {
   "cell_type": "code",
   "execution_count": 37,
   "id": "17590c9b",
   "metadata": {
    "ExecuteTime": {
     "end_time": "2023-12-20T16:36:16.235597Z",
     "start_time": "2023-12-20T16:36:16.229466Z"
    }
   },
   "outputs": [
    {
     "name": "stdout",
     "output_type": "stream",
     "text": [
      "Intercept: 0.08769067500583791\n",
      "Coefficients: [ 0.49120548  0.13066082  0.20131852 -0.54332157  0.02259094 -0.03993046\n",
      "  0.09573222 -0.18565234]\n"
     ]
    }
   ],
   "source": [
    "# 输出回归方程的系数\n",
    "print('Intercept:', model.intercept_)\n",
    "print('Coefficients:', model.coef_)"
   ]
  },
  {
   "cell_type": "code",
   "execution_count": 39,
   "id": "1d1969c6",
   "metadata": {
    "ExecuteTime": {
     "end_time": "2023-12-20T16:36:48.663090Z",
     "start_time": "2023-12-20T16:36:48.474245Z"
    }
   },
   "outputs": [
    {
     "data": {
      "image/png": "[encoded data removed]",
      "text/plain": [
       "<Figure size 640x480 with 1 Axes>"
      ]
     },
     "metadata": {},
     "output_type": "display_data"
    }
   ],
   "source": [
    "# 如果需要绘制回归线，可以选择一维自变量进行绘制\n",
    "plt.scatter(df['textcount'], y, color='black')\n",
    "plt.plot(df['textcount'], model.predict(X), color='blue', linewidth=3)\n",
    "plt.title('Scatterplot with Regression Line')\n",
    "plt.xlabel('Normalized Text Count')\n",
    "plt.ylabel('Normalized Compound')\n",
    "plt.show()"
   ]
  },
  {
   "cell_type": "code",
   "execution_count": 48,
   "id": "28264182",
   "metadata": {
    "ExecuteTime": {
     "end_time": "2023-12-20T16:45:57.699144Z",
     "start_time": "2023-12-20T16:45:57.692215Z"
    }
   },
   "outputs": [],
   "source": [
    "# 如果你想查看更详细的回归结果，可以使用 statsmodels 库\n",
    "import statsmodels.api as sm\n",
    "from statsmodels.stats.outliers_influence import variance_inflation_factor"
   ]
  },
  {
   "cell_type": "code",
   "execution_count": 41,
   "id": "f8acbb53",
   "metadata": {
    "ExecuteTime": {
     "end_time": "2023-12-20T16:39:19.774040Z",
     "start_time": "2023-12-20T16:39:19.762880Z"
    }
   },
   "outputs": [],
   "source": [
    "# 向 X 添加截距项\n",
    "X_with_intercept = sm.add_constant(X)"
   ]
  },
  {
   "cell_type": "code",
   "execution_count": 42,
   "id": "06784412",
   "metadata": {
    "ExecuteTime": {
     "end_time": "2023-12-20T16:39:30.865352Z",
     "start_time": "2023-12-20T16:39:30.856340Z"
    }
   },
   "outputs": [],
   "source": [
    "# 拟合多元线性回归模型\n",
    "model_sm = sm.OLS(y, X_with_intercept).fit()"
   ]
  },
  {
   "cell_type": "code",
   "execution_count": 43,
   "id": "ea96b91b",
   "metadata": {
    "ExecuteTime": {
     "end_time": "2023-12-20T16:39:37.437422Z",
     "start_time": "2023-12-20T16:39:37.415404Z"
    }
   },
   "outputs": [
    {
     "name": "stdout",
     "output_type": "stream",
     "text": [
      "                            OLS Regression Results                            \n",
      "==============================================================================\n",
      "Dep. Variable:               compound   R-squared:                       0.034\n",
      "Model:                            OLS   Adj. R-squared:                  0.029\n",
      "Method:                 Least Squares   F-statistic:                     6.818\n",
      "Date:                Thu, 21 Dec 2023   Prob (F-statistic):           7.87e-09\n",
      "Time:                        00:39:37   Log-Likelihood:                 1056.3\n",
      "No. Observations:                1551   AIC:                            -2095.\n",
      "Df Residuals:                    1542   BIC:                            -2046.\n",
      "Df Model:                           8                                         \n",
      "Covariance Type:            nonrobust                                         \n",
      "========================================================================================\n",
      "                           coef    std err          t      P>|t|      [0.025      0.975]\n",
      "----------------------------------------------------------------------------------------\n",
      "const                    0.0877      0.009      9.949      0.000       0.070       0.105\n",
      "textcount                0.4912      0.186      2.644      0.008       0.127       0.856\n",
      "indegree                 0.1307      0.063      2.062      0.039       0.006       0.255\n",
      "outdegree                0.2013      0.096      2.088      0.037       0.012       0.390\n",
      "betweenesscentrality    -0.5433      0.176     -3.084      0.002      -0.889      -0.198\n",
      "age                      0.0226      0.014      1.609      0.108      -0.005       0.050\n",
      "followers_count         -0.0399      0.067     -0.597      0.551      -0.171       0.091\n",
      "following_count          0.0957      0.071      1.345      0.179      -0.044       0.235\n",
      "tweet_count             -0.1857      0.038     -4.946      0.000      -0.259      -0.112\n",
      "==============================================================================\n",
      "Omnibus:                      114.744   Durbin-Watson:                   1.876\n",
      "Prob(Omnibus):                  0.000   Jarque-Bera (JB):              540.901\n",
      "Skew:                           0.136   Prob(JB):                    3.51e-118\n",
      "Kurtosis:                       5.880   Cond. No.                         87.6\n",
      "==============================================================================\n",
      "\n",
      "Notes:\n",
      "[1] Standard Errors assume that the covariance matrix of the errors is correctly specified.\n"
     ]
    }
   ],
   "source": [
    "# 打印回归结果摘要\n",
    "print(model_sm.summary())"
   ]
  },
  {
   "cell_type": "code",
   "execution_count": 44,
   "id": "3f5a9930",
   "metadata": {
    "ExecuteTime": {
     "end_time": "2023-12-20T16:40:00.632541Z",
     "start_time": "2023-12-20T16:40:00.600392Z"
    },
    "scrolled": false
   },
   "outputs": [
    {
     "data": {
      "text/html": [
       "<table class=\"simpletable\">\n",
       "<caption>OLS Regression Results</caption>\n",
       "<tr>\n",
       "  <th>Dep. Variable:</th>        <td>compound</td>     <th>  R-squared:         </th> <td>   0.034</td>\n",
       "</tr>\n",
       "<tr>\n",
       "  <th>Model:</th>                   <td>OLS</td>       <th>  Adj. R-squared:    </th> <td>   0.029</td>\n",
       "</tr>\n",
       "<tr>\n",
       "  <th>Method:</th>             <td>Least Squares</td>  <th>  F-statistic:       </th> <td>   6.818</td>\n",
       "</tr>\n",
       "<tr>\n",
       "  <th>Date:</th>             <td>Thu, 21 Dec 2023</td> <th>  Prob (F-statistic):</th> <td>7.87e-09</td>\n",
       "</tr>\n",
       "<tr>\n",
       "  <th>Time:</th>                 <td>00:40:00</td>     <th>  Log-Likelihood:    </th> <td>  1056.3</td>\n",
       "</tr>\n",
       "<tr>\n",
       "  <th>No. Observations:</th>      <td>  1551</td>      <th>  AIC:               </th> <td>  -2095.</td>\n",
       "</tr>\n",
       "<tr>\n",
       "  <th>Df Residuals:</th>          <td>  1542</td>      <th>  BIC:               </th> <td>  -2046.</td>\n",
       "</tr>\n",
       "<tr>\n",
       "  <th>Df Model:</th>              <td>     8</td>      <th>                     </th>     <td> </td>   \n",
       "</tr>\n",
       "<tr>\n",
       "  <th>Covariance Type:</th>      <td>nonrobust</td>    <th>                     </th>     <td> </td>   \n",
       "</tr>\n",
       "</table>\n",
       "<table class=\"simpletable\">\n",
       "<tr>\n",
       "            <td></td>              <th>coef</th>     <th>std err</th>      <th>t</th>      <th>P>|t|</th>  <th>[0.025</th>    <th>0.975]</th>  \n",
       "</tr>\n",
       "<tr>\n",
       "  <th>const</th>                <td>    0.0877</td> <td>    0.009</td> <td>    9.949</td> <td> 0.000</td> <td>    0.070</td> <td>    0.105</td>\n",
       "</tr>\n",
       "<tr>\n",
       "  <th>textcount</th>            <td>    0.4912</td> <td>    0.186</td> <td>    2.644</td> <td> 0.008</td> <td>    0.127</td> <td>    0.856</td>\n",
       "</tr>\n",
       "<tr>\n",
       "  <th>indegree</th>             <td>    0.1307</td> <td>    0.063</td> <td>    2.062</td> <td> 0.039</td> <td>    0.006</td> <td>    0.255</td>\n",
       "</tr>\n",
       "<tr>\n",
       "  <th>outdegree</th>            <td>    0.2013</td> <td>    0.096</td> <td>    2.088</td> <td> 0.037</td> <td>    0.012</td> <td>    0.390</td>\n",
       "</tr>\n",
       "<tr>\n",
       "  <th>betweenesscentrality</th> <td>   -0.5433</td> <td>    0.176</td> <td>   -3.084</td> <td> 0.002</td> <td>   -0.889</td> <td>   -0.198</td>\n",
       "</tr>\n",
       "<tr>\n",
       "  <th>age</th>                  <td>    0.0226</td> <td>    0.014</td> <td>    1.609</td> <td> 0.108</td> <td>   -0.005</td> <td>    0.050</td>\n",
       "</tr>\n",
       "<tr>\n",
       "  <th>followers_count</th>      <td>   -0.0399</td> <td>    0.067</td> <td>   -0.597</td> <td> 0.551</td> <td>   -0.171</td> <td>    0.091</td>\n",
       "</tr>\n",
       "<tr>\n",
       "  <th>following_count</th>      <td>    0.0957</td> <td>    0.071</td> <td>    1.345</td> <td> 0.179</td> <td>   -0.044</td> <td>    0.235</td>\n",
       "</tr>\n",
       "<tr>\n",
       "  <th>tweet_count</th>          <td>   -0.1857</td> <td>    0.038</td> <td>   -4.946</td> <td> 0.000</td> <td>   -0.259</td> <td>   -0.112</td>\n",
       "</tr>\n",
       "</table>\n",
       "<table class=\"simpletable\">\n",
       "<tr>\n",
       "  <th>Omnibus:</th>       <td>114.744</td> <th>  Durbin-Watson:     </th> <td>   1.876</td> \n",
       "</tr>\n",
       "<tr>\n",
       "  <th>Prob(Omnibus):</th> <td> 0.000</td>  <th>  Jarque-Bera (JB):  </th> <td> 540.901</td> \n",
       "</tr>\n",
       "<tr>\n",
       "  <th>Skew:</th>          <td> 0.136</td>  <th>  Prob(JB):          </th> <td>3.51e-118</td>\n",
       "</tr>\n",
       "<tr>\n",
       "  <th>Kurtosis:</th>      <td> 5.880</td>  <th>  Cond. No.          </th> <td>    87.6</td> \n",
       "</tr>\n",
       "</table><br/><br/>Notes:<br/>[1] Standard Errors assume that the covariance matrix of the errors is correctly specified."
      ],
      "text/latex": [
       "\\begin{center}\n",
       "\\begin{tabular}{lclc}\n",
       "\\toprule\n",
       "\\textbf{Dep. Variable:}       &     compound     & \\textbf{  R-squared:         } &     0.034   \\\\\n",
       "\\textbf{Model:}               &       OLS        & \\textbf{  Adj. R-squared:    } &     0.029   \\\\\n",
       "\\textbf{Method:}              &  Least Squares   & \\textbf{  F-statistic:       } &     6.818   \\\\\n",
       "\\textbf{Date:}                & Thu, 21 Dec 2023 & \\textbf{  Prob (F-statistic):} &  7.87e-09   \\\\\n",
       "\\textbf{Time:}                &     00:40:00     & \\textbf{  Log-Likelihood:    } &    1056.3   \\\\\n",
       "\\textbf{No. Observations:}    &        1551      & \\textbf{  AIC:               } &    -2095.   \\\\\n",
       "\\textbf{Df Residuals:}        &        1542      & \\textbf{  BIC:               } &    -2046.   \\\\\n",
       "\\textbf{Df Model:}            &           8      & \\textbf{                     } &             \\\\\n",
       "\\textbf{Covariance Type:}     &    nonrobust     & \\textbf{                     } &             \\\\\n",
       "\\bottomrule\n",
       "\\end{tabular}\n",
       "\\begin{tabular}{lcccccc}\n",
       "                              & \\textbf{coef} & \\textbf{std err} & \\textbf{t} & \\textbf{P$> |$t$|$} & \\textbf{[0.025} & \\textbf{0.975]}  \\\\\n",
       "\\midrule\n",
       "\\textbf{const}                &       0.0877  &        0.009     &     9.949  &         0.000        &        0.070    &        0.105     \\\\\n",
       "\\textbf{textcount}            &       0.4912  &        0.186     &     2.644  &         0.008        &        0.127    &        0.856     \\\\\n",
       "\\textbf{indegree}             &       0.1307  &        0.063     &     2.062  &         0.039        &        0.006    &        0.255     \\\\\n",
       "\\textbf{outdegree}            &       0.2013  &        0.096     &     2.088  &         0.037        &        0.012    &        0.390     \\\\\n",
       "\\textbf{betweenesscentrality} &      -0.5433  &        0.176     &    -3.084  &         0.002        &       -0.889    &       -0.198     \\\\\n",
       "\\textbf{age}                  &       0.0226  &        0.014     &     1.609  &         0.108        &       -0.005    &        0.050     \\\\\n",
       "\\textbf{followers\\_count}     &      -0.0399  &        0.067     &    -0.597  &         0.551        &       -0.171    &        0.091     \\\\\n",
       "\\textbf{following\\_count}     &       0.0957  &        0.071     &     1.345  &         0.179        &       -0.044    &        0.235     \\\\\n",
       "\\textbf{tweet\\_count}         &      -0.1857  &        0.038     &    -4.946  &         0.000        &       -0.259    &       -0.112     \\\\\n",
       "\\bottomrule\n",
       "\\end{tabular}\n",
       "\\begin{tabular}{lclc}\n",
       "\\textbf{Omnibus:}       & 114.744 & \\textbf{  Durbin-Watson:     } &     1.876  \\\\\n",
       "\\textbf{Prob(Omnibus):} &   0.000 & \\textbf{  Jarque-Bera (JB):  } &   540.901  \\\\\n",
       "\\textbf{Skew:}          &   0.136 & \\textbf{  Prob(JB):          } & 3.51e-118  \\\\\n",
       "\\textbf{Kurtosis:}      &   5.880 & \\textbf{  Cond. No.          } &      87.6  \\\\\n",
       "\\bottomrule\n",
       "\\end{tabular}\n",
       "%\\caption{OLS Regression Results}\n",
       "\\end{center}\n",
       "\n",
       "Notes: \\newline\n",
       " [1] Standard Errors assume that the covariance matrix of the errors is correctly specified."
      ],
      "text/plain": [
       "<class 'statsmodels.iolib.summary.Summary'>\n",
       "\"\"\"\n",
       "                            OLS Regression Results                            \n",
       "==============================================================================\n",
       "Dep. Variable:               compound   R-squared:                       0.034\n",
       "Model:                            OLS   Adj. R-squared:                  0.029\n",
       "Method:                 Least Squares   F-statistic:                     6.818\n",
       "Date:                Thu, 21 Dec 2023   Prob (F-statistic):           7.87e-09\n",
       "Time:                        00:40:00   Log-Likelihood:                 1056.3\n",
       "No. Observations:                1551   AIC:                            -2095.\n",
       "Df Residuals:                    1542   BIC:                            -2046.\n",
       "Df Model:                           8                                         \n",
       "Covariance Type:            nonrobust                                         \n",
       "========================================================================================\n",
       "                           coef    std err          t      P>|t|      [0.025      0.975]\n",
       "----------------------------------------------------------------------------------------\n",
       "const                    0.0877      0.009      9.949      0.000       0.070       0.105\n",
       "textcount                0.4912      0.186      2.644      0.008       0.127       0.856\n",
       "indegree                 0.1307      0.063      2.062      0.039       0.006       0.255\n",
       "outdegree                0.2013      0.096      2.088      0.037       0.012       0.390\n",
       "betweenesscentrality    -0.5433      0.176     -3.084      0.002      -0.889      -0.198\n",
       "age                      0.0226      0.014      1.609      0.108      -0.005       0.050\n",
       "followers_count         -0.0399      0.067     -0.597      0.551      -0.171       0.091\n",
       "following_count          0.0957      0.071      1.345      0.179      -0.044       0.235\n",
       "tweet_count             -0.1857      0.038     -4.946      0.000      -0.259      -0.112\n",
       "==============================================================================\n",
       "Omnibus:                      114.744   Durbin-Watson:                   1.876\n",
       "Prob(Omnibus):                  0.000   Jarque-Bera (JB):              540.901\n",
       "Skew:                           0.136   Prob(JB):                    3.51e-118\n",
       "Kurtosis:                       5.880   Cond. No.                         87.6\n",
       "==============================================================================\n",
       "\n",
       "Notes:\n",
       "[1] Standard Errors assume that the covariance matrix of the errors is correctly specified.\n",
       "\"\"\""
      ]
     },
     "execution_count": 44,
     "metadata": {},
     "output_type": "execute_result"
    }
   ],
   "source": [
    "model_sm.summary()"
   ]
  },
  {
   "cell_type": "code",
   "execution_count": 49,
   "id": "12f512ff",
   "metadata": {
    "ExecuteTime": {
     "end_time": "2023-12-20T16:46:01.104881Z",
     "start_time": "2023-12-20T16:46:01.081744Z"
    }
   },
   "outputs": [
    {
     "data": {
      "text/html": [
       "<div>\n",
       "<style scoped>\n",
       "    .dataframe tbody tr th:only-of-type {\n",
       "        vertical-align: middle;\n",
       "    }\n",
       "\n",
       "    .dataframe tbody tr th {\n",
       "        vertical-align: top;\n",
       "    }\n",
       "\n",
       "    .dataframe thead th {\n",
       "        text-align: right;\n",
       "    }\n",
       "</style>\n",
       "<table border=\"1\" class=\"dataframe\">\n",
       "  <thead>\n",
       "    <tr style=\"text-align: right;\">\n",
       "      <th></th>\n",
       "      <th>Variable</th>\n",
       "      <th>VIF</th>\n",
       "    </tr>\n",
       "  </thead>\n",
       "  <tbody>\n",
       "    <tr>\n",
       "      <th>0</th>\n",
       "      <td>const</td>\n",
       "      <td>7.987959</td>\n",
       "    </tr>\n",
       "    <tr>\n",
       "      <th>1</th>\n",
       "      <td>textcount</td>\n",
       "      <td>3.696576</td>\n",
       "    </tr>\n",
       "    <tr>\n",
       "      <th>2</th>\n",
       "      <td>indegree</td>\n",
       "      <td>1.473808</td>\n",
       "    </tr>\n",
       "    <tr>\n",
       "      <th>3</th>\n",
       "      <td>outdegree</td>\n",
       "      <td>2.115410</td>\n",
       "    </tr>\n",
       "    <tr>\n",
       "      <th>4</th>\n",
       "      <td>betweenesscentrality</td>\n",
       "      <td>2.933937</td>\n",
       "    </tr>\n",
       "    <tr>\n",
       "      <th>5</th>\n",
       "      <td>age</td>\n",
       "      <td>1.093296</td>\n",
       "    </tr>\n",
       "    <tr>\n",
       "      <th>6</th>\n",
       "      <td>followers_count</td>\n",
       "      <td>1.344623</td>\n",
       "    </tr>\n",
       "    <tr>\n",
       "      <th>7</th>\n",
       "      <td>following_count</td>\n",
       "      <td>1.071088</td>\n",
       "    </tr>\n",
       "    <tr>\n",
       "      <th>8</th>\n",
       "      <td>tweet_count</td>\n",
       "      <td>1.164886</td>\n",
       "    </tr>\n",
       "  </tbody>\n",
       "</table>\n",
       "</div>"
      ],
      "text/plain": [
       "               Variable       VIF\n",
       "0                 const  7.987959\n",
       "1             textcount  3.696576\n",
       "2              indegree  1.473808\n",
       "3             outdegree  2.115410\n",
       "4  betweenesscentrality  2.933937\n",
       "5                   age  1.093296\n",
       "6       followers_count  1.344623\n",
       "7       following_count  1.071088\n",
       "8           tweet_count  1.164886"
      ]
     },
     "execution_count": 49,
     "metadata": {},
     "output_type": "execute_result"
    }
   ],
   "source": [
    "# 计算方差膨胀因子（VIF）\n",
    "vif_data = pd.DataFrame()\n",
    "vif_data[\"Variable\"] = X_with_intercept.columns\n",
    "vif_data[\"VIF\"] = [variance_inflation_factor(X_with_intercept.values, i) for i in range(X_with_intercept.shape[1])]\n",
    "\n",
    "# 打印 VIF 数据框\n",
    "vif_data"
   ]
  },
  {
   "cell_type": "markdown",
   "id": "73c0525d",
   "metadata": {},
   "source": [
    "上述代码中，variance_inflation_factor 函数来自 statsmodels.stats.outliers_influence 模块，用于计算每个自变量的方差膨胀因子（VIF）。VIF 用于检测多重共线性，一般来说，VIF 大于10可能表示存在共线性问题。"
   ]
  },
  {
   "cell_type": "code",
   "execution_count": null,
   "id": "45eb3cd4",
   "metadata": {},
   "outputs": [],
   "source": []
  }
 ],
 "metadata": {
  "kernelspec": {
   "display_name": "Python 3 (ipykernel)",
   "language": "python",
   "name": "python3"
  },
  "language_info": {
   "codemirror_mode": {
    "name": "ipython",
    "version": 3
   },
   "file_extension": ".py",
   "mimetype": "text/x-python",
   "name": "python",
   "nbconvert_exporter": "python",
   "pygments_lexer": "ipython3",
   "version": "3.11.5"
  }
 },
 "nbformat": 4,
 "nbformat_minor": 5
}
